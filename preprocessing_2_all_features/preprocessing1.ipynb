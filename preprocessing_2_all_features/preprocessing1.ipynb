{
 "cells": [
  {
   "cell_type": "markdown",
   "metadata": {},
   "source": [
    "# Preprocessing"
   ]
  },
  {
   "cell_type": "code",
   "execution_count": 139,
   "metadata": {},
   "outputs": [],
   "source": [
    "import pandas as pd\n",
    "import numpy as np\n",
    "import matplotlib.pyplot as plt\n",
    "\n",
    "from sklearn.impute import SimpleImputer\n",
    "from sklearn.preprocessing import OneHotEncoder, MinMaxScaler, StandardScaler, RobustScaler, MaxAbsScaler, Normalizer\n",
    "from sklearn.pipeline import Pipeline\n",
    "from sklearn.compose import ColumnTransformer\n",
    "from sklearn.model_selection import train_test_split\n",
    "\n",
    "from sklearn import set_config\n",
    "set_config(transform_output='pandas')\n",
    "\n",
    "from category_encoders import OrdinalEncoder\n"
   ]
  },
  {
   "cell_type": "code",
   "execution_count": 140,
   "metadata": {},
   "outputs": [],
   "source": [
    "df = pd.read_csv('../data/train.csv')"
   ]
  },
  {
   "cell_type": "markdown",
   "metadata": {},
   "source": [
    "##### Imputing nulls with constant"
   ]
  },
  {
   "cell_type": "code",
   "execution_count": 141,
   "metadata": {},
   "outputs": [],
   "source": [
    "  # LotFrontage - 0\n",
    "  # MasVnrArea - 0\n",
    "\n",
    "  # MasVnrType -\tNone\n",
    "\n",
    "  # Electrical\t- median\n",
    "\n",
    "  # Alley\t- NA\n",
    "  # BsmtQual - NA\n",
    "  # BsmtCond - NA\n",
    "  # BsmtExposure - NA\n",
    "  # BsmtFinType1 - NA\n",
    "  # BsmtFinType2 - NA\n",
    "  # FireplaceQu\t- NA\n",
    "  # GarageType\t- NA\n",
    "  # GarageYrBlt\t- NA\n",
    "  # GarageFinish - NA\n",
    "  # GarageQual - NA\n",
    "  # GarageCond - NA\n",
    "  # PoolQC - NA\n",
    "  # Fence - NA\n",
    "  # MiscFeature\t- NA"
   ]
  },
  {
   "cell_type": "markdown",
   "metadata": {},
   "source": [
    "# Separating Categorial vs Numeric"
   ]
  },
  {
   "cell_type": "markdown",
   "metadata": {},
   "source": [
    "### Impute"
   ]
  },
  {
   "cell_type": "code",
   "execution_count": 164,
   "metadata": {},
   "outputs": [],
   "source": [
    "### Categorical Nominal\n",
    "impute_na = ['Alley', 'GarageType', 'GarageYrBlt', 'Fence',]\n",
    "impute_none = ['MasVnrType']\n",
    "impute_median = ['Electrical']\n",
    "\n",
    "### Categorical Ordinal\n",
    "impute_na = ['BsmtQual', 'BsmtCond', 'BsmtExposure', 'BsmtFinType1', 'BsmtFinType2',\n",
    "             'FireplaceQu', 'GarageFinish', 'GarageQual', 'GarageCond', 'PoolQC', 'MiscFeature']\n",
    "\n",
    "### Numeric\n",
    "impute_zero = ['LotFrontage', 'MasVnrArea']"
   ]
  },
  {
   "cell_type": "code",
   "execution_count": 143,
   "metadata": {},
   "outputs": [],
   "source": [
    "imputer_na = SimpleImputer(strategy='constant', fill_value='NA')\n",
    "imputer_none = SimpleImputer(strategy='constant', fill_value='None')\n",
    "imputer_most = SimpleImputer(strategy='most_frequent')\n",
    "\n",
    "imputer_zero = SimpleImputer(strategy='constant', fill_value=0)"
   ]
  },
  {
   "cell_type": "code",
   "execution_count": 144,
   "metadata": {},
   "outputs": [],
   "source": [
    "scaler_standard = StandardScaler()\n",
    "scaler_robust = RobustScaler()"
   ]
  },
  {
   "cell_type": "code",
   "execution_count": 145,
   "metadata": {},
   "outputs": [],
   "source": [
    "ohe = OneHotEncoder(sparse_output=False, drop='if_binary', handle_unknown='ignore')"
   ]
  },
  {
   "cell_type": "markdown",
   "metadata": {},
   "source": [
    "### Encode"
   ]
  },
  {
   "cell_type": "code",
   "execution_count": 146,
   "metadata": {},
   "outputs": [],
   "source": [
    "dict_na_ex_6 = {'NA':0,'Po':1,'Fa':2,'TA':3,'Gd':4,'Ex':5}\n",
    "dict_na_gd_5 = {'NA':0,'No':1,'Mn':2,'Av':3,'Gd':4}\n",
    "dict_bsmt = {'NA':0,'Unf':1,'LwQ':2,'Rec':3,'BLQ':4,'ALQ':5,'GLQ':6}\n",
    "dict_garage = {'NA':0,'Unf':1,'RFn':2,'Fin':3}\n",
    "\n",
    "\n",
    "imputed_cat_map = [\n",
    "  {'col':'BsmtQual','mapping':dict_na_ex_6},\n",
    "  {'col':'BsmtCond','mapping':dict_na_ex_6},\n",
    "  {'col':'BsmtExposure','mapping':dict_na_gd_5},\n",
    "  {'col':'BsmtFinType1','mapping':dict_bsmt},\n",
    "  {'col':'BsmtFinType2','mapping':dict_bsmt},\n",
    "  {'col':'FireplaceQu','mapping':dict_na_ex_6},\n",
    "  {'col':'GarageFinish','mapping':dict_garage},\n",
    "  {'col':'GarageQual','mapping':dict_na_ex_6},\n",
    "  {'col':'GarageCond','mapping':dict_na_ex_6},\n",
    "  {'col':'PoolQC','mapping':dict_na_ex_6}\n",
    "  ]\n"
   ]
  },
  {
   "cell_type": "code",
   "execution_count": 147,
   "metadata": {},
   "outputs": [],
   "source": [
    "### Categorical Nominal\n",
    "impute_na = ['Alley', 'GarageType', 'GarageYrBlt', 'PoolQC', 'Fence', 'MiscFeature']\n",
    "impute_none = ['MasVnrType']\n",
    "impute_most = ['Electrical']\n",
    "\n",
    "### Categorical Ordinal\n",
    "impute_na = ['BsmtQual', 'BsmtCond', 'BsmtExposure', 'BsmtFinType1', 'BsmtFinType2',\n",
    "             'FireplaceQu', 'GarageFinish', 'GarageQual', 'GarageCond', 'PoolQC']\n",
    "\n",
    "### Numeric\n",
    "impute_zero = ['LotFrontage', 'MasVnrArea']\n"
   ]
  },
  {
   "cell_type": "markdown",
   "metadata": {},
   "source": [
    "### Pipes that need imputing"
   ]
  },
  {
   "cell_type": "code",
   "execution_count": 148,
   "metadata": {},
   "outputs": [],
   "source": [
    "# Nominal, impute with NA, then use OHE\n",
    "nom_na_pipe = Pipeline([('imputer_na', imputer_na),('ohe', ohe)])\n",
    "\n",
    "# Nominal, impute with None, then use OHE\n",
    "nom_none_pipe = Pipeline([('imputer_none', imputer_none),('ohe', ohe)])\n",
    "\n",
    "# Nominal, impute with most frequent, then use OHE\n",
    "nom_most_pipe = Pipeline([('imputer_most', imputer_most),('ohe', ohe)])\n",
    "\n",
    "# Ordinal, impute with NA, then use ORD\n",
    "ord_na_pipe = Pipeline([('imputer_na', imputer_na),('ord', OrdinalEncoder(mapping=imputed_cat_map))])\n",
    "\n",
    "# Impute with 0, then use RobustScaler\n",
    "num_robust_pipe = Pipeline([('imputer_zero', imputer_zero),('scaler', scaler_robust)])"
   ]
  },
  {
   "cell_type": "code",
   "execution_count": 149,
   "metadata": {},
   "outputs": [],
   "source": [
    "nom_na_features = ['Alley', 'GarageType', 'GarageYrBlt', 'Fence', 'MiscFeature']\n",
    "nom_none_features = ['MasVnrType']\n",
    "nom_most_features = ['Electrical']\n",
    "ord_na_features = ['BsmtQual', 'BsmtCond', 'BsmtExposure', 'BsmtFinType1', 'BsmtFinType2',\n",
    "             'FireplaceQu', 'GarageFinish', 'GarageQual', 'GarageCond', 'PoolQC']\n",
    "num_robust_features = ['LotFrontage', 'MasVnrArea']"
   ]
  },
  {
   "cell_type": "markdown",
   "metadata": {},
   "source": [
    "### Pipes that don't need imputing"
   ]
  },
  {
   "cell_type": "code",
   "execution_count": 150,
   "metadata": {},
   "outputs": [],
   "source": [
    "nominal_pipe = Pipeline([('ohe',ohe)])\n",
    "# ordinal_pipe = Pipeline([()])\n",
    "numeric_ss_pipe = Pipeline([('standard_scaler', scaler_standard)])\n",
    "numeric_rs_pipe = Pipeline([('robust_scaler', scaler_robust)])\n"
   ]
  },
  {
   "cell_type": "code",
   "execution_count": 151,
   "metadata": {},
   "outputs": [],
   "source": [
    "# nominal_features = ['CentralAir','MSSubClass','MSZoning','Street','LotShape','LandContour',\n",
    "#                     'Utilities','LotConfig','LandSlope','Neighborhood','Condition1','Condition2',\n",
    "#                     'BldgType','HouseStyle','RoofStyle','RoofMatl','Exterior1st','Exterior2nd',\n",
    "#                     'Foundation','Heating','KitchenQual',\n",
    "#                     'PavedDrive','MoSold','SaleType','SaleCondition']\n",
    "# ordinal_features = ['OverallQual','OverallCond','ExterQual','ExterCond','HeatingQC','Functional']\n",
    "numeric_ss_features = []\n",
    "numeric_rs_features = []\n",
    "\n",
    "temp_all_cat = ['CentralAir','MSSubClass','MSZoning','Street','LotShape','LandContour',\n",
    "                    'Utilities','LotConfig','LandSlope','Neighborhood','Condition1','Condition2',\n",
    "                    'BldgType','HouseStyle','RoofStyle','RoofMatl','Exterior1st','Exterior2nd',\n",
    "                    'Foundation','Heating','KitchenQual', 'PavedDrive','MoSold','SaleType',\n",
    "                    'SaleCondition','OverallQual','OverallCond','ExterQual','ExterCond','HeatingQC','Functional']"
   ]
  },
  {
   "cell_type": "code",
   "execution_count": 152,
   "metadata": {},
   "outputs": [],
   "source": [
    "preprocessor = ColumnTransformer([\n",
    "  # features that require imputing\n",
    "  ('nom_na_pipe', nom_na_pipe, nom_na_features),\n",
    "  ('nom_none_pipe', nom_none_pipe, nom_none_features),\n",
    "  ('nom_most_pipe', nom_most_pipe, nom_most_features),\n",
    "  ('ord_na_pipe', ord_na_pipe, ord_na_features),\n",
    "  ('num_zero_robust_pipe', num_robust_pipe, num_robust_features),\n",
    "\n",
    "  # features that do not require imputing\n",
    "  ('nominal_pipe', nominal_pipe, temp_all_cat),\n",
    "  # ('ordinal_pipe', ordinal_pipe, ordinal_features),\n",
    "  ('numeric_ss_pipe', numeric_ss_pipe, numeric_ss_features),\n",
    "  ('numeric_rs_pipe', numeric_rs_pipe, numeric_rs_features)\n",
    "])"
   ]
  },
  {
   "cell_type": "code",
   "execution_count": 158,
   "metadata": {},
   "outputs": [],
   "source": [
    "preprocessor2 = ColumnTransformer([\n",
    "  # features that require imputing\n",
    "  ('nom_na_pipe', nom_na_pipe, nom_na_features),\n",
    "  # ('nom_none_pipe', nom_none_pipe, nom_none_features),\n",
    "  # ('nom_most_pipe', nom_most_pipe, nom_most_features),\n",
    "  # ('ord_na_pipe', ord_na_pipe, ord_na_features),\n",
    "  # ('num_zero_robust_pipe', num_robust_pipe, num_robust_features),\n",
    "\n",
    "  # # features that do not require imputing\n",
    "  # ('nominal_pipe', nominal_pipe, temp_all_cat),\n",
    "  # # ('ordinal_pipe', ordinal_pipe, ordinal_features),\n",
    "  # ('numeric_ss_pipe', numeric_ss_pipe, numeric_ss_features),\n",
    "  # ('numeric_rs_pipe', numeric_rs_pipe, numeric_rs_features)\n",
    "])"
   ]
  },
  {
   "cell_type": "markdown",
   "metadata": {},
   "source": [
    "# Train-val split"
   ]
  },
  {
   "cell_type": "code",
   "execution_count": 153,
   "metadata": {},
   "outputs": [],
   "source": [
    "X = df.drop(columns='SalePrice')\n",
    "y = df['SalePrice'].copy()\n",
    "\n",
    "X_train, X_val, y_train, y_val = train_test_split(X, y, test_size=0.2, random_state=42)"
   ]
  },
  {
   "cell_type": "code",
   "execution_count": 156,
   "metadata": {},
   "outputs": [
    {
     "data": {
      "text/html": [
       "<div>\n",
       "<style scoped>\n",
       "    .dataframe tbody tr th:only-of-type {\n",
       "        vertical-align: middle;\n",
       "    }\n",
       "\n",
       "    .dataframe tbody tr th {\n",
       "        vertical-align: top;\n",
       "    }\n",
       "\n",
       "    .dataframe thead th {\n",
       "        text-align: right;\n",
       "    }\n",
       "</style>\n",
       "<table border=\"1\" class=\"dataframe\">\n",
       "  <thead>\n",
       "    <tr style=\"text-align: right;\">\n",
       "      <th></th>\n",
       "      <th>Id</th>\n",
       "      <th>MSSubClass</th>\n",
       "      <th>MSZoning</th>\n",
       "      <th>LotFrontage</th>\n",
       "      <th>LotArea</th>\n",
       "      <th>Street</th>\n",
       "      <th>Alley</th>\n",
       "      <th>LotShape</th>\n",
       "      <th>LandContour</th>\n",
       "      <th>Utilities</th>\n",
       "      <th>...</th>\n",
       "      <th>ScreenPorch</th>\n",
       "      <th>PoolArea</th>\n",
       "      <th>PoolQC</th>\n",
       "      <th>Fence</th>\n",
       "      <th>MiscFeature</th>\n",
       "      <th>MiscVal</th>\n",
       "      <th>MoSold</th>\n",
       "      <th>YrSold</th>\n",
       "      <th>SaleType</th>\n",
       "      <th>SaleCondition</th>\n",
       "    </tr>\n",
       "  </thead>\n",
       "  <tbody>\n",
       "    <tr>\n",
       "      <th>254</th>\n",
       "      <td>255</td>\n",
       "      <td>20</td>\n",
       "      <td>RL</td>\n",
       "      <td>70.0</td>\n",
       "      <td>8400</td>\n",
       "      <td>Pave</td>\n",
       "      <td>NaN</td>\n",
       "      <td>Reg</td>\n",
       "      <td>Lvl</td>\n",
       "      <td>AllPub</td>\n",
       "      <td>...</td>\n",
       "      <td>0</td>\n",
       "      <td>0</td>\n",
       "      <td>NaN</td>\n",
       "      <td>NaN</td>\n",
       "      <td>NaN</td>\n",
       "      <td>0</td>\n",
       "      <td>6</td>\n",
       "      <td>2010</td>\n",
       "      <td>WD</td>\n",
       "      <td>Normal</td>\n",
       "    </tr>\n",
       "    <tr>\n",
       "      <th>1066</th>\n",
       "      <td>1067</td>\n",
       "      <td>60</td>\n",
       "      <td>RL</td>\n",
       "      <td>59.0</td>\n",
       "      <td>7837</td>\n",
       "      <td>Pave</td>\n",
       "      <td>NaN</td>\n",
       "      <td>IR1</td>\n",
       "      <td>Lvl</td>\n",
       "      <td>AllPub</td>\n",
       "      <td>...</td>\n",
       "      <td>0</td>\n",
       "      <td>0</td>\n",
       "      <td>NaN</td>\n",
       "      <td>NaN</td>\n",
       "      <td>NaN</td>\n",
       "      <td>0</td>\n",
       "      <td>5</td>\n",
       "      <td>2009</td>\n",
       "      <td>WD</td>\n",
       "      <td>Normal</td>\n",
       "    </tr>\n",
       "    <tr>\n",
       "      <th>638</th>\n",
       "      <td>639</td>\n",
       "      <td>30</td>\n",
       "      <td>RL</td>\n",
       "      <td>67.0</td>\n",
       "      <td>8777</td>\n",
       "      <td>Pave</td>\n",
       "      <td>NaN</td>\n",
       "      <td>Reg</td>\n",
       "      <td>Lvl</td>\n",
       "      <td>AllPub</td>\n",
       "      <td>...</td>\n",
       "      <td>0</td>\n",
       "      <td>0</td>\n",
       "      <td>NaN</td>\n",
       "      <td>MnPrv</td>\n",
       "      <td>NaN</td>\n",
       "      <td>0</td>\n",
       "      <td>5</td>\n",
       "      <td>2008</td>\n",
       "      <td>WD</td>\n",
       "      <td>Normal</td>\n",
       "    </tr>\n",
       "    <tr>\n",
       "      <th>799</th>\n",
       "      <td>800</td>\n",
       "      <td>50</td>\n",
       "      <td>RL</td>\n",
       "      <td>60.0</td>\n",
       "      <td>7200</td>\n",
       "      <td>Pave</td>\n",
       "      <td>NaN</td>\n",
       "      <td>Reg</td>\n",
       "      <td>Lvl</td>\n",
       "      <td>AllPub</td>\n",
       "      <td>...</td>\n",
       "      <td>0</td>\n",
       "      <td>0</td>\n",
       "      <td>NaN</td>\n",
       "      <td>MnPrv</td>\n",
       "      <td>NaN</td>\n",
       "      <td>0</td>\n",
       "      <td>6</td>\n",
       "      <td>2007</td>\n",
       "      <td>WD</td>\n",
       "      <td>Normal</td>\n",
       "    </tr>\n",
       "    <tr>\n",
       "      <th>380</th>\n",
       "      <td>381</td>\n",
       "      <td>50</td>\n",
       "      <td>RL</td>\n",
       "      <td>50.0</td>\n",
       "      <td>5000</td>\n",
       "      <td>Pave</td>\n",
       "      <td>Pave</td>\n",
       "      <td>Reg</td>\n",
       "      <td>Lvl</td>\n",
       "      <td>AllPub</td>\n",
       "      <td>...</td>\n",
       "      <td>0</td>\n",
       "      <td>0</td>\n",
       "      <td>NaN</td>\n",
       "      <td>NaN</td>\n",
       "      <td>NaN</td>\n",
       "      <td>0</td>\n",
       "      <td>5</td>\n",
       "      <td>2010</td>\n",
       "      <td>WD</td>\n",
       "      <td>Normal</td>\n",
       "    </tr>\n",
       "  </tbody>\n",
       "</table>\n",
       "<p>5 rows × 80 columns</p>\n",
       "</div>"
      ],
      "text/plain": [
       "        Id  MSSubClass MSZoning  LotFrontage  LotArea Street Alley LotShape  \\\n",
       "254    255          20       RL         70.0     8400   Pave   NaN      Reg   \n",
       "1066  1067          60       RL         59.0     7837   Pave   NaN      IR1   \n",
       "638    639          30       RL         67.0     8777   Pave   NaN      Reg   \n",
       "799    800          50       RL         60.0     7200   Pave   NaN      Reg   \n",
       "380    381          50       RL         50.0     5000   Pave  Pave      Reg   \n",
       "\n",
       "     LandContour Utilities  ... ScreenPorch PoolArea PoolQC  Fence  \\\n",
       "254          Lvl    AllPub  ...           0        0    NaN    NaN   \n",
       "1066         Lvl    AllPub  ...           0        0    NaN    NaN   \n",
       "638          Lvl    AllPub  ...           0        0    NaN  MnPrv   \n",
       "799          Lvl    AllPub  ...           0        0    NaN  MnPrv   \n",
       "380          Lvl    AllPub  ...           0        0    NaN    NaN   \n",
       "\n",
       "     MiscFeature MiscVal MoSold  YrSold  SaleType  SaleCondition  \n",
       "254          NaN       0      6    2010        WD         Normal  \n",
       "1066         NaN       0      5    2009        WD         Normal  \n",
       "638          NaN       0      5    2008        WD         Normal  \n",
       "799          NaN       0      6    2007        WD         Normal  \n",
       "380          NaN       0      5    2010        WD         Normal  \n",
       "\n",
       "[5 rows x 80 columns]"
      ]
     },
     "execution_count": 156,
     "metadata": {},
     "output_type": "execute_result"
    }
   ],
   "source": [
    "X_train.head()"
   ]
  },
  {
   "cell_type": "code",
   "execution_count": null,
   "metadata": {},
   "outputs": [],
   "source": [
    "# preprocessor.fit(X_train)\n",
    "\n",
    "# X_train_proc = preprocessor.transform(X_train)\n",
    "# X_test_proc = preprocessor.transform(X_val)"
   ]
  }
 ],
 "metadata": {
  "kernelspec": {
   "display_name": "Python 3",
   "language": "python",
   "name": "python3"
  },
  "language_info": {
   "codemirror_mode": {
    "name": "ipython",
    "version": 3
   },
   "file_extension": ".py",
   "mimetype": "text/x-python",
   "name": "python",
   "nbconvert_exporter": "python",
   "pygments_lexer": "ipython3",
   "version": "3.12.8"
  }
 },
 "nbformat": 4,
 "nbformat_minor": 2
}
