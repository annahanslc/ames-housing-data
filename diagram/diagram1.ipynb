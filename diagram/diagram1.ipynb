{
 "cells": [
  {
   "cell_type": "markdown",
   "metadata": {},
   "source": [
    "# Pipeline Diagram"
   ]
  },
  {
   "cell_type": "code",
   "execution_count": 3,
   "metadata": {},
   "outputs": [],
   "source": [
    "# # using pip (pip3)\n",
    "# !pip install diagrams\n",
    "\n",
    "# # using pipenv\n",
    "# !pipenv install diagrams\n",
    "\n",
    "# # using poetry\n",
    "# !poetry add diagrams"
   ]
  },
  {
   "cell_type": "code",
   "execution_count": 9,
   "metadata": {},
   "outputs": [],
   "source": [
    "# ! python diagram.py"
   ]
  },
  {
   "cell_type": "code",
   "execution_count": 36,
   "metadata": {},
   "outputs": [],
   "source": [
    "from diagrams.elastic.agent import Integrations, Fleet, Endpoint, Agent\n",
    "from diagrams.elastic.elasticsearch import SQL, Stack, LogstashPipeline\n",
    "from diagrams.elastic.observability import APM, Logs, Metrics, Observability\n",
    "from diagrams.elastic.enterprisesearch import Crawler\n",
    "from diagrams.elastic.saas import Elastic\n",
    "from diagrams.elastic.beats import Functionbeat, Metricbeat"
   ]
  },
  {
   "cell_type": "code",
   "execution_count": 38,
   "metadata": {},
   "outputs": [],
   "source": [
    "with Diagram(\"Pipeline\", show=False):\n",
    "    source = SQL(\"Dataset\")\n",
    "    drop = LogstashPipeline(\"Drop Columns\")\n",
    "\n",
    "    with Cluster(\"Pipeline\"):\n",
    "        with Cluster(\"Col Transformer for Imputering\"):\n",
    "            workers = [Endpoint(\"Impute with NA\"),\n",
    "                       Endpoint(\"Impute with None\"),\n",
    "                       Endpoint(\"Impute with 0\")]\n",
    "\n",
    "        queue = SQL(\"Recombine\")\n",
    "\n",
    "        with Cluster(\"Col Transformer for Encoding & Scaling\"):\n",
    "            handlers = [Crawler(\"Nominal Encoder\"),\n",
    "                        Crawler(\"Ordinal Encoder\"),\n",
    "                        Crawler(\"StandardScaler\"),\n",
    "                        Crawler(\"RobustScaler\")]\n",
    "\n",
    "        queue2 = SQL(\"Recombine\")\n",
    "\n",
    "    dw = Functionbeat(\"Model\")\n",
    "    store = Metricbeat(\"Prediction\")\n",
    "\n",
    "\n",
    "    source >> drop >> workers >> queue >> handlers >> queue2\n",
    "    queue2 >> dw\n",
    "    dw >> store"
   ]
  },
  {
   "cell_type": "code",
   "execution_count": null,
   "metadata": {},
   "outputs": [],
   "source": []
  }
 ],
 "metadata": {
  "kernelspec": {
   "display_name": "Python 3",
   "language": "python",
   "name": "python3"
  },
  "language_info": {
   "codemirror_mode": {
    "name": "ipython",
    "version": 3
   },
   "file_extension": ".py",
   "mimetype": "text/x-python",
   "name": "python",
   "nbconvert_exporter": "python",
   "pygments_lexer": "ipython3",
   "version": "3.12.8"
  }
 },
 "nbformat": 4,
 "nbformat_minor": 2
}
