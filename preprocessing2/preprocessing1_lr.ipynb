{
 "cells": [
  {
   "cell_type": "markdown",
   "metadata": {},
   "source": [
    "# Preprocessing 2 - All Data 1"
   ]
  },
  {
   "cell_type": "code",
   "execution_count": 1,
   "metadata": {},
   "outputs": [],
   "source": [
    "import pandas as pd\n",
    "import numpy as np\n",
    "import matplotlib.pyplot as plt\n",
    "\n",
    "from sklearn.impute import SimpleImputer\n",
    "from sklearn.preprocessing import OneHotEncoder, MinMaxScaler, StandardScaler, RobustScaler, MaxAbsScaler, Normalizer, FunctionTransformer\n",
    "from sklearn.pipeline import Pipeline\n",
    "from sklearn.compose import ColumnTransformer\n",
    "from sklearn.model_selection import train_test_split\n",
    "\n",
    "from sklearn import set_config\n",
    "set_config(transform_output='pandas')\n",
    "\n",
    "from category_encoders import OrdinalEncoder\n",
    "\n",
    "from src.helpers import *"
   ]
  },
  {
   "cell_type": "code",
   "execution_count": 2,
   "metadata": {},
   "outputs": [],
   "source": [
    "df = pd.read_csv('../data/train.csv')"
   ]
  },
  {
   "cell_type": "code",
   "execution_count": 3,
   "metadata": {},
   "outputs": [
    {
     "name": "stdout",
     "output_type": "stream",
     "text": [
      "<class 'pandas.core.frame.DataFrame'>\n",
      "RangeIndex: 1460 entries, 0 to 1459\n",
      "Data columns (total 81 columns):\n",
      " #   Column         Non-Null Count  Dtype  \n",
      "---  ------         --------------  -----  \n",
      " 0   Id             1460 non-null   int64  \n",
      " 1   MSSubClass     1460 non-null   int64  \n",
      " 2   MSZoning       1460 non-null   object \n",
      " 3   LotFrontage    1201 non-null   float64\n",
      " 4   LotArea        1460 non-null   int64  \n",
      " 5   Street         1460 non-null   object \n",
      " 6   Alley          91 non-null     object \n",
      " 7   LotShape       1460 non-null   object \n",
      " 8   LandContour    1460 non-null   object \n",
      " 9   Utilities      1460 non-null   object \n",
      " 10  LotConfig      1460 non-null   object \n",
      " 11  LandSlope      1460 non-null   object \n",
      " 12  Neighborhood   1460 non-null   object \n",
      " 13  Condition1     1460 non-null   object \n",
      " 14  Condition2     1460 non-null   object \n",
      " 15  BldgType       1460 non-null   object \n",
      " 16  HouseStyle     1460 non-null   object \n",
      " 17  OverallQual    1460 non-null   int64  \n",
      " 18  OverallCond    1460 non-null   int64  \n",
      " 19  YearBuilt      1460 non-null   int64  \n",
      " 20  YearRemodAdd   1460 non-null   int64  \n",
      " 21  RoofStyle      1460 non-null   object \n",
      " 22  RoofMatl       1460 non-null   object \n",
      " 23  Exterior1st    1460 non-null   object \n",
      " 24  Exterior2nd    1460 non-null   object \n",
      " 25  MasVnrType     588 non-null    object \n",
      " 26  MasVnrArea     1452 non-null   float64\n",
      " 27  ExterQual      1460 non-null   object \n",
      " 28  ExterCond      1460 non-null   object \n",
      " 29  Foundation     1460 non-null   object \n",
      " 30  BsmtQual       1423 non-null   object \n",
      " 31  BsmtCond       1423 non-null   object \n",
      " 32  BsmtExposure   1422 non-null   object \n",
      " 33  BsmtFinType1   1423 non-null   object \n",
      " 34  BsmtFinSF1     1460 non-null   int64  \n",
      " 35  BsmtFinType2   1422 non-null   object \n",
      " 36  BsmtFinSF2     1460 non-null   int64  \n",
      " 37  BsmtUnfSF      1460 non-null   int64  \n",
      " 38  TotalBsmtSF    1460 non-null   int64  \n",
      " 39  Heating        1460 non-null   object \n",
      " 40  HeatingQC      1460 non-null   object \n",
      " 41  CentralAir     1460 non-null   object \n",
      " 42  Electrical     1459 non-null   object \n",
      " 43  1stFlrSF       1460 non-null   int64  \n",
      " 44  2ndFlrSF       1460 non-null   int64  \n",
      " 45  LowQualFinSF   1460 non-null   int64  \n",
      " 46  GrLivArea      1460 non-null   int64  \n",
      " 47  BsmtFullBath   1460 non-null   int64  \n",
      " 48  BsmtHalfBath   1460 non-null   int64  \n",
      " 49  FullBath       1460 non-null   int64  \n",
      " 50  HalfBath       1460 non-null   int64  \n",
      " 51  BedroomAbvGr   1460 non-null   int64  \n",
      " 52  KitchenAbvGr   1460 non-null   int64  \n",
      " 53  KitchenQual    1460 non-null   object \n",
      " 54  TotRmsAbvGrd   1460 non-null   int64  \n",
      " 55  Functional     1460 non-null   object \n",
      " 56  Fireplaces     1460 non-null   int64  \n",
      " 57  FireplaceQu    770 non-null    object \n",
      " 58  GarageType     1379 non-null   object \n",
      " 59  GarageYrBlt    1379 non-null   float64\n",
      " 60  GarageFinish   1379 non-null   object \n",
      " 61  GarageCars     1460 non-null   int64  \n",
      " 62  GarageArea     1460 non-null   int64  \n",
      " 63  GarageQual     1379 non-null   object \n",
      " 64  GarageCond     1379 non-null   object \n",
      " 65  PavedDrive     1460 non-null   object \n",
      " 66  WoodDeckSF     1460 non-null   int64  \n",
      " 67  OpenPorchSF    1460 non-null   int64  \n",
      " 68  EnclosedPorch  1460 non-null   int64  \n",
      " 69  3SsnPorch      1460 non-null   int64  \n",
      " 70  ScreenPorch    1460 non-null   int64  \n",
      " 71  PoolArea       1460 non-null   int64  \n",
      " 72  PoolQC         7 non-null      object \n",
      " 73  Fence          281 non-null    object \n",
      " 74  MiscFeature    54 non-null     object \n",
      " 75  MiscVal        1460 non-null   int64  \n",
      " 76  MoSold         1460 non-null   int64  \n",
      " 77  YrSold         1460 non-null   int64  \n",
      " 78  SaleType       1460 non-null   object \n",
      " 79  SaleCondition  1460 non-null   object \n",
      " 80  SalePrice      1460 non-null   int64  \n",
      "dtypes: float64(3), int64(35), object(43)\n",
      "memory usage: 924.0+ KB\n"
     ]
    }
   ],
   "source": [
    "df.info()"
   ]
  },
  {
   "cell_type": "markdown",
   "metadata": {},
   "source": [
    "# ---Pipeline---"
   ]
  },
  {
   "cell_type": "markdown",
   "metadata": {},
   "source": [
    "### 1: Convert Integer to String Function Transformer"
   ]
  },
  {
   "cell_type": "code",
   "execution_count": 4,
   "metadata": {},
   "outputs": [],
   "source": [
    "# Converting integers to string for the OrdinalEncoder\n",
    "\n",
    "def convert_int_to_string(data):\n",
    "  return data.astype(str)"
   ]
  },
  {
   "cell_type": "code",
   "execution_count": 5,
   "metadata": {},
   "outputs": [],
   "source": [
    "# Defining the function transformer to be used in the pipeline for converting ['OverallQual', 'OverallCond'] into strings\n",
    "\n",
    "convert_int_to_string_transformer = FunctionTransformer(convert_int_to_string)"
   ]
  },
  {
   "cell_type": "code",
   "execution_count": 6,
   "metadata": {},
   "outputs": [],
   "source": [
    "preprocessor_int_to_string = ColumnTransformer([\n",
    "  ('convert_int_to_string', convert_int_to_string_transformer, ['OverallQual', 'OverallCond'])\n",
    "], remainder='passthrough', verbose_feature_names_out=False)"
   ]
  },
  {
   "cell_type": "markdown",
   "metadata": {},
   "source": [
    "### 2. Filter for features to remove"
   ]
  },
  {
   "cell_type": "code",
   "execution_count": 7,
   "metadata": {},
   "outputs": [],
   "source": [
    "# Defining the list of columns that will go into the pipeline\n",
    "# Remove columns that should not be included in the pipeline\n",
    "\n",
    "all_columns = df.columns.tolist()\n",
    "columns_remove_from_filter = ['SalePrice','Id','Street','Utilities','LowQualFinSF','GarageYrBlt',\n",
    "                              '3SsnPorch']\n",
    "\n",
    "columns_to_keep = [item for item in all_columns if item not in columns_remove_from_filter]"
   ]
  },
  {
   "cell_type": "code",
   "execution_count": 8,
   "metadata": {},
   "outputs": [],
   "source": [
    "# Preprocessor to filter unwanted columns, or unexpected columns.\n",
    "\n",
    "preprocessor_filter = ColumnTransformer([\n",
    "  ('passthrough','passthrough',columns_to_keep)\n",
    "],remainder='drop', verbose_feature_names_out=False)"
   ]
  },
  {
   "cell_type": "markdown",
   "metadata": {},
   "source": [
    "### 3. Imputing null variables"
   ]
  },
  {
   "cell_type": "code",
   "execution_count": 9,
   "metadata": {},
   "outputs": [],
   "source": [
    "# Preprocessor for imputing all null variables\n",
    "\n",
    "cols_impute_na = ['Alley', 'GarageType', 'Fence','BsmtQual', 'BsmtCond', 'BsmtExposure',\n",
    "                  'BsmtFinType1','BsmtFinType2', 'FireplaceQu', 'GarageFinish', 'GarageQual','GarageCond',\n",
    "                  'PoolQC', 'MiscFeature']\n",
    "cols_impute_none = ['MasVnrType']\n",
    "cols_impute_most_freq = ['Electrical']\n",
    "cols_impute_zero = ['LotFrontage', 'MasVnrArea']\n",
    "\n",
    "preprocessor_imputer = ColumnTransformer([\n",
    "  ('impute_na', SimpleImputer(strategy='constant', fill_value='NA'), cols_impute_na),\n",
    "  ('impute_none', SimpleImputer(strategy='constant', fill_value='None'), cols_impute_none),\n",
    "  ('impute_zero', SimpleImputer(strategy='constant', fill_value=0), cols_impute_zero),\n",
    "  ('impute_most_freq', SimpleImputer(strategy='most_frequent'), cols_impute_most_freq)\n",
    "], remainder='passthrough', verbose_feature_names_out=False)"
   ]
  },
  {
   "cell_type": "markdown",
   "metadata": {},
   "source": [
    "### 4. Mapping Ordinal Features"
   ]
  },
  {
   "cell_type": "code",
   "execution_count": 10,
   "metadata": {},
   "outputs": [],
   "source": [
    "# Defining maps for Ordinal categories\n",
    "\n",
    "dict_na_ex_6 = {'NA':0,'Po':1,'Fa':2,'TA':3,'Gd':4,'Ex':5}\n",
    "dict_na_gd_5 = {'NA':0,'No':1,'Mn':2,'Av':3,'Gd':4}\n",
    "dict_bsmt = {'NA':0,'Unf':1,'LwQ':2,'Rec':3,'BLQ':4,'ALQ':5,'GLQ':6}\n",
    "dict_garage = {'NA':0,'Unf':1,'RFn':2,'Fin':3}\n",
    "dict_1_10 = {1:0, 2:1, 3:2, 4:3, 5:4, 6:5, 7:6, 8:7, 9:8, 10:9}\n",
    "dict_fence = {'NA':0, 'MnWw':1, 'GdWo':2, 'MnPrv':3, 'GdPrv':4}\n",
    "\n",
    "\n",
    "ordinal_cat_map = [\n",
    "  {'col':'BsmtQual','mapping':dict_na_ex_6},\n",
    "  {'col':'BsmtCond','mapping':dict_na_ex_6},\n",
    "  {'col':'BsmtExposure','mapping':dict_na_gd_5},\n",
    "  {'col':'BsmtFinType1','mapping':dict_bsmt},\n",
    "  {'col':'BsmtFinType2','mapping':dict_bsmt},\n",
    "  {'col':'FireplaceQu','mapping':dict_na_ex_6},\n",
    "  {'col':'GarageFinish','mapping':dict_garage},\n",
    "  {'col':'GarageQual','mapping':dict_na_ex_6},\n",
    "  {'col':'GarageCond','mapping':dict_na_ex_6},\n",
    "  {'col':'PoolQC','mapping':dict_na_ex_6},\n",
    "  {'col': 'OverallQual', 'mapping':dict_1_10},\n",
    "  {'col': 'OverallCond', 'mapping':dict_1_10},\n",
    "  {'col': 'ExterQual', 'mapping': dict_na_ex_6},\n",
    "  {'col': 'ExterCond', 'mapping': dict_na_ex_6},\n",
    "  {'col': 'HeatingQC', 'mapping': dict_na_ex_6},\n",
    "  {'col': 'KitchenQual', 'mapping': dict_na_ex_6},\n",
    "  {'col': 'Fence', 'mapping': dict_fence}\n",
    "  ]"
   ]
  },
  {
   "cell_type": "markdown",
   "metadata": {},
   "source": [
    "### 5. Encoding and Scaling"
   ]
  },
  {
   "cell_type": "code",
   "execution_count": 11,
   "metadata": {},
   "outputs": [],
   "source": [
    "# Preprocessor for encoding and scaling\n",
    "\n",
    "ohe_cols = ['MSSubClass','MSZoning','Alley','LotShape','LandContour','LotConfig','LandSlope',\n",
    "            'Neighborhood','Condition1','Condition2','BldgType','HouseStyle','RoofStyle','RoofMatl','Exterior1st',\n",
    "            'Exterior2nd','MasVnrType','Foundation','Heating', 'CentralAir','Electrical','Functional',\n",
    "            'GarageType','PavedDrive','MiscFeature','MoSold','YrSold','SaleType','SaleCondition']\n",
    "\n",
    "oe_cols = ['OverallQual','OverallCond','ExterQual','ExterCond','BsmtQual','BsmtCond','BsmtExposure',\n",
    "           'BsmtFinType1','BsmtFinType2','HeatingQC','FireplaceQu', 'GarageFinish','GarageQual', 'GarageCond',\n",
    "           'PoolQC','KitchenQual','Fence']\n",
    "\n",
    "standard_cols = ['LotFrontage','GarageArea']\n",
    "\n",
    "robust_cols = ['LotArea','MasVnrArea','BsmtFinSF1','BsmtFinSF2','BsmtUnfSF','TotalBsmtSF','1stFlrSF','2ndFlrSF',\n",
    "               'GrLivArea','WoodDeckSF','OpenPorchSF','EnclosedPorch','ScreenPorch','PoolArea','MiscVal']\n",
    "\n",
    "minmax_cols = ['YearBuilt','YearRemodAdd']\n",
    "\n",
    "\n",
    "preprocessor_encode_scale = ColumnTransformer([\n",
    "  ('ohe', OneHotEncoder(sparse_output=False, handle_unknown='ignore'), ohe_cols),\n",
    "  ('oe', OrdinalEncoder(), oe_cols),\n",
    "  ('standard_scaler', StandardScaler(), standard_cols),\n",
    "  ('robust_scaler', RobustScaler(), robust_cols),\n",
    "  ('minmax_scaler', MinMaxScaler(), minmax_cols)\n",
    "], remainder='passthrough', verbose_feature_names_out=False)"
   ]
  },
  {
   "cell_type": "markdown",
   "metadata": {},
   "source": [
    "# --- Train/Val Split, Fit & Transform ---"
   ]
  },
  {
   "cell_type": "code",
   "execution_count": 12,
   "metadata": {},
   "outputs": [],
   "source": [
    "# Train/Val split, target feature is SalePrice\n",
    "\n",
    "X = df.drop(columns='SalePrice')\n",
    "y = df['SalePrice'].copy()\n",
    "\n",
    "X_train, X_val, y_train, y_val = train_test_split(X, y, test_size=0.2, random_state=42)"
   ]
  },
  {
   "cell_type": "code",
   "execution_count": 13,
   "metadata": {},
   "outputs": [],
   "source": [
    "# Main pipeline, include all preprocessors\n",
    "\n",
    "main_pipe = Pipeline([\n",
    "  ('preprocessor_int_to_string', preprocessor_int_to_string),\n",
    "  ('preprocessor_filter', preprocessor_filter),\n",
    "  ('preprocessor_imputer', preprocessor_imputer),\n",
    "  ('preprocessor_encode_scale', preprocessor_encode_scale)\n",
    "])"
   ]
  },
  {
   "cell_type": "code",
   "execution_count": 14,
   "metadata": {},
   "outputs": [],
   "source": [
    "# Fit and transform X_train and X_val\n",
    "\n",
    "main_pipe.fit(X_train)\n",
    "\n",
    "X_train_proc = main_pipe.transform(X_train)\n",
    "X_val_proc = main_pipe.transform(X_val)"
   ]
  },
  {
   "cell_type": "code",
   "execution_count": 15,
   "metadata": {},
   "outputs": [
    {
     "data": {
      "text/plain": [
       "259"
      ]
     },
     "execution_count": 15,
     "metadata": {},
     "output_type": "execute_result"
    }
   ],
   "source": [
    "# Checking the number of columns after pipeline\n",
    "\n",
    "len(X_train_proc.columns)"
   ]
  },
  {
   "cell_type": "markdown",
   "metadata": {},
   "source": [
    "# --- Model Evaluation ---"
   ]
  },
  {
   "cell_type": "code",
   "execution_count": 16,
   "metadata": {},
   "outputs": [],
   "source": [
    "from sklearn.linear_model import LinearRegression\n",
    "\n",
    "lr = LinearRegression()\n",
    "lr.fit(X_train_proc, y_train)\n",
    "\n",
    "linear_results_train = evaluate_regression(lr, X_train_proc, y_train, 'baselineLR')\n",
    "linear_results_val = evaluate_regression(lr, X_val_proc, y_val, 'baselineLR')"
   ]
  },
  {
   "cell_type": "code",
   "execution_count": 17,
   "metadata": {},
   "outputs": [
    {
     "data": {
      "text/html": [
       "<div>\n",
       "<style scoped>\n",
       "    .dataframe tbody tr th:only-of-type {\n",
       "        vertical-align: middle;\n",
       "    }\n",
       "\n",
       "    .dataframe tbody tr th {\n",
       "        vertical-align: top;\n",
       "    }\n",
       "\n",
       "    .dataframe thead th {\n",
       "        text-align: right;\n",
       "    }\n",
       "</style>\n",
       "<table border=\"1\" class=\"dataframe\">\n",
       "  <thead>\n",
       "    <tr style=\"text-align: right;\">\n",
       "      <th></th>\n",
       "      <th>MAE</th>\n",
       "      <th>MSE</th>\n",
       "      <th>RMSE</th>\n",
       "      <th>MAPE</th>\n",
       "      <th>R2</th>\n",
       "      <th>adj_r2</th>\n",
       "    </tr>\n",
       "  </thead>\n",
       "  <tbody>\n",
       "    <tr>\n",
       "      <th>baselineLR</th>\n",
       "      <td>14755.794674</td>\n",
       "      <td>4.758884e+08</td>\n",
       "      <td>21814.867131</td>\n",
       "      <td>0.088139</td>\n",
       "      <td>0.920214</td>\n",
       "      <td>0.897455</td>\n",
       "    </tr>\n",
       "  </tbody>\n",
       "</table>\n",
       "</div>"
      ],
      "text/plain": [
       "                     MAE           MSE          RMSE      MAPE        R2  \\\n",
       "baselineLR  14755.794674  4.758884e+08  21814.867131  0.088139  0.920214   \n",
       "\n",
       "              adj_r2  \n",
       "baselineLR  0.897455  "
      ]
     },
     "execution_count": 17,
     "metadata": {},
     "output_type": "execute_result"
    }
   ],
   "source": [
    "linear_results_train"
   ]
  },
  {
   "cell_type": "code",
   "execution_count": 18,
   "metadata": {},
   "outputs": [
    {
     "data": {
      "text/html": [
       "<div>\n",
       "<style scoped>\n",
       "    .dataframe tbody tr th:only-of-type {\n",
       "        vertical-align: middle;\n",
       "    }\n",
       "\n",
       "    .dataframe tbody tr th {\n",
       "        vertical-align: top;\n",
       "    }\n",
       "\n",
       "    .dataframe thead th {\n",
       "        text-align: right;\n",
       "    }\n",
       "</style>\n",
       "<table border=\"1\" class=\"dataframe\">\n",
       "  <thead>\n",
       "    <tr style=\"text-align: right;\">\n",
       "      <th></th>\n",
       "      <th>MAE</th>\n",
       "      <th>MSE</th>\n",
       "      <th>RMSE</th>\n",
       "      <th>MAPE</th>\n",
       "      <th>R2</th>\n",
       "      <th>adj_r2</th>\n",
       "    </tr>\n",
       "  </thead>\n",
       "  <tbody>\n",
       "    <tr>\n",
       "      <th>baselineLR</th>\n",
       "      <td>20745.478208</td>\n",
       "      <td>1.008256e+09</td>\n",
       "      <td>31753.053091</td>\n",
       "      <td>0.124589</td>\n",
       "      <td>0.868551</td>\n",
       "      <td>-0.195364</td>\n",
       "    </tr>\n",
       "  </tbody>\n",
       "</table>\n",
       "</div>"
      ],
      "text/plain": [
       "                     MAE           MSE          RMSE      MAPE        R2  \\\n",
       "baselineLR  20745.478208  1.008256e+09  31753.053091  0.124589  0.868551   \n",
       "\n",
       "              adj_r2  \n",
       "baselineLR -0.195364  "
      ]
     },
     "execution_count": 18,
     "metadata": {},
     "output_type": "execute_result"
    }
   ],
   "source": [
    "linear_results_val"
   ]
  },
  {
   "cell_type": "code",
   "execution_count": 19,
   "metadata": {},
   "outputs": [
    {
     "data": {
      "text/plain": [
       "0.17809933645370188"
      ]
     },
     "execution_count": 19,
     "metadata": {},
     "output_type": "execute_result"
    }
   ],
   "source": [
    "val_preds = lr.predict(X_val_proc)\n",
    "pred_log = np.log(val_preds)\n",
    "y_log = np.log(y_val)\n",
    "root_mean_squared_error(y_log, pred_log)"
   ]
  },
  {
   "cell_type": "code",
   "execution_count": null,
   "metadata": {},
   "outputs": [],
   "source": []
  }
 ],
 "metadata": {
  "kernelspec": {
   "display_name": "Python 3",
   "language": "python",
   "name": "python3"
  },
  "language_info": {
   "codemirror_mode": {
    "name": "ipython",
    "version": 3
   },
   "file_extension": ".py",
   "mimetype": "text/x-python",
   "name": "python",
   "nbconvert_exporter": "python",
   "pygments_lexer": "ipython3",
   "version": "3.12.8"
  }
 },
 "nbformat": 4,
 "nbformat_minor": 2
}
