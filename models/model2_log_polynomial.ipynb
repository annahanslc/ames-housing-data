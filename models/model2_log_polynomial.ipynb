{
 "cells": [
  {
   "cell_type": "markdown",
   "metadata": {},
   "source": [
    "# Model - Polynomial with log of target"
   ]
  },
  {
   "cell_type": "code",
   "execution_count": 1,
   "metadata": {},
   "outputs": [],
   "source": [
    "import pandas as pd\n",
    "import numpy as np\n",
    "import matplotlib.pyplot as plt\n",
    "\n",
    "from sklearn.impute import SimpleImputer\n",
    "from sklearn.preprocessing import OneHotEncoder, MinMaxScaler, StandardScaler, RobustScaler, MaxAbsScaler, Normalizer, FunctionTransformer\n",
    "from sklearn.pipeline import Pipeline\n",
    "from sklearn.compose import ColumnTransformer\n",
    "from sklearn.model_selection import train_test_split\n",
    "\n",
    "from sklearn.preprocessing import PolynomialFeatures\n",
    "from sklearn.linear_model import Lasso\n",
    "\n",
    "from sklearn import set_config\n",
    "set_config(transform_output='pandas')\n",
    "\n",
    "from category_encoders import OrdinalEncoder\n",
    "\n",
    "from src.helpers import *"
   ]
  },
  {
   "cell_type": "code",
   "execution_count": 2,
   "metadata": {},
   "outputs": [],
   "source": [
    "df = pd.read_csv('../data/train.csv')"
   ]
  },
  {
   "cell_type": "code",
   "execution_count": 3,
   "metadata": {},
   "outputs": [
    {
     "name": "stdout",
     "output_type": "stream",
     "text": [
      "<class 'pandas.core.frame.DataFrame'>\n",
      "RangeIndex: 1460 entries, 0 to 1459\n",
      "Data columns (total 81 columns):\n",
      " #   Column         Non-Null Count  Dtype  \n",
      "---  ------         --------------  -----  \n",
      " 0   Id             1460 non-null   int64  \n",
      " 1   MSSubClass     1460 non-null   int64  \n",
      " 2   MSZoning       1460 non-null   object \n",
      " 3   LotFrontage    1201 non-null   float64\n",
      " 4   LotArea        1460 non-null   int64  \n",
      " 5   Street         1460 non-null   object \n",
      " 6   Alley          91 non-null     object \n",
      " 7   LotShape       1460 non-null   object \n",
      " 8   LandContour    1460 non-null   object \n",
      " 9   Utilities      1460 non-null   object \n",
      " 10  LotConfig      1460 non-null   object \n",
      " 11  LandSlope      1460 non-null   object \n",
      " 12  Neighborhood   1460 non-null   object \n",
      " 13  Condition1     1460 non-null   object \n",
      " 14  Condition2     1460 non-null   object \n",
      " 15  BldgType       1460 non-null   object \n",
      " 16  HouseStyle     1460 non-null   object \n",
      " 17  OverallQual    1460 non-null   int64  \n",
      " 18  OverallCond    1460 non-null   int64  \n",
      " 19  YearBuilt      1460 non-null   int64  \n",
      " 20  YearRemodAdd   1460 non-null   int64  \n",
      " 21  RoofStyle      1460 non-null   object \n",
      " 22  RoofMatl       1460 non-null   object \n",
      " 23  Exterior1st    1460 non-null   object \n",
      " 24  Exterior2nd    1460 non-null   object \n",
      " 25  MasVnrType     588 non-null    object \n",
      " 26  MasVnrArea     1452 non-null   float64\n",
      " 27  ExterQual      1460 non-null   object \n",
      " 28  ExterCond      1460 non-null   object \n",
      " 29  Foundation     1460 non-null   object \n",
      " 30  BsmtQual       1423 non-null   object \n",
      " 31  BsmtCond       1423 non-null   object \n",
      " 32  BsmtExposure   1422 non-null   object \n",
      " 33  BsmtFinType1   1423 non-null   object \n",
      " 34  BsmtFinSF1     1460 non-null   int64  \n",
      " 35  BsmtFinType2   1422 non-null   object \n",
      " 36  BsmtFinSF2     1460 non-null   int64  \n",
      " 37  BsmtUnfSF      1460 non-null   int64  \n",
      " 38  TotalBsmtSF    1460 non-null   int64  \n",
      " 39  Heating        1460 non-null   object \n",
      " 40  HeatingQC      1460 non-null   object \n",
      " 41  CentralAir     1460 non-null   object \n",
      " 42  Electrical     1459 non-null   object \n",
      " 43  1stFlrSF       1460 non-null   int64  \n",
      " 44  2ndFlrSF       1460 non-null   int64  \n",
      " 45  LowQualFinSF   1460 non-null   int64  \n",
      " 46  GrLivArea      1460 non-null   int64  \n",
      " 47  BsmtFullBath   1460 non-null   int64  \n",
      " 48  BsmtHalfBath   1460 non-null   int64  \n",
      " 49  FullBath       1460 non-null   int64  \n",
      " 50  HalfBath       1460 non-null   int64  \n",
      " 51  BedroomAbvGr   1460 non-null   int64  \n",
      " 52  KitchenAbvGr   1460 non-null   int64  \n",
      " 53  KitchenQual    1460 non-null   object \n",
      " 54  TotRmsAbvGrd   1460 non-null   int64  \n",
      " 55  Functional     1460 non-null   object \n",
      " 56  Fireplaces     1460 non-null   int64  \n",
      " 57  FireplaceQu    770 non-null    object \n",
      " 58  GarageType     1379 non-null   object \n",
      " 59  GarageYrBlt    1379 non-null   float64\n",
      " 60  GarageFinish   1379 non-null   object \n",
      " 61  GarageCars     1460 non-null   int64  \n",
      " 62  GarageArea     1460 non-null   int64  \n",
      " 63  GarageQual     1379 non-null   object \n",
      " 64  GarageCond     1379 non-null   object \n",
      " 65  PavedDrive     1460 non-null   object \n",
      " 66  WoodDeckSF     1460 non-null   int64  \n",
      " 67  OpenPorchSF    1460 non-null   int64  \n",
      " 68  EnclosedPorch  1460 non-null   int64  \n",
      " 69  3SsnPorch      1460 non-null   int64  \n",
      " 70  ScreenPorch    1460 non-null   int64  \n",
      " 71  PoolArea       1460 non-null   int64  \n",
      " 72  PoolQC         7 non-null      object \n",
      " 73  Fence          281 non-null    object \n",
      " 74  MiscFeature    54 non-null     object \n",
      " 75  MiscVal        1460 non-null   int64  \n",
      " 76  MoSold         1460 non-null   int64  \n",
      " 77  YrSold         1460 non-null   int64  \n",
      " 78  SaleType       1460 non-null   object \n",
      " 79  SaleCondition  1460 non-null   object \n",
      " 80  SalePrice      1460 non-null   int64  \n",
      "dtypes: float64(3), int64(35), object(43)\n",
      "memory usage: 924.0+ KB\n"
     ]
    }
   ],
   "source": [
    "df.info()"
   ]
  },
  {
   "cell_type": "markdown",
   "metadata": {},
   "source": [
    "# ---Remove Outliers---"
   ]
  },
  {
   "cell_type": "code",
   "execution_count": 4,
   "metadata": {},
   "outputs": [
    {
     "data": {
      "text/plain": [
       "Id               1428\n",
       "MSSubClass       1428\n",
       "MSZoning         1428\n",
       "LotFrontage      1178\n",
       "LotArea          1428\n",
       "                 ... \n",
       "MoSold           1428\n",
       "YrSold           1428\n",
       "SaleType         1428\n",
       "SaleCondition    1428\n",
       "SalePrice        1428\n",
       "Length: 81, dtype: int64"
      ]
     },
     "execution_count": 4,
     "metadata": {},
     "output_type": "execute_result"
    }
   ],
   "source": [
    "# OutlierRemover is a custom transformer imported from src/helpers.py\n",
    "# It can remove outliers from multiple columns by specifying the iqr_multipler\n",
    "\n",
    "# Features where there are significant outliers per EDA\n",
    "outlier_cols = ['LotFrontage','LotArea','MasVnrArea','BsmtFinSF1','TotalBsmtSF','1stFlrSF','GrLivArea',\n",
    "                'OpenPorchSF']\n",
    "\n",
    "# Set the iqr multiplier to 5, to remove only the extreme outliers, in order to keep as much data as possible\n",
    "outlier_remover = OutlierRemover(columns=outlier_cols,iqr_multiplier=5)\n",
    "\n",
    "# Fit the dataset to the outlier remover and save to new variable\n",
    "outlier_remover.fit(df)\n",
    "df_proc = outlier_remover.transform(df)\n",
    "\n",
    "# Check how many observations remain\n",
    "df_proc.count()"
   ]
  },
  {
   "cell_type": "markdown",
   "metadata": {},
   "source": [
    "# ---Pipeline---"
   ]
  },
  {
   "cell_type": "markdown",
   "metadata": {},
   "source": [
    "### 1. Filter for features to remove"
   ]
  },
  {
   "cell_type": "code",
   "execution_count": 5,
   "metadata": {},
   "outputs": [],
   "source": [
    "# Defining the list of columns that will go into the pipeline\n",
    "# Remove columns that should not be included in the pipeline\n",
    "\n",
    "# Remove SalePrice b/c target feature\n",
    "# Remove Id b/c no predictive meaning\n",
    "# Remove Street b/c low variance\n",
    "# Remove Utilities b/c low variance\n",
    "\n",
    "all_columns = df.columns.tolist()\n",
    "columns_remove_from_filter = ['SalePrice','Id','Street','Utilities']\n",
    "\n",
    "columns_to_keep = [item for item in all_columns if item not in columns_remove_from_filter]"
   ]
  },
  {
   "cell_type": "code",
   "execution_count": 6,
   "metadata": {},
   "outputs": [],
   "source": [
    "# Preprocessor to filter unwanted columns, or unexpected columns.\n",
    "\n",
    "preprocessor_filter = ColumnTransformer([\n",
    "  ('passthrough','passthrough',columns_to_keep)\n",
    "],remainder='drop', verbose_feature_names_out=False)"
   ]
  },
  {
   "cell_type": "markdown",
   "metadata": {},
   "source": [
    "### 2. Imputing null variables"
   ]
  },
  {
   "cell_type": "code",
   "execution_count": 7,
   "metadata": {},
   "outputs": [],
   "source": [
    "# Preprocessor for imputing all null variables\n",
    "\n",
    "cols_impute_na = ['Alley', 'GarageType', 'Fence','BsmtQual', 'BsmtCond', 'BsmtExposure',\n",
    "                  'BsmtFinType1','BsmtFinType2', 'FireplaceQu', 'GarageFinish', 'GarageQual','GarageCond',\n",
    "                  'PoolQC', 'MiscFeature']\n",
    "cols_impute_none = ['MasVnrType']\n",
    "cols_impute_most_freq = ['Electrical','MSZoning','Exterior1st','Exterior2nd','KitchenQual','Functional']\n",
    "cols_impute_zero = ['LotFrontage', 'MasVnrArea','BsmtFinSF1','BsmtFinSF2','BsmtUnfSF','TotalBsmtSF','BsmtFullBath','BsmtHalfBath',\n",
    "                    'GarageCars','GarageArea','GarageYrBlt']\n",
    "\n",
    "preprocessor_imputer = ColumnTransformer([\n",
    "  ('impute_na', SimpleImputer(strategy='constant', fill_value='NA'), cols_impute_na),\n",
    "  ('impute_none', SimpleImputer(strategy='constant', fill_value='None'), cols_impute_none),\n",
    "  ('impute_zero', SimpleImputer(strategy='constant', fill_value=0), cols_impute_zero),\n",
    "  ('impute_most_freq', SimpleImputer(strategy='most_frequent'), cols_impute_most_freq)\n",
    "], remainder='passthrough', verbose_feature_names_out=False)"
   ]
  },
  {
   "cell_type": "markdown",
   "metadata": {},
   "source": [
    "### 3. Mapping Ordinal Features"
   ]
  },
  {
   "cell_type": "code",
   "execution_count": 8,
   "metadata": {},
   "outputs": [],
   "source": [
    "# Defining maps for Ordinal categories\n",
    "\n",
    "dict_na_ex_6 = {'NA':0,'Po':1,'Fa':2,'TA':3,'Gd':4,'Ex':5}\n",
    "dict_na_gd_5 = {'NA':0,'No':1,'Mn':2,'Av':3,'Gd':4}\n",
    "dict_bsmt = {'NA':0,'Unf':1,'LwQ':2,'Rec':3,'BLQ':4,'ALQ':5,'GLQ':6}\n",
    "dict_garage = {'NA':0,'Unf':1,'RFn':2,'Fin':3}\n",
    "dict_fence = {'NA':0, 'MnWw':1, 'GdWo':2, 'MnPrv':3, 'GdPrv':4}\n",
    "\n",
    "\n",
    "ordinal_cat_map = [\n",
    "  {'col':'BsmtQual','mapping':dict_na_ex_6},\n",
    "  {'col':'BsmtCond','mapping':dict_na_ex_6},\n",
    "  {'col':'BsmtExposure','mapping':dict_na_gd_5},\n",
    "  {'col':'BsmtFinType1','mapping':dict_bsmt},\n",
    "  {'col':'BsmtFinType2','mapping':dict_bsmt},\n",
    "  {'col':'FireplaceQu','mapping':dict_na_ex_6},\n",
    "  {'col':'GarageFinish','mapping':dict_garage},\n",
    "  {'col':'GarageQual','mapping':dict_na_ex_6},\n",
    "  {'col':'GarageCond','mapping':dict_na_ex_6},\n",
    "  {'col':'PoolQC','mapping':dict_na_ex_6},\n",
    "  {'col': 'ExterQual', 'mapping': dict_na_ex_6},\n",
    "  {'col': 'ExterCond', 'mapping': dict_na_ex_6},\n",
    "  {'col': 'HeatingQC', 'mapping': dict_na_ex_6},\n",
    "  {'col': 'KitchenQual', 'mapping': dict_na_ex_6},\n",
    "  {'col': 'Fence', 'mapping': dict_fence}\n",
    "  ]"
   ]
  },
  {
   "cell_type": "markdown",
   "metadata": {},
   "source": [
    "### 4. Encoding and Scaling"
   ]
  },
  {
   "cell_type": "code",
   "execution_count": 9,
   "metadata": {},
   "outputs": [],
   "source": [
    "standard_cols = ['LotFrontage','GarageArea']\n",
    "\n",
    "robust_cols = ['LotArea','MasVnrArea','BsmtFinSF1','BsmtFinSF2','BsmtUnfSF','TotalBsmtSF','1stFlrSF','2ndFlrSF',\n",
    "               'GrLivArea','WoodDeckSF','OpenPorchSF','EnclosedPorch','ScreenPorch','PoolArea','MiscVal', 'LowQualFinSF',\n",
    "               '3SsnPorch']\n",
    "\n",
    "minmax_cols = ['YearBuilt','YearRemodAdd']\n",
    "\n",
    "\n",
    "preprocessor_scalers = ColumnTransformer([\n",
    "  ('standard_scaler', StandardScaler(), standard_cols),\n",
    "  ('robust_scaler', RobustScaler(), robust_cols),\n",
    "  ('minmax_scaler', MinMaxScaler(), minmax_cols)\n",
    "], remainder='passthrough', verbose_feature_names_out=False)\n",
    "\n",
    "scaler_pipe = Pipeline([\n",
    "  ('preprocessor_scalers', preprocessor_scalers),\n",
    "  ('poly', PolynomialFeatures())\n",
    "])\n"
   ]
  },
  {
   "cell_type": "code",
   "execution_count": 10,
   "metadata": {},
   "outputs": [],
   "source": [
    "# Preprocessor for encoding and scaling\n",
    "\n",
    "ohe_cols = ['MSSubClass','MSZoning','Alley','LotShape','LandContour','LotConfig','LandSlope',\n",
    "            'Neighborhood','Condition1','Condition2','BldgType','HouseStyle','RoofStyle','RoofMatl','Exterior1st',\n",
    "            'Exterior2nd','MasVnrType','Foundation','Heating', 'CentralAir','Electrical','Functional',\n",
    "            'GarageType','PavedDrive','MiscFeature','MoSold','YrSold','SaleType','SaleCondition']\n",
    "\n",
    "oe_cols = ['OverallQual','OverallCond','ExterQual','ExterCond','BsmtQual','BsmtCond','BsmtExposure',\n",
    "           'BsmtFinType1','BsmtFinType2','HeatingQC','FireplaceQu', 'GarageFinish','GarageQual', 'GarageCond',\n",
    "           'PoolQC','KitchenQual','Fence']\n",
    "\n",
    "\n",
    "preprocessor_encode_scale = ColumnTransformer([\n",
    "  ('ohe', OneHotEncoder(sparse_output=False, handle_unknown='ignore'), ohe_cols),\n",
    "  ('oe', OrdinalEncoder(mapping=ordinal_cat_map), oe_cols)],\n",
    "  remainder=scaler_pipe, verbose_feature_names_out=False)"
   ]
  },
  {
   "cell_type": "markdown",
   "metadata": {},
   "source": [
    "# --- Train/Val Split, Fit & Transform ---"
   ]
  },
  {
   "cell_type": "code",
   "execution_count": 11,
   "metadata": {},
   "outputs": [],
   "source": [
    "# Train/Val split, target feature is SalePrice\n",
    "\n",
    "X = df.drop(columns='SalePrice')\n",
    "y = df['SalePrice'].copy()\n",
    "\n",
    "X_train, X_val, y_train, y_val = train_test_split(X, y, test_size=0.2, random_state=42)"
   ]
  },
  {
   "cell_type": "code",
   "execution_count": 12,
   "metadata": {},
   "outputs": [],
   "source": [
    "# take the log of the target to normalize the distribution\n",
    "\n",
    "log_y_train = np.log(y_train)\n",
    "log_y_val = np.log(y_val)"
   ]
  },
  {
   "cell_type": "code",
   "execution_count": 13,
   "metadata": {},
   "outputs": [],
   "source": [
    "# Main pipeline, include all preprocessors\n",
    "\n",
    "main_pipe = Pipeline([\n",
    "  ('preprocessor_filter', preprocessor_filter),\n",
    "  ('preprocessor_imputer', preprocessor_imputer),\n",
    "  ('preprocessor_encode_scale', preprocessor_encode_scale)\n",
    "])"
   ]
  },
  {
   "cell_type": "code",
   "execution_count": 14,
   "metadata": {},
   "outputs": [],
   "source": [
    "# Fit and transform X_train and X_val\n",
    "\n",
    "# main_pipe.fit(X_train)\n",
    "\n",
    "# X_train_proc = main_pipe.transform(X_train)\n",
    "# X_val_proc = main_pipe.transform(X_val)"
   ]
  },
  {
   "cell_type": "code",
   "execution_count": 15,
   "metadata": {},
   "outputs": [],
   "source": [
    "# Checking the number of columns after pipeline\n",
    "\n",
    "# len(X_train_proc.columns)"
   ]
  },
  {
   "cell_type": "code",
   "execution_count": null,
   "metadata": {},
   "outputs": [],
   "source": []
  },
  {
   "cell_type": "code",
   "execution_count": 16,
   "metadata": {},
   "outputs": [],
   "source": [
    "# creating a pipeline for polynomial transformer using GridSearch\n",
    "\n",
    "poly_pipe = Pipeline([\n",
    "  ('main_pipe', main_pipe),\n",
    "  ('model',Lasso())\n",
    "])"
   ]
  },
  {
   "cell_type": "code",
   "execution_count": null,
   "metadata": {},
   "outputs": [],
   "source": []
  },
  {
   "cell_type": "code",
   "execution_count": 19,
   "metadata": {},
   "outputs": [
    {
     "data": {
      "text/plain": [
       "{'memory': None,\n",
       " 'steps': [('main_pipe',\n",
       "   Pipeline(steps=[('preprocessor_filter',\n",
       "                    ColumnTransformer(transformers=[('passthrough', 'passthrough',\n",
       "                                                     ['MSSubClass', 'MSZoning',\n",
       "                                                      'LotFrontage', 'LotArea',\n",
       "                                                      'Alley', 'LotShape',\n",
       "                                                      'LandContour', 'LotConfig',\n",
       "                                                      'LandSlope', 'Neighborhood',\n",
       "                                                      'Condition1', 'Condition2',\n",
       "                                                      'BldgType', 'HouseStyle',\n",
       "                                                      'OverallQual', 'OverallCond',\n",
       "                                                      'YearBuilt', 'YearRemodAdd',\n",
       "                                                      'RoofStyle', 'RoofMatl',\n",
       "                                                      '...\n",
       "   dtype: int64},\n",
       "                                                                             {'col': 'Fence',\n",
       "                                                                              'data_type': dtype('O'),\n",
       "                                                                              'mapping': NA       0\n",
       "   MnWw     1\n",
       "   GdWo     2\n",
       "   MnPrv    3\n",
       "   GdPrv    4\n",
       "   dtype: int64}]),\n",
       "                                                     ['OverallQual', 'OverallCond',\n",
       "                                                      'ExterQual', 'ExterCond',\n",
       "                                                      'BsmtQual', 'BsmtCond',\n",
       "                                                      'BsmtExposure',\n",
       "                                                      'BsmtFinType1',\n",
       "                                                      'BsmtFinType2', 'HeatingQC',\n",
       "                                                      'FireplaceQu',\n",
       "                                                      'GarageFinish', 'GarageQual',\n",
       "                                                      'GarageCond', 'PoolQC',\n",
       "                                                      'KitchenQual', 'Fence'])],\n",
       "                                      verbose_feature_names_out=False))])),\n",
       "  ('model', Lasso())],\n",
       " 'transform_input': None,\n",
       " 'verbose': False,\n",
       " 'main_pipe': Pipeline(steps=[('preprocessor_filter',\n",
       "                  ColumnTransformer(transformers=[('passthrough', 'passthrough',\n",
       "                                                   ['MSSubClass', 'MSZoning',\n",
       "                                                    'LotFrontage', 'LotArea',\n",
       "                                                    'Alley', 'LotShape',\n",
       "                                                    'LandContour', 'LotConfig',\n",
       "                                                    'LandSlope', 'Neighborhood',\n",
       "                                                    'Condition1', 'Condition2',\n",
       "                                                    'BldgType', 'HouseStyle',\n",
       "                                                    'OverallQual', 'OverallCond',\n",
       "                                                    'YearBuilt', 'YearRemodAdd',\n",
       "                                                    'RoofStyle', 'RoofMatl',\n",
       "                                                    '...\n",
       " dtype: int64},\n",
       "                                                                           {'col': 'Fence',\n",
       "                                                                            'data_type': dtype('O'),\n",
       "                                                                            'mapping': NA       0\n",
       " MnWw     1\n",
       " GdWo     2\n",
       " MnPrv    3\n",
       " GdPrv    4\n",
       " dtype: int64}]),\n",
       "                                                   ['OverallQual', 'OverallCond',\n",
       "                                                    'ExterQual', 'ExterCond',\n",
       "                                                    'BsmtQual', 'BsmtCond',\n",
       "                                                    'BsmtExposure',\n",
       "                                                    'BsmtFinType1',\n",
       "                                                    'BsmtFinType2', 'HeatingQC',\n",
       "                                                    'FireplaceQu',\n",
       "                                                    'GarageFinish', 'GarageQual',\n",
       "                                                    'GarageCond', 'PoolQC',\n",
       "                                                    'KitchenQual', 'Fence'])],\n",
       "                                    verbose_feature_names_out=False))]),\n",
       " 'model': Lasso(),\n",
       " 'main_pipe__memory': None,\n",
       " 'main_pipe__steps': [('preprocessor_filter',\n",
       "   ColumnTransformer(transformers=[('passthrough', 'passthrough',\n",
       "                                    ['MSSubClass', 'MSZoning', 'LotFrontage',\n",
       "                                     'LotArea', 'Alley', 'LotShape', 'LandContour',\n",
       "                                     'LotConfig', 'LandSlope', 'Neighborhood',\n",
       "                                     'Condition1', 'Condition2', 'BldgType',\n",
       "                                     'HouseStyle', 'OverallQual', 'OverallCond',\n",
       "                                     'YearBuilt', 'YearRemodAdd', 'RoofStyle',\n",
       "                                     'RoofMatl', 'Exterior1st', 'Exterior2nd',\n",
       "                                     'MasVnrType', 'MasVnrArea', 'ExterQual',\n",
       "                                     'ExterCond', 'Foundation', 'BsmtQual',\n",
       "                                     'BsmtCond', 'BsmtExposure', ...])],\n",
       "                     verbose_feature_names_out=False)),\n",
       "  ('preprocessor_imputer',\n",
       "   ColumnTransformer(remainder='passthrough',\n",
       "                     transformers=[('impute_na',\n",
       "                                    SimpleImputer(fill_value='NA',\n",
       "                                                  strategy='constant'),\n",
       "                                    ['Alley', 'GarageType', 'Fence', 'BsmtQual',\n",
       "                                     'BsmtCond', 'BsmtExposure', 'BsmtFinType1',\n",
       "                                     'BsmtFinType2', 'FireplaceQu', 'GarageFinish',\n",
       "                                     'GarageQual', 'GarageCond', 'PoolQC',\n",
       "                                     'MiscFeature']),\n",
       "                                   ('impute_none',\n",
       "                                    SimpleImputer(fill_value='None',\n",
       "                                                  strate...\n",
       "                                    SimpleImputer(fill_value=0,\n",
       "                                                  strategy='constant'),\n",
       "                                    ['LotFrontage', 'MasVnrArea', 'BsmtFinSF1',\n",
       "                                     'BsmtFinSF2', 'BsmtUnfSF', 'TotalBsmtSF',\n",
       "                                     'BsmtFullBath', 'BsmtHalfBath', 'GarageCars',\n",
       "                                     'GarageArea', 'GarageYrBlt']),\n",
       "                                   ('impute_most_freq',\n",
       "                                    SimpleImputer(strategy='most_frequent'),\n",
       "                                    ['Electrical', 'MSZoning', 'Exterior1st',\n",
       "                                     'Exterior2nd', 'KitchenQual',\n",
       "                                     'Functional'])],\n",
       "                     verbose_feature_names_out=False)),\n",
       "  ('preprocessor_encode_scale',\n",
       "   ColumnTransformer(remainder=Pipeline(steps=[('preprocessor_scalers',\n",
       "                                                ColumnTransformer(remainder='passthrough',\n",
       "                                                                  transformers=[('standard_scaler',\n",
       "                                                                                 StandardScaler(),\n",
       "                                                                                 ['LotFrontage',\n",
       "                                                                                  'GarageArea']),\n",
       "                                                                                ('robust_scaler',\n",
       "                                                                                 RobustScaler(),\n",
       "                                                                                 ['LotArea',\n",
       "                                                                                  'MasVnrArea',\n",
       "                                                                                  'BsmtFinSF1',\n",
       "                                                                                  'BsmtFinSF2',\n",
       "                                                                                  'BsmtUnfSF',\n",
       "                                                                                  'TotalBsmtSF',\n",
       "                                                                                  '1stFlrSF',\n",
       "                                                                                  '2ndFlrSF',\n",
       "                                                                                  'GrLivArea',\n",
       "                                                                                  'WoodDeckSF',\n",
       "                                                                                  'Open...\n",
       "   dtype: int64},\n",
       "                                                            {'col': 'Fence',\n",
       "                                                             'data_type': dtype('O'),\n",
       "                                                             'mapping': NA       0\n",
       "   MnWw     1\n",
       "   GdWo     2\n",
       "   MnPrv    3\n",
       "   GdPrv    4\n",
       "   dtype: int64}]),\n",
       "                                    ['OverallQual', 'OverallCond', 'ExterQual',\n",
       "                                     'ExterCond', 'BsmtQual', 'BsmtCond',\n",
       "                                     'BsmtExposure', 'BsmtFinType1',\n",
       "                                     'BsmtFinType2', 'HeatingQC', 'FireplaceQu',\n",
       "                                     'GarageFinish', 'GarageQual', 'GarageCond',\n",
       "                                     'PoolQC', 'KitchenQual', 'Fence'])],\n",
       "                     verbose_feature_names_out=False))],\n",
       " 'main_pipe__transform_input': None,\n",
       " 'main_pipe__verbose': False,\n",
       " 'main_pipe__preprocessor_filter': ColumnTransformer(transformers=[('passthrough', 'passthrough',\n",
       "                                  ['MSSubClass', 'MSZoning', 'LotFrontage',\n",
       "                                   'LotArea', 'Alley', 'LotShape', 'LandContour',\n",
       "                                   'LotConfig', 'LandSlope', 'Neighborhood',\n",
       "                                   'Condition1', 'Condition2', 'BldgType',\n",
       "                                   'HouseStyle', 'OverallQual', 'OverallCond',\n",
       "                                   'YearBuilt', 'YearRemodAdd', 'RoofStyle',\n",
       "                                   'RoofMatl', 'Exterior1st', 'Exterior2nd',\n",
       "                                   'MasVnrType', 'MasVnrArea', 'ExterQual',\n",
       "                                   'ExterCond', 'Foundation', 'BsmtQual',\n",
       "                                   'BsmtCond', 'BsmtExposure', ...])],\n",
       "                   verbose_feature_names_out=False),\n",
       " 'main_pipe__preprocessor_imputer': ColumnTransformer(remainder='passthrough',\n",
       "                   transformers=[('impute_na',\n",
       "                                  SimpleImputer(fill_value='NA',\n",
       "                                                strategy='constant'),\n",
       "                                  ['Alley', 'GarageType', 'Fence', 'BsmtQual',\n",
       "                                   'BsmtCond', 'BsmtExposure', 'BsmtFinType1',\n",
       "                                   'BsmtFinType2', 'FireplaceQu', 'GarageFinish',\n",
       "                                   'GarageQual', 'GarageCond', 'PoolQC',\n",
       "                                   'MiscFeature']),\n",
       "                                 ('impute_none',\n",
       "                                  SimpleImputer(fill_value='None',\n",
       "                                                strate...\n",
       "                                  SimpleImputer(fill_value=0,\n",
       "                                                strategy='constant'),\n",
       "                                  ['LotFrontage', 'MasVnrArea', 'BsmtFinSF1',\n",
       "                                   'BsmtFinSF2', 'BsmtUnfSF', 'TotalBsmtSF',\n",
       "                                   'BsmtFullBath', 'BsmtHalfBath', 'GarageCars',\n",
       "                                   'GarageArea', 'GarageYrBlt']),\n",
       "                                 ('impute_most_freq',\n",
       "                                  SimpleImputer(strategy='most_frequent'),\n",
       "                                  ['Electrical', 'MSZoning', 'Exterior1st',\n",
       "                                   'Exterior2nd', 'KitchenQual',\n",
       "                                   'Functional'])],\n",
       "                   verbose_feature_names_out=False),\n",
       " 'main_pipe__preprocessor_encode_scale': ColumnTransformer(remainder=Pipeline(steps=[('preprocessor_scalers',\n",
       "                                              ColumnTransformer(remainder='passthrough',\n",
       "                                                                transformers=[('standard_scaler',\n",
       "                                                                               StandardScaler(),\n",
       "                                                                               ['LotFrontage',\n",
       "                                                                                'GarageArea']),\n",
       "                                                                              ('robust_scaler',\n",
       "                                                                               RobustScaler(),\n",
       "                                                                               ['LotArea',\n",
       "                                                                                'MasVnrArea',\n",
       "                                                                                'BsmtFinSF1',\n",
       "                                                                                'BsmtFinSF2',\n",
       "                                                                                'BsmtUnfSF',\n",
       "                                                                                'TotalBsmtSF',\n",
       "                                                                                '1stFlrSF',\n",
       "                                                                                '2ndFlrSF',\n",
       "                                                                                'GrLivArea',\n",
       "                                                                                'WoodDeckSF',\n",
       "                                                                                'Open...\n",
       " dtype: int64},\n",
       "                                                          {'col': 'Fence',\n",
       "                                                           'data_type': dtype('O'),\n",
       "                                                           'mapping': NA       0\n",
       " MnWw     1\n",
       " GdWo     2\n",
       " MnPrv    3\n",
       " GdPrv    4\n",
       " dtype: int64}]),\n",
       "                                  ['OverallQual', 'OverallCond', 'ExterQual',\n",
       "                                   'ExterCond', 'BsmtQual', 'BsmtCond',\n",
       "                                   'BsmtExposure', 'BsmtFinType1',\n",
       "                                   'BsmtFinType2', 'HeatingQC', 'FireplaceQu',\n",
       "                                   'GarageFinish', 'GarageQual', 'GarageCond',\n",
       "                                   'PoolQC', 'KitchenQual', 'Fence'])],\n",
       "                   verbose_feature_names_out=False),\n",
       " 'main_pipe__preprocessor_filter__force_int_remainder_cols': True,\n",
       " 'main_pipe__preprocessor_filter__n_jobs': None,\n",
       " 'main_pipe__preprocessor_filter__remainder': 'drop',\n",
       " 'main_pipe__preprocessor_filter__sparse_threshold': 0.3,\n",
       " 'main_pipe__preprocessor_filter__transformer_weights': None,\n",
       " 'main_pipe__preprocessor_filter__transformers': [('passthrough',\n",
       "   'passthrough',\n",
       "   ['MSSubClass',\n",
       "    'MSZoning',\n",
       "    'LotFrontage',\n",
       "    'LotArea',\n",
       "    'Alley',\n",
       "    'LotShape',\n",
       "    'LandContour',\n",
       "    'LotConfig',\n",
       "    'LandSlope',\n",
       "    'Neighborhood',\n",
       "    'Condition1',\n",
       "    'Condition2',\n",
       "    'BldgType',\n",
       "    'HouseStyle',\n",
       "    'OverallQual',\n",
       "    'OverallCond',\n",
       "    'YearBuilt',\n",
       "    'YearRemodAdd',\n",
       "    'RoofStyle',\n",
       "    'RoofMatl',\n",
       "    'Exterior1st',\n",
       "    'Exterior2nd',\n",
       "    'MasVnrType',\n",
       "    'MasVnrArea',\n",
       "    'ExterQual',\n",
       "    'ExterCond',\n",
       "    'Foundation',\n",
       "    'BsmtQual',\n",
       "    'BsmtCond',\n",
       "    'BsmtExposure',\n",
       "    'BsmtFinType1',\n",
       "    'BsmtFinSF1',\n",
       "    'BsmtFinType2',\n",
       "    'BsmtFinSF2',\n",
       "    'BsmtUnfSF',\n",
       "    'TotalBsmtSF',\n",
       "    'Heating',\n",
       "    'HeatingQC',\n",
       "    'CentralAir',\n",
       "    'Electrical',\n",
       "    '1stFlrSF',\n",
       "    '2ndFlrSF',\n",
       "    'LowQualFinSF',\n",
       "    'GrLivArea',\n",
       "    'BsmtFullBath',\n",
       "    'BsmtHalfBath',\n",
       "    'FullBath',\n",
       "    'HalfBath',\n",
       "    'BedroomAbvGr',\n",
       "    'KitchenAbvGr',\n",
       "    'KitchenQual',\n",
       "    'TotRmsAbvGrd',\n",
       "    'Functional',\n",
       "    'Fireplaces',\n",
       "    'FireplaceQu',\n",
       "    'GarageType',\n",
       "    'GarageYrBlt',\n",
       "    'GarageFinish',\n",
       "    'GarageCars',\n",
       "    'GarageArea',\n",
       "    'GarageQual',\n",
       "    'GarageCond',\n",
       "    'PavedDrive',\n",
       "    'WoodDeckSF',\n",
       "    'OpenPorchSF',\n",
       "    'EnclosedPorch',\n",
       "    '3SsnPorch',\n",
       "    'ScreenPorch',\n",
       "    'PoolArea',\n",
       "    'PoolQC',\n",
       "    'Fence',\n",
       "    'MiscFeature',\n",
       "    'MiscVal',\n",
       "    'MoSold',\n",
       "    'YrSold',\n",
       "    'SaleType',\n",
       "    'SaleCondition'])],\n",
       " 'main_pipe__preprocessor_filter__verbose': False,\n",
       " 'main_pipe__preprocessor_filter__verbose_feature_names_out': False,\n",
       " 'main_pipe__preprocessor_filter__passthrough': 'passthrough',\n",
       " 'main_pipe__preprocessor_imputer__force_int_remainder_cols': True,\n",
       " 'main_pipe__preprocessor_imputer__n_jobs': None,\n",
       " 'main_pipe__preprocessor_imputer__remainder': 'passthrough',\n",
       " 'main_pipe__preprocessor_imputer__sparse_threshold': 0.3,\n",
       " 'main_pipe__preprocessor_imputer__transformer_weights': None,\n",
       " 'main_pipe__preprocessor_imputer__transformers': [('impute_na',\n",
       "   SimpleImputer(fill_value='NA', strategy='constant'),\n",
       "   ['Alley',\n",
       "    'GarageType',\n",
       "    'Fence',\n",
       "    'BsmtQual',\n",
       "    'BsmtCond',\n",
       "    'BsmtExposure',\n",
       "    'BsmtFinType1',\n",
       "    'BsmtFinType2',\n",
       "    'FireplaceQu',\n",
       "    'GarageFinish',\n",
       "    'GarageQual',\n",
       "    'GarageCond',\n",
       "    'PoolQC',\n",
       "    'MiscFeature']),\n",
       "  ('impute_none',\n",
       "   SimpleImputer(fill_value='None', strategy='constant'),\n",
       "   ['MasVnrType']),\n",
       "  ('impute_zero',\n",
       "   SimpleImputer(fill_value=0, strategy='constant'),\n",
       "   ['LotFrontage',\n",
       "    'MasVnrArea',\n",
       "    'BsmtFinSF1',\n",
       "    'BsmtFinSF2',\n",
       "    'BsmtUnfSF',\n",
       "    'TotalBsmtSF',\n",
       "    'BsmtFullBath',\n",
       "    'BsmtHalfBath',\n",
       "    'GarageCars',\n",
       "    'GarageArea',\n",
       "    'GarageYrBlt']),\n",
       "  ('impute_most_freq',\n",
       "   SimpleImputer(strategy='most_frequent'),\n",
       "   ['Electrical',\n",
       "    'MSZoning',\n",
       "    'Exterior1st',\n",
       "    'Exterior2nd',\n",
       "    'KitchenQual',\n",
       "    'Functional'])],\n",
       " 'main_pipe__preprocessor_imputer__verbose': False,\n",
       " 'main_pipe__preprocessor_imputer__verbose_feature_names_out': False,\n",
       " 'main_pipe__preprocessor_imputer__impute_na': SimpleImputer(fill_value='NA', strategy='constant'),\n",
       " 'main_pipe__preprocessor_imputer__impute_none': SimpleImputer(fill_value='None', strategy='constant'),\n",
       " 'main_pipe__preprocessor_imputer__impute_zero': SimpleImputer(fill_value=0, strategy='constant'),\n",
       " 'main_pipe__preprocessor_imputer__impute_most_freq': SimpleImputer(strategy='most_frequent'),\n",
       " 'main_pipe__preprocessor_imputer__impute_na__add_indicator': False,\n",
       " 'main_pipe__preprocessor_imputer__impute_na__copy': True,\n",
       " 'main_pipe__preprocessor_imputer__impute_na__fill_value': 'NA',\n",
       " 'main_pipe__preprocessor_imputer__impute_na__keep_empty_features': False,\n",
       " 'main_pipe__preprocessor_imputer__impute_na__missing_values': nan,\n",
       " 'main_pipe__preprocessor_imputer__impute_na__strategy': 'constant',\n",
       " 'main_pipe__preprocessor_imputer__impute_none__add_indicator': False,\n",
       " 'main_pipe__preprocessor_imputer__impute_none__copy': True,\n",
       " 'main_pipe__preprocessor_imputer__impute_none__fill_value': 'None',\n",
       " 'main_pipe__preprocessor_imputer__impute_none__keep_empty_features': False,\n",
       " 'main_pipe__preprocessor_imputer__impute_none__missing_values': nan,\n",
       " 'main_pipe__preprocessor_imputer__impute_none__strategy': 'constant',\n",
       " 'main_pipe__preprocessor_imputer__impute_zero__add_indicator': False,\n",
       " 'main_pipe__preprocessor_imputer__impute_zero__copy': True,\n",
       " 'main_pipe__preprocessor_imputer__impute_zero__fill_value': 0,\n",
       " 'main_pipe__preprocessor_imputer__impute_zero__keep_empty_features': False,\n",
       " 'main_pipe__preprocessor_imputer__impute_zero__missing_values': nan,\n",
       " 'main_pipe__preprocessor_imputer__impute_zero__strategy': 'constant',\n",
       " 'main_pipe__preprocessor_imputer__impute_most_freq__add_indicator': False,\n",
       " 'main_pipe__preprocessor_imputer__impute_most_freq__copy': True,\n",
       " 'main_pipe__preprocessor_imputer__impute_most_freq__fill_value': None,\n",
       " 'main_pipe__preprocessor_imputer__impute_most_freq__keep_empty_features': False,\n",
       " 'main_pipe__preprocessor_imputer__impute_most_freq__missing_values': nan,\n",
       " 'main_pipe__preprocessor_imputer__impute_most_freq__strategy': 'most_frequent',\n",
       " 'main_pipe__preprocessor_encode_scale__force_int_remainder_cols': True,\n",
       " 'main_pipe__preprocessor_encode_scale__n_jobs': None,\n",
       " 'main_pipe__preprocessor_encode_scale__remainder__memory': None,\n",
       " 'main_pipe__preprocessor_encode_scale__remainder__steps': [('preprocessor_scalers',\n",
       "   ColumnTransformer(remainder='passthrough',\n",
       "                     transformers=[('standard_scaler', StandardScaler(),\n",
       "                                    ['LotFrontage', 'GarageArea']),\n",
       "                                   ('robust_scaler', RobustScaler(),\n",
       "                                    ['LotArea', 'MasVnrArea', 'BsmtFinSF1',\n",
       "                                     'BsmtFinSF2', 'BsmtUnfSF', 'TotalBsmtSF',\n",
       "                                     '1stFlrSF', '2ndFlrSF', 'GrLivArea',\n",
       "                                     'WoodDeckSF', 'OpenPorchSF', 'EnclosedPorch',\n",
       "                                     'ScreenPorch', 'PoolArea', 'MiscVal',\n",
       "                                     'LowQualFinSF', '3SsnPorch']),\n",
       "                                   ('minmax_scaler', MinMaxScaler(),\n",
       "                                    ['YearBuilt', 'YearRemodAdd'])],\n",
       "                     verbose_feature_names_out=False)),\n",
       "  ('poly', PolynomialFeatures())],\n",
       " 'main_pipe__preprocessor_encode_scale__remainder__transform_input': None,\n",
       " 'main_pipe__preprocessor_encode_scale__remainder__verbose': False,\n",
       " 'main_pipe__preprocessor_encode_scale__remainder__preprocessor_scalers': ColumnTransformer(remainder='passthrough',\n",
       "                   transformers=[('standard_scaler', StandardScaler(),\n",
       "                                  ['LotFrontage', 'GarageArea']),\n",
       "                                 ('robust_scaler', RobustScaler(),\n",
       "                                  ['LotArea', 'MasVnrArea', 'BsmtFinSF1',\n",
       "                                   'BsmtFinSF2', 'BsmtUnfSF', 'TotalBsmtSF',\n",
       "                                   '1stFlrSF', '2ndFlrSF', 'GrLivArea',\n",
       "                                   'WoodDeckSF', 'OpenPorchSF', 'EnclosedPorch',\n",
       "                                   'ScreenPorch', 'PoolArea', 'MiscVal',\n",
       "                                   'LowQualFinSF', '3SsnPorch']),\n",
       "                                 ('minmax_scaler', MinMaxScaler(),\n",
       "                                  ['YearBuilt', 'YearRemodAdd'])],\n",
       "                   verbose_feature_names_out=False),\n",
       " 'main_pipe__preprocessor_encode_scale__remainder__poly': PolynomialFeatures(),\n",
       " 'main_pipe__preprocessor_encode_scale__remainder__preprocessor_scalers__force_int_remainder_cols': True,\n",
       " 'main_pipe__preprocessor_encode_scale__remainder__preprocessor_scalers__n_jobs': None,\n",
       " 'main_pipe__preprocessor_encode_scale__remainder__preprocessor_scalers__remainder': 'passthrough',\n",
       " 'main_pipe__preprocessor_encode_scale__remainder__preprocessor_scalers__sparse_threshold': 0.3,\n",
       " 'main_pipe__preprocessor_encode_scale__remainder__preprocessor_scalers__transformer_weights': None,\n",
       " 'main_pipe__preprocessor_encode_scale__remainder__preprocessor_scalers__transformers': [('standard_scaler',\n",
       "   StandardScaler(),\n",
       "   ['LotFrontage', 'GarageArea']),\n",
       "  ('robust_scaler',\n",
       "   RobustScaler(),\n",
       "   ['LotArea',\n",
       "    'MasVnrArea',\n",
       "    'BsmtFinSF1',\n",
       "    'BsmtFinSF2',\n",
       "    'BsmtUnfSF',\n",
       "    'TotalBsmtSF',\n",
       "    '1stFlrSF',\n",
       "    '2ndFlrSF',\n",
       "    'GrLivArea',\n",
       "    'WoodDeckSF',\n",
       "    'OpenPorchSF',\n",
       "    'EnclosedPorch',\n",
       "    'ScreenPorch',\n",
       "    'PoolArea',\n",
       "    'MiscVal',\n",
       "    'LowQualFinSF',\n",
       "    '3SsnPorch']),\n",
       "  ('minmax_scaler', MinMaxScaler(), ['YearBuilt', 'YearRemodAdd'])],\n",
       " 'main_pipe__preprocessor_encode_scale__remainder__preprocessor_scalers__verbose': False,\n",
       " 'main_pipe__preprocessor_encode_scale__remainder__preprocessor_scalers__verbose_feature_names_out': False,\n",
       " 'main_pipe__preprocessor_encode_scale__remainder__preprocessor_scalers__standard_scaler': StandardScaler(),\n",
       " 'main_pipe__preprocessor_encode_scale__remainder__preprocessor_scalers__robust_scaler': RobustScaler(),\n",
       " 'main_pipe__preprocessor_encode_scale__remainder__preprocessor_scalers__minmax_scaler': MinMaxScaler(),\n",
       " 'main_pipe__preprocessor_encode_scale__remainder__preprocessor_scalers__standard_scaler__copy': True,\n",
       " 'main_pipe__preprocessor_encode_scale__remainder__preprocessor_scalers__standard_scaler__with_mean': True,\n",
       " 'main_pipe__preprocessor_encode_scale__remainder__preprocessor_scalers__standard_scaler__with_std': True,\n",
       " 'main_pipe__preprocessor_encode_scale__remainder__preprocessor_scalers__robust_scaler__copy': True,\n",
       " 'main_pipe__preprocessor_encode_scale__remainder__preprocessor_scalers__robust_scaler__quantile_range': (25.0,\n",
       "  75.0),\n",
       " 'main_pipe__preprocessor_encode_scale__remainder__preprocessor_scalers__robust_scaler__unit_variance': False,\n",
       " 'main_pipe__preprocessor_encode_scale__remainder__preprocessor_scalers__robust_scaler__with_centering': True,\n",
       " 'main_pipe__preprocessor_encode_scale__remainder__preprocessor_scalers__robust_scaler__with_scaling': True,\n",
       " 'main_pipe__preprocessor_encode_scale__remainder__preprocessor_scalers__minmax_scaler__clip': False,\n",
       " 'main_pipe__preprocessor_encode_scale__remainder__preprocessor_scalers__minmax_scaler__copy': True,\n",
       " 'main_pipe__preprocessor_encode_scale__remainder__preprocessor_scalers__minmax_scaler__feature_range': (0,\n",
       "  1),\n",
       " 'main_pipe__preprocessor_encode_scale__remainder__poly__degree': 2,\n",
       " 'main_pipe__preprocessor_encode_scale__remainder__poly__include_bias': True,\n",
       " 'main_pipe__preprocessor_encode_scale__remainder__poly__interaction_only': False,\n",
       " 'main_pipe__preprocessor_encode_scale__remainder__poly__order': 'C',\n",
       " 'main_pipe__preprocessor_encode_scale__remainder': Pipeline(steps=[('preprocessor_scalers',\n",
       "                  ColumnTransformer(remainder='passthrough',\n",
       "                                    transformers=[('standard_scaler',\n",
       "                                                   StandardScaler(),\n",
       "                                                   ['LotFrontage',\n",
       "                                                    'GarageArea']),\n",
       "                                                  ('robust_scaler',\n",
       "                                                   RobustScaler(),\n",
       "                                                   ['LotArea', 'MasVnrArea',\n",
       "                                                    'BsmtFinSF1', 'BsmtFinSF2',\n",
       "                                                    'BsmtUnfSF', 'TotalBsmtSF',\n",
       "                                                    '1stFlrSF', '2ndFlrSF',\n",
       "                                                    'GrLivArea', 'WoodDeckSF',\n",
       "                                                    'OpenPorchSF',\n",
       "                                                    'EnclosedPorch',\n",
       "                                                    'ScreenPorch', 'PoolArea',\n",
       "                                                    'MiscVal', 'LowQualFinSF',\n",
       "                                                    '3SsnPorch']),\n",
       "                                                  ('minmax_scaler',\n",
       "                                                   MinMaxScaler(),\n",
       "                                                   ['YearBuilt',\n",
       "                                                    'YearRemodAdd'])],\n",
       "                                    verbose_feature_names_out=False)),\n",
       "                 ('poly', PolynomialFeatures())]),\n",
       " 'main_pipe__preprocessor_encode_scale__sparse_threshold': 0.3,\n",
       " 'main_pipe__preprocessor_encode_scale__transformer_weights': None,\n",
       " 'main_pipe__preprocessor_encode_scale__transformers': [('ohe',\n",
       "   OneHotEncoder(handle_unknown='ignore', sparse_output=False),\n",
       "   ['MSSubClass',\n",
       "    'MSZoning',\n",
       "    'Alley',\n",
       "    'LotShape',\n",
       "    'LandContour',\n",
       "    'LotConfig',\n",
       "    'LandSlope',\n",
       "    'Neighborhood',\n",
       "    'Condition1',\n",
       "    'Condition2',\n",
       "    'BldgType',\n",
       "    'HouseStyle',\n",
       "    'RoofStyle',\n",
       "    'RoofMatl',\n",
       "    'Exterior1st',\n",
       "    'Exterior2nd',\n",
       "    'MasVnrType',\n",
       "    'Foundation',\n",
       "    'Heating',\n",
       "    'CentralAir',\n",
       "    'Electrical',\n",
       "    'Functional',\n",
       "    'GarageType',\n",
       "    'PavedDrive',\n",
       "    'MiscFeature',\n",
       "    'MoSold',\n",
       "    'YrSold',\n",
       "    'SaleType',\n",
       "    'SaleCondition']),\n",
       "  ('oe',\n",
       "   OrdinalEncoder(mapping=[{'col': 'BsmtQual', 'data_type': dtype('O'),\n",
       "                            'mapping': NA    0\n",
       "   Po    1\n",
       "   Fa    2\n",
       "   TA    3\n",
       "   Gd    4\n",
       "   Ex    5\n",
       "   dtype: int64},\n",
       "                           {'col': 'BsmtCond', 'data_type': dtype('O'),\n",
       "                            'mapping': NA    0\n",
       "   Po    1\n",
       "   Fa    2\n",
       "   TA    3\n",
       "   Gd    4\n",
       "   Ex    5\n",
       "   dtype: int64},\n",
       "                           {'col': 'BsmtExposure', 'data_type': dtype('O'),\n",
       "                            'mapping': NA    0\n",
       "   No    1\n",
       "   Mn    2\n",
       "   Av    3\n",
       "   Gd    4\n",
       "   dtype: int64},\n",
       "                           {'col': 'BsmtFinType1', 'data_type': dtype('O'),\n",
       "                            'mapping': NA     0\n",
       "   Unf    1\n",
       "   LwQ    2\n",
       "   Rec    3\n",
       "   BLQ    4\n",
       "   ALQ    5\n",
       "   G...\n",
       "   dtype: int64},\n",
       "                           {'col': 'ExterCond', 'data_type': dtype('O'),\n",
       "                            'mapping': NA    0\n",
       "   Po    1\n",
       "   Fa    2\n",
       "   TA    3\n",
       "   Gd    4\n",
       "   Ex    5\n",
       "   dtype: int64},\n",
       "                           {'col': 'HeatingQC', 'data_type': dtype('O'),\n",
       "                            'mapping': NA    0\n",
       "   Po    1\n",
       "   Fa    2\n",
       "   TA    3\n",
       "   Gd    4\n",
       "   Ex    5\n",
       "   dtype: int64},\n",
       "                           {'col': 'KitchenQual', 'data_type': dtype('O'),\n",
       "                            'mapping': NA    0\n",
       "   Po    1\n",
       "   Fa    2\n",
       "   TA    3\n",
       "   Gd    4\n",
       "   Ex    5\n",
       "   dtype: int64},\n",
       "                           {'col': 'Fence', 'data_type': dtype('O'),\n",
       "                            'mapping': NA       0\n",
       "   MnWw     1\n",
       "   GdWo     2\n",
       "   MnPrv    3\n",
       "   GdPrv    4\n",
       "   dtype: int64}]),\n",
       "   ['OverallQual',\n",
       "    'OverallCond',\n",
       "    'ExterQual',\n",
       "    'ExterCond',\n",
       "    'BsmtQual',\n",
       "    'BsmtCond',\n",
       "    'BsmtExposure',\n",
       "    'BsmtFinType1',\n",
       "    'BsmtFinType2',\n",
       "    'HeatingQC',\n",
       "    'FireplaceQu',\n",
       "    'GarageFinish',\n",
       "    'GarageQual',\n",
       "    'GarageCond',\n",
       "    'PoolQC',\n",
       "    'KitchenQual',\n",
       "    'Fence'])],\n",
       " 'main_pipe__preprocessor_encode_scale__verbose': False,\n",
       " 'main_pipe__preprocessor_encode_scale__verbose_feature_names_out': False,\n",
       " 'main_pipe__preprocessor_encode_scale__ohe': OneHotEncoder(handle_unknown='ignore', sparse_output=False),\n",
       " 'main_pipe__preprocessor_encode_scale__oe': OrdinalEncoder(mapping=[{'col': 'BsmtQual', 'data_type': dtype('O'),\n",
       "                          'mapping': NA    0\n",
       " Po    1\n",
       " Fa    2\n",
       " TA    3\n",
       " Gd    4\n",
       " Ex    5\n",
       " dtype: int64},\n",
       "                         {'col': 'BsmtCond', 'data_type': dtype('O'),\n",
       "                          'mapping': NA    0\n",
       " Po    1\n",
       " Fa    2\n",
       " TA    3\n",
       " Gd    4\n",
       " Ex    5\n",
       " dtype: int64},\n",
       "                         {'col': 'BsmtExposure', 'data_type': dtype('O'),\n",
       "                          'mapping': NA    0\n",
       " No    1\n",
       " Mn    2\n",
       " Av    3\n",
       " Gd    4\n",
       " dtype: int64},\n",
       "                         {'col': 'BsmtFinType1', 'data_type': dtype('O'),\n",
       "                          'mapping': NA     0\n",
       " Unf    1\n",
       " LwQ    2\n",
       " Rec    3\n",
       " BLQ    4\n",
       " ALQ    5\n",
       " G...\n",
       " dtype: int64},\n",
       "                         {'col': 'ExterCond', 'data_type': dtype('O'),\n",
       "                          'mapping': NA    0\n",
       " Po    1\n",
       " Fa    2\n",
       " TA    3\n",
       " Gd    4\n",
       " Ex    5\n",
       " dtype: int64},\n",
       "                         {'col': 'HeatingQC', 'data_type': dtype('O'),\n",
       "                          'mapping': NA    0\n",
       " Po    1\n",
       " Fa    2\n",
       " TA    3\n",
       " Gd    4\n",
       " Ex    5\n",
       " dtype: int64},\n",
       "                         {'col': 'KitchenQual', 'data_type': dtype('O'),\n",
       "                          'mapping': NA    0\n",
       " Po    1\n",
       " Fa    2\n",
       " TA    3\n",
       " Gd    4\n",
       " Ex    5\n",
       " dtype: int64},\n",
       "                         {'col': 'Fence', 'data_type': dtype('O'),\n",
       "                          'mapping': NA       0\n",
       " MnWw     1\n",
       " GdWo     2\n",
       " MnPrv    3\n",
       " GdPrv    4\n",
       " dtype: int64}]),\n",
       " 'main_pipe__preprocessor_encode_scale__ohe__categories': 'auto',\n",
       " 'main_pipe__preprocessor_encode_scale__ohe__drop': None,\n",
       " 'main_pipe__preprocessor_encode_scale__ohe__dtype': numpy.float64,\n",
       " 'main_pipe__preprocessor_encode_scale__ohe__feature_name_combiner': 'concat',\n",
       " 'main_pipe__preprocessor_encode_scale__ohe__handle_unknown': 'ignore',\n",
       " 'main_pipe__preprocessor_encode_scale__ohe__max_categories': None,\n",
       " 'main_pipe__preprocessor_encode_scale__ohe__min_frequency': None,\n",
       " 'main_pipe__preprocessor_encode_scale__ohe__sparse_output': False,\n",
       " 'main_pipe__preprocessor_encode_scale__oe__cols': None,\n",
       " 'main_pipe__preprocessor_encode_scale__oe__drop_invariant': False,\n",
       " 'main_pipe__preprocessor_encode_scale__oe__handle_missing': 'value',\n",
       " 'main_pipe__preprocessor_encode_scale__oe__handle_unknown': 'value',\n",
       " 'main_pipe__preprocessor_encode_scale__oe__mapping': [{'col': 'BsmtQual',\n",
       "   'mapping': NA    0\n",
       "   Po    1\n",
       "   Fa    2\n",
       "   TA    3\n",
       "   Gd    4\n",
       "   Ex    5\n",
       "   dtype: int64,\n",
       "   'data_type': dtype('O')},\n",
       "  {'col': 'BsmtCond',\n",
       "   'mapping': NA    0\n",
       "   Po    1\n",
       "   Fa    2\n",
       "   TA    3\n",
       "   Gd    4\n",
       "   Ex    5\n",
       "   dtype: int64,\n",
       "   'data_type': dtype('O')},\n",
       "  {'col': 'BsmtExposure',\n",
       "   'mapping': NA    0\n",
       "   No    1\n",
       "   Mn    2\n",
       "   Av    3\n",
       "   Gd    4\n",
       "   dtype: int64,\n",
       "   'data_type': dtype('O')},\n",
       "  {'col': 'BsmtFinType1',\n",
       "   'mapping': NA     0\n",
       "   Unf    1\n",
       "   LwQ    2\n",
       "   Rec    3\n",
       "   BLQ    4\n",
       "   ALQ    5\n",
       "   GLQ    6\n",
       "   dtype: int64,\n",
       "   'data_type': dtype('O')},\n",
       "  {'col': 'BsmtFinType2',\n",
       "   'mapping': NA     0\n",
       "   Unf    1\n",
       "   LwQ    2\n",
       "   Rec    3\n",
       "   BLQ    4\n",
       "   ALQ    5\n",
       "   GLQ    6\n",
       "   dtype: int64,\n",
       "   'data_type': dtype('O')},\n",
       "  {'col': 'FireplaceQu',\n",
       "   'mapping': NA    0\n",
       "   Po    1\n",
       "   Fa    2\n",
       "   TA    3\n",
       "   Gd    4\n",
       "   Ex    5\n",
       "   dtype: int64,\n",
       "   'data_type': dtype('O')},\n",
       "  {'col': 'GarageFinish',\n",
       "   'mapping': NA     0\n",
       "   Unf    1\n",
       "   RFn    2\n",
       "   Fin    3\n",
       "   dtype: int64,\n",
       "   'data_type': dtype('O')},\n",
       "  {'col': 'GarageQual',\n",
       "   'mapping': NA    0\n",
       "   Po    1\n",
       "   Fa    2\n",
       "   TA    3\n",
       "   Gd    4\n",
       "   Ex    5\n",
       "   dtype: int64,\n",
       "   'data_type': dtype('O')},\n",
       "  {'col': 'GarageCond',\n",
       "   'mapping': NA    0\n",
       "   Po    1\n",
       "   Fa    2\n",
       "   TA    3\n",
       "   Gd    4\n",
       "   Ex    5\n",
       "   dtype: int64,\n",
       "   'data_type': dtype('O')},\n",
       "  {'col': 'PoolQC',\n",
       "   'mapping': NA    0\n",
       "   Po    1\n",
       "   Fa    2\n",
       "   TA    3\n",
       "   Gd    4\n",
       "   Ex    5\n",
       "   dtype: int64,\n",
       "   'data_type': dtype('O')},\n",
       "  {'col': 'ExterQual',\n",
       "   'mapping': NA    0\n",
       "   Po    1\n",
       "   Fa    2\n",
       "   TA    3\n",
       "   Gd    4\n",
       "   Ex    5\n",
       "   dtype: int64,\n",
       "   'data_type': dtype('O')},\n",
       "  {'col': 'ExterCond',\n",
       "   'mapping': NA    0\n",
       "   Po    1\n",
       "   Fa    2\n",
       "   TA    3\n",
       "   Gd    4\n",
       "   Ex    5\n",
       "   dtype: int64,\n",
       "   'data_type': dtype('O')},\n",
       "  {'col': 'HeatingQC',\n",
       "   'mapping': NA    0\n",
       "   Po    1\n",
       "   Fa    2\n",
       "   TA    3\n",
       "   Gd    4\n",
       "   Ex    5\n",
       "   dtype: int64,\n",
       "   'data_type': dtype('O')},\n",
       "  {'col': 'KitchenQual',\n",
       "   'mapping': NA    0\n",
       "   Po    1\n",
       "   Fa    2\n",
       "   TA    3\n",
       "   Gd    4\n",
       "   Ex    5\n",
       "   dtype: int64,\n",
       "   'data_type': dtype('O')},\n",
       "  {'col': 'Fence',\n",
       "   'mapping': NA       0\n",
       "   MnWw     1\n",
       "   GdWo     2\n",
       "   MnPrv    3\n",
       "   GdPrv    4\n",
       "   dtype: int64,\n",
       "   'data_type': dtype('O')}],\n",
       " 'main_pipe__preprocessor_encode_scale__oe__return_df': True,\n",
       " 'main_pipe__preprocessor_encode_scale__oe__verbose': 0,\n",
       " 'model__alpha': 1.0,\n",
       " 'model__copy_X': True,\n",
       " 'model__fit_intercept': True,\n",
       " 'model__max_iter': 1000,\n",
       " 'model__positive': False,\n",
       " 'model__precompute': False,\n",
       " 'model__random_state': None,\n",
       " 'model__selection': 'cyclic',\n",
       " 'model__tol': 0.0001,\n",
       " 'model__warm_start': False}"
      ]
     },
     "execution_count": 19,
     "metadata": {},
     "output_type": "execute_result"
    }
   ],
   "source": [
    "poly_pipe.get_params()"
   ]
  },
  {
   "cell_type": "markdown",
   "metadata": {},
   "source": [
    "# --- Model Evaluation ---"
   ]
  },
  {
   "cell_type": "code",
   "execution_count": null,
   "metadata": {},
   "outputs": [],
   "source": []
  },
  {
   "cell_type": "code",
   "execution_count": 20,
   "metadata": {},
   "outputs": [
    {
     "name": "stdout",
     "output_type": "stream",
     "text": [
      "Fitting 5 folds for each of 21 candidates, totalling 105 fits\n",
      "[CV] END main_pipe__preprocessor_encode_scale__remainder__poly__degree=1, model__alpha=1000; total time=   0.1s\n",
      "[CV] END main_pipe__preprocessor_encode_scale__remainder__poly__degree=1, model__alpha=1000; total time=   0.0s\n",
      "[CV] END main_pipe__preprocessor_encode_scale__remainder__poly__degree=1, model__alpha=1000; total time=   0.0s\n",
      "[CV] END main_pipe__preprocessor_encode_scale__remainder__poly__degree=1, model__alpha=1000; total time=   0.0s\n",
      "[CV] END main_pipe__preprocessor_encode_scale__remainder__poly__degree=1, model__alpha=1000; total time=   0.0s\n",
      "[CV] END main_pipe__preprocessor_encode_scale__remainder__poly__degree=1, model__alpha=100; total time=   0.0s\n",
      "[CV] END main_pipe__preprocessor_encode_scale__remainder__poly__degree=1, model__alpha=100; total time=   0.0s\n",
      "[CV] END main_pipe__preprocessor_encode_scale__remainder__poly__degree=1, model__alpha=100; total time=   0.0s\n",
      "[CV] END main_pipe__preprocessor_encode_scale__remainder__poly__degree=1, model__alpha=100; total time=   0.0s\n",
      "[CV] END main_pipe__preprocessor_encode_scale__remainder__poly__degree=1, model__alpha=100; total time=   0.0s\n",
      "[CV] END main_pipe__preprocessor_encode_scale__remainder__poly__degree=1, model__alpha=10; total time=   0.0s\n",
      "[CV] END main_pipe__preprocessor_encode_scale__remainder__poly__degree=1, model__alpha=10; total time=   0.0s\n",
      "[CV] END main_pipe__preprocessor_encode_scale__remainder__poly__degree=1, model__alpha=10; total time=   0.0s\n",
      "[CV] END main_pipe__preprocessor_encode_scale__remainder__poly__degree=1, model__alpha=10; total time=   0.0s\n",
      "[CV] END main_pipe__preprocessor_encode_scale__remainder__poly__degree=1, model__alpha=10; total time=   0.0s\n",
      "[CV] END main_pipe__preprocessor_encode_scale__remainder__poly__degree=1, model__alpha=1; total time=   0.0s\n",
      "[CV] END main_pipe__preprocessor_encode_scale__remainder__poly__degree=1, model__alpha=1; total time=   0.0s\n",
      "[CV] END main_pipe__preprocessor_encode_scale__remainder__poly__degree=1, model__alpha=1; total time=   0.0s\n",
      "[CV] END main_pipe__preprocessor_encode_scale__remainder__poly__degree=1, model__alpha=1; total time=   0.0s\n",
      "[CV] END main_pipe__preprocessor_encode_scale__remainder__poly__degree=1, model__alpha=1; total time=   0.0s\n",
      "[CV] END main_pipe__preprocessor_encode_scale__remainder__poly__degree=1, model__alpha=0.1; total time=   0.0s\n",
      "[CV] END main_pipe__preprocessor_encode_scale__remainder__poly__degree=1, model__alpha=0.1; total time=   0.0s\n",
      "[CV] END main_pipe__preprocessor_encode_scale__remainder__poly__degree=1, model__alpha=0.1; total time=   0.0s\n",
      "[CV] END main_pipe__preprocessor_encode_scale__remainder__poly__degree=1, model__alpha=0.1; total time=   0.0s\n",
      "[CV] END main_pipe__preprocessor_encode_scale__remainder__poly__degree=1, model__alpha=0.1; total time=   0.0s\n",
      "[CV] END main_pipe__preprocessor_encode_scale__remainder__poly__degree=1, model__alpha=0.001; total time=   0.1s\n",
      "[CV] END main_pipe__preprocessor_encode_scale__remainder__poly__degree=1, model__alpha=0.001; total time=   0.1s\n",
      "[CV] END main_pipe__preprocessor_encode_scale__remainder__poly__degree=1, model__alpha=0.001; total time=   0.1s\n",
      "[CV] END main_pipe__preprocessor_encode_scale__remainder__poly__degree=1, model__alpha=0.001; total time=   0.1s\n",
      "[CV] END main_pipe__preprocessor_encode_scale__remainder__poly__degree=1, model__alpha=0.001; total time=   0.1s\n",
      "[CV] END main_pipe__preprocessor_encode_scale__remainder__poly__degree=1, model__alpha=0.0001; total time=   0.3s\n"
     ]
    },
    {
     "name": "stderr",
     "output_type": "stream",
     "text": [
      "/Users/annahan/Documents/GitHub/learning-fuze/live_class_W1D2_0125/.conda/lib/python3.12/site-packages/sklearn/linear_model/_coordinate_descent.py:695: ConvergenceWarning: Objective did not converge. You might want to increase the number of iterations, check the scale of the features or consider increasing regularisation. Duality gap: 5.389e-01, tolerance: 1.436e-02\n",
      "  model = cd_fast.enet_coordinate_descent(\n"
     ]
    },
    {
     "name": "stdout",
     "output_type": "stream",
     "text": [
      "[CV] END main_pipe__preprocessor_encode_scale__remainder__poly__degree=1, model__alpha=0.0001; total time=   0.2s\n",
      "[CV] END main_pipe__preprocessor_encode_scale__remainder__poly__degree=1, model__alpha=0.0001; total time=   0.2s\n"
     ]
    },
    {
     "name": "stderr",
     "output_type": "stream",
     "text": [
      "/Users/annahan/Documents/GitHub/learning-fuze/live_class_W1D2_0125/.conda/lib/python3.12/site-packages/sklearn/linear_model/_coordinate_descent.py:695: ConvergenceWarning: Objective did not converge. You might want to increase the number of iterations, check the scale of the features or consider increasing regularisation. Duality gap: 1.005e+00, tolerance: 1.440e-02\n",
      "  model = cd_fast.enet_coordinate_descent(\n"
     ]
    },
    {
     "name": "stdout",
     "output_type": "stream",
     "text": [
      "[CV] END main_pipe__preprocessor_encode_scale__remainder__poly__degree=1, model__alpha=0.0001; total time=   0.3s\n"
     ]
    },
    {
     "name": "stderr",
     "output_type": "stream",
     "text": [
      "/Users/annahan/Documents/GitHub/learning-fuze/live_class_W1D2_0125/.conda/lib/python3.12/site-packages/sklearn/linear_model/_coordinate_descent.py:695: ConvergenceWarning: Objective did not converge. You might want to increase the number of iterations, check the scale of the features or consider increasing regularisation. Duality gap: 1.172e-01, tolerance: 1.482e-02\n",
      "  model = cd_fast.enet_coordinate_descent(\n"
     ]
    },
    {
     "name": "stdout",
     "output_type": "stream",
     "text": [
      "[CV] END main_pipe__preprocessor_encode_scale__remainder__poly__degree=1, model__alpha=0.0001; total time=   0.3s\n",
      "[CV] END main_pipe__preprocessor_encode_scale__remainder__poly__degree=2, model__alpha=1000; total time=   0.1s\n",
      "[CV] END main_pipe__preprocessor_encode_scale__remainder__poly__degree=2, model__alpha=1000; total time=   0.1s\n",
      "[CV] END main_pipe__preprocessor_encode_scale__remainder__poly__degree=2, model__alpha=1000; total time=   0.1s\n",
      "[CV] END main_pipe__preprocessor_encode_scale__remainder__poly__degree=2, model__alpha=1000; total time=   0.1s\n",
      "[CV] END main_pipe__preprocessor_encode_scale__remainder__poly__degree=2, model__alpha=1000; total time=   0.1s\n",
      "[CV] END main_pipe__preprocessor_encode_scale__remainder__poly__degree=2, model__alpha=100; total time=   0.1s\n",
      "[CV] END main_pipe__preprocessor_encode_scale__remainder__poly__degree=2, model__alpha=100; total time=   0.1s\n",
      "[CV] END main_pipe__preprocessor_encode_scale__remainder__poly__degree=2, model__alpha=100; total time=   0.1s\n",
      "[CV] END main_pipe__preprocessor_encode_scale__remainder__poly__degree=2, model__alpha=100; total time=   0.1s\n",
      "[CV] END main_pipe__preprocessor_encode_scale__remainder__poly__degree=2, model__alpha=100; total time=   0.1s\n",
      "[CV] END main_pipe__preprocessor_encode_scale__remainder__poly__degree=2, model__alpha=10; total time=   0.2s\n",
      "[CV] END main_pipe__preprocessor_encode_scale__remainder__poly__degree=2, model__alpha=10; total time=   0.2s\n",
      "[CV] END main_pipe__preprocessor_encode_scale__remainder__poly__degree=2, model__alpha=10; total time=   0.2s\n",
      "[CV] END main_pipe__preprocessor_encode_scale__remainder__poly__degree=2, model__alpha=10; total time=   0.2s\n"
     ]
    },
    {
     "name": "stderr",
     "output_type": "stream",
     "text": [
      "/Users/annahan/Documents/GitHub/learning-fuze/live_class_W1D2_0125/.conda/lib/python3.12/site-packages/sklearn/linear_model/_coordinate_descent.py:695: ConvergenceWarning: Objective did not converge. You might want to increase the number of iterations, check the scale of the features or consider increasing regularisation. Duality gap: 2.656e+00, tolerance: 1.482e-02\n",
      "  model = cd_fast.enet_coordinate_descent(\n"
     ]
    },
    {
     "name": "stdout",
     "output_type": "stream",
     "text": [
      "[CV] END main_pipe__preprocessor_encode_scale__remainder__poly__degree=2, model__alpha=10; total time=   0.3s\n"
     ]
    },
    {
     "name": "stderr",
     "output_type": "stream",
     "text": [
      "/Users/annahan/Documents/GitHub/learning-fuze/live_class_W1D2_0125/.conda/lib/python3.12/site-packages/sklearn/linear_model/_coordinate_descent.py:695: ConvergenceWarning: Objective did not converge. You might want to increase the number of iterations, check the scale of the features or consider increasing regularisation. Duality gap: 1.074e+01, tolerance: 1.428e-02\n",
      "  model = cd_fast.enet_coordinate_descent(\n"
     ]
    },
    {
     "name": "stdout",
     "output_type": "stream",
     "text": [
      "[CV] END main_pipe__preprocessor_encode_scale__remainder__poly__degree=2, model__alpha=1; total time=   0.3s\n",
      "[CV] END main_pipe__preprocessor_encode_scale__remainder__poly__degree=2, model__alpha=1; total time=   0.3s\n"
     ]
    },
    {
     "name": "stderr",
     "output_type": "stream",
     "text": [
      "/Users/annahan/Documents/GitHub/learning-fuze/live_class_W1D2_0125/.conda/lib/python3.12/site-packages/sklearn/linear_model/_coordinate_descent.py:695: ConvergenceWarning: Objective did not converge. You might want to increase the number of iterations, check the scale of the features or consider increasing regularisation. Duality gap: 1.131e-01, tolerance: 1.335e-02\n",
      "  model = cd_fast.enet_coordinate_descent(\n"
     ]
    },
    {
     "name": "stdout",
     "output_type": "stream",
     "text": [
      "[CV] END main_pipe__preprocessor_encode_scale__remainder__poly__degree=2, model__alpha=1; total time=   0.3s\n",
      "[CV] END main_pipe__preprocessor_encode_scale__remainder__poly__degree=2, model__alpha=1; total time=   0.3s\n"
     ]
    },
    {
     "name": "stderr",
     "output_type": "stream",
     "text": [
      "/Users/annahan/Documents/GitHub/learning-fuze/live_class_W1D2_0125/.conda/lib/python3.12/site-packages/sklearn/linear_model/_coordinate_descent.py:695: ConvergenceWarning: Objective did not converge. You might want to increase the number of iterations, check the scale of the features or consider increasing regularisation. Duality gap: 9.370e+00, tolerance: 1.482e-02\n",
      "  model = cd_fast.enet_coordinate_descent(\n"
     ]
    },
    {
     "name": "stdout",
     "output_type": "stream",
     "text": [
      "[CV] END main_pipe__preprocessor_encode_scale__remainder__poly__degree=2, model__alpha=1; total time=   0.3s\n"
     ]
    },
    {
     "name": "stderr",
     "output_type": "stream",
     "text": [
      "/Users/annahan/Documents/GitHub/learning-fuze/live_class_W1D2_0125/.conda/lib/python3.12/site-packages/sklearn/linear_model/_coordinate_descent.py:695: ConvergenceWarning: Objective did not converge. You might want to increase the number of iterations, check the scale of the features or consider increasing regularisation. Duality gap: 1.149e+01, tolerance: 1.428e-02\n",
      "  model = cd_fast.enet_coordinate_descent(\n"
     ]
    },
    {
     "name": "stdout",
     "output_type": "stream",
     "text": [
      "[CV] END main_pipe__preprocessor_encode_scale__remainder__poly__degree=2, model__alpha=0.1; total time=   0.3s\n"
     ]
    },
    {
     "name": "stderr",
     "output_type": "stream",
     "text": [
      "/Users/annahan/Documents/GitHub/learning-fuze/live_class_W1D2_0125/.conda/lib/python3.12/site-packages/sklearn/linear_model/_coordinate_descent.py:695: ConvergenceWarning: Objective did not converge. You might want to increase the number of iterations, check the scale of the features or consider increasing regularisation. Duality gap: 9.530e+00, tolerance: 1.436e-02\n",
      "  model = cd_fast.enet_coordinate_descent(\n"
     ]
    },
    {
     "name": "stdout",
     "output_type": "stream",
     "text": [
      "[CV] END main_pipe__preprocessor_encode_scale__remainder__poly__degree=2, model__alpha=0.1; total time=   0.3s\n"
     ]
    },
    {
     "name": "stderr",
     "output_type": "stream",
     "text": [
      "/Users/annahan/Documents/GitHub/learning-fuze/live_class_W1D2_0125/.conda/lib/python3.12/site-packages/sklearn/linear_model/_coordinate_descent.py:695: ConvergenceWarning: Objective did not converge. You might want to increase the number of iterations, check the scale of the features or consider increasing regularisation. Duality gap: 1.049e+01, tolerance: 1.335e-02\n",
      "  model = cd_fast.enet_coordinate_descent(\n"
     ]
    },
    {
     "name": "stdout",
     "output_type": "stream",
     "text": [
      "[CV] END main_pipe__preprocessor_encode_scale__remainder__poly__degree=2, model__alpha=0.1; total time=   0.4s\n"
     ]
    },
    {
     "name": "stderr",
     "output_type": "stream",
     "text": [
      "/Users/annahan/Documents/GitHub/learning-fuze/live_class_W1D2_0125/.conda/lib/python3.12/site-packages/sklearn/linear_model/_coordinate_descent.py:695: ConvergenceWarning: Objective did not converge. You might want to increase the number of iterations, check the scale of the features or consider increasing regularisation. Duality gap: 1.149e+01, tolerance: 1.440e-02\n",
      "  model = cd_fast.enet_coordinate_descent(\n"
     ]
    },
    {
     "name": "stdout",
     "output_type": "stream",
     "text": [
      "[CV] END main_pipe__preprocessor_encode_scale__remainder__poly__degree=2, model__alpha=0.1; total time=   0.3s\n"
     ]
    },
    {
     "name": "stderr",
     "output_type": "stream",
     "text": [
      "/Users/annahan/Documents/GitHub/learning-fuze/live_class_W1D2_0125/.conda/lib/python3.12/site-packages/sklearn/linear_model/_coordinate_descent.py:695: ConvergenceWarning: Objective did not converge. You might want to increase the number of iterations, check the scale of the features or consider increasing regularisation. Duality gap: 1.152e+01, tolerance: 1.482e-02\n",
      "  model = cd_fast.enet_coordinate_descent(\n"
     ]
    },
    {
     "name": "stdout",
     "output_type": "stream",
     "text": [
      "[CV] END main_pipe__preprocessor_encode_scale__remainder__poly__degree=2, model__alpha=0.1; total time=   0.4s\n"
     ]
    },
    {
     "name": "stderr",
     "output_type": "stream",
     "text": [
      "/Users/annahan/Documents/GitHub/learning-fuze/live_class_W1D2_0125/.conda/lib/python3.12/site-packages/sklearn/linear_model/_coordinate_descent.py:695: ConvergenceWarning: Objective did not converge. You might want to increase the number of iterations, check the scale of the features or consider increasing regularisation. Duality gap: 4.644e+00, tolerance: 1.428e-02\n",
      "  model = cd_fast.enet_coordinate_descent(\n"
     ]
    },
    {
     "name": "stdout",
     "output_type": "stream",
     "text": [
      "[CV] END main_pipe__preprocessor_encode_scale__remainder__poly__degree=2, model__alpha=0.001; total time=   0.5s\n"
     ]
    },
    {
     "name": "stderr",
     "output_type": "stream",
     "text": [
      "/Users/annahan/Documents/GitHub/learning-fuze/live_class_W1D2_0125/.conda/lib/python3.12/site-packages/sklearn/linear_model/_coordinate_descent.py:695: ConvergenceWarning: Objective did not converge. You might want to increase the number of iterations, check the scale of the features or consider increasing regularisation. Duality gap: 4.288e+00, tolerance: 1.436e-02\n",
      "  model = cd_fast.enet_coordinate_descent(\n"
     ]
    },
    {
     "name": "stdout",
     "output_type": "stream",
     "text": [
      "[CV] END main_pipe__preprocessor_encode_scale__remainder__poly__degree=2, model__alpha=0.001; total time=   0.5s\n"
     ]
    },
    {
     "name": "stderr",
     "output_type": "stream",
     "text": [
      "/Users/annahan/Documents/GitHub/learning-fuze/live_class_W1D2_0125/.conda/lib/python3.12/site-packages/sklearn/linear_model/_coordinate_descent.py:695: ConvergenceWarning: Objective did not converge. You might want to increase the number of iterations, check the scale of the features or consider increasing regularisation. Duality gap: 4.349e+00, tolerance: 1.335e-02\n",
      "  model = cd_fast.enet_coordinate_descent(\n"
     ]
    },
    {
     "name": "stdout",
     "output_type": "stream",
     "text": [
      "[CV] END main_pipe__preprocessor_encode_scale__remainder__poly__degree=2, model__alpha=0.001; total time=   0.5s\n"
     ]
    },
    {
     "name": "stderr",
     "output_type": "stream",
     "text": [
      "/Users/annahan/Documents/GitHub/learning-fuze/live_class_W1D2_0125/.conda/lib/python3.12/site-packages/sklearn/linear_model/_coordinate_descent.py:695: ConvergenceWarning: Objective did not converge. You might want to increase the number of iterations, check the scale of the features or consider increasing regularisation. Duality gap: 4.821e+00, tolerance: 1.440e-02\n",
      "  model = cd_fast.enet_coordinate_descent(\n"
     ]
    },
    {
     "name": "stdout",
     "output_type": "stream",
     "text": [
      "[CV] END main_pipe__preprocessor_encode_scale__remainder__poly__degree=2, model__alpha=0.001; total time=   0.5s\n"
     ]
    },
    {
     "name": "stderr",
     "output_type": "stream",
     "text": [
      "/Users/annahan/Documents/GitHub/learning-fuze/live_class_W1D2_0125/.conda/lib/python3.12/site-packages/sklearn/linear_model/_coordinate_descent.py:695: ConvergenceWarning: Objective did not converge. You might want to increase the number of iterations, check the scale of the features or consider increasing regularisation. Duality gap: 4.649e+00, tolerance: 1.482e-02\n",
      "  model = cd_fast.enet_coordinate_descent(\n"
     ]
    },
    {
     "name": "stdout",
     "output_type": "stream",
     "text": [
      "[CV] END main_pipe__preprocessor_encode_scale__remainder__poly__degree=2, model__alpha=0.001; total time=   0.5s\n"
     ]
    },
    {
     "name": "stderr",
     "output_type": "stream",
     "text": [
      "/Users/annahan/Documents/GitHub/learning-fuze/live_class_W1D2_0125/.conda/lib/python3.12/site-packages/sklearn/linear_model/_coordinate_descent.py:695: ConvergenceWarning: Objective did not converge. You might want to increase the number of iterations, check the scale of the features or consider increasing regularisation. Duality gap: 2.618e+00, tolerance: 1.428e-02\n",
      "  model = cd_fast.enet_coordinate_descent(\n"
     ]
    },
    {
     "name": "stdout",
     "output_type": "stream",
     "text": [
      "[CV] END main_pipe__preprocessor_encode_scale__remainder__poly__degree=2, model__alpha=0.0001; total time=   0.6s\n"
     ]
    },
    {
     "name": "stderr",
     "output_type": "stream",
     "text": [
      "/Users/annahan/Documents/GitHub/learning-fuze/live_class_W1D2_0125/.conda/lib/python3.12/site-packages/sklearn/linear_model/_coordinate_descent.py:695: ConvergenceWarning: Objective did not converge. You might want to increase the number of iterations, check the scale of the features or consider increasing regularisation. Duality gap: 2.421e+00, tolerance: 1.436e-02\n",
      "  model = cd_fast.enet_coordinate_descent(\n"
     ]
    },
    {
     "name": "stdout",
     "output_type": "stream",
     "text": [
      "[CV] END main_pipe__preprocessor_encode_scale__remainder__poly__degree=2, model__alpha=0.0001; total time=   0.6s\n"
     ]
    },
    {
     "name": "stderr",
     "output_type": "stream",
     "text": [
      "/Users/annahan/Documents/GitHub/learning-fuze/live_class_W1D2_0125/.conda/lib/python3.12/site-packages/sklearn/linear_model/_coordinate_descent.py:695: ConvergenceWarning: Objective did not converge. You might want to increase the number of iterations, check the scale of the features or consider increasing regularisation. Duality gap: 2.470e+00, tolerance: 1.335e-02\n",
      "  model = cd_fast.enet_coordinate_descent(\n"
     ]
    },
    {
     "name": "stdout",
     "output_type": "stream",
     "text": [
      "[CV] END main_pipe__preprocessor_encode_scale__remainder__poly__degree=2, model__alpha=0.0001; total time=   0.8s\n"
     ]
    },
    {
     "name": "stderr",
     "output_type": "stream",
     "text": [
      "/Users/annahan/Documents/GitHub/learning-fuze/live_class_W1D2_0125/.conda/lib/python3.12/site-packages/sklearn/linear_model/_coordinate_descent.py:695: ConvergenceWarning: Objective did not converge. You might want to increase the number of iterations, check the scale of the features or consider increasing regularisation. Duality gap: 2.611e+00, tolerance: 1.440e-02\n",
      "  model = cd_fast.enet_coordinate_descent(\n"
     ]
    },
    {
     "name": "stdout",
     "output_type": "stream",
     "text": [
      "[CV] END main_pipe__preprocessor_encode_scale__remainder__poly__degree=2, model__alpha=0.0001; total time=   0.7s\n"
     ]
    },
    {
     "name": "stderr",
     "output_type": "stream",
     "text": [
      "/Users/annahan/Documents/GitHub/learning-fuze/live_class_W1D2_0125/.conda/lib/python3.12/site-packages/sklearn/linear_model/_coordinate_descent.py:695: ConvergenceWarning: Objective did not converge. You might want to increase the number of iterations, check the scale of the features or consider increasing regularisation. Duality gap: 2.487e+00, tolerance: 1.482e-02\n",
      "  model = cd_fast.enet_coordinate_descent(\n"
     ]
    },
    {
     "name": "stdout",
     "output_type": "stream",
     "text": [
      "[CV] END main_pipe__preprocessor_encode_scale__remainder__poly__degree=2, model__alpha=0.0001; total time=   0.7s\n"
     ]
    },
    {
     "name": "stderr",
     "output_type": "stream",
     "text": [
      "/Users/annahan/Documents/GitHub/learning-fuze/live_class_W1D2_0125/.conda/lib/python3.12/site-packages/sklearn/linear_model/_coordinate_descent.py:695: ConvergenceWarning: Objective did not converge. You might want to increase the number of iterations, check the scale of the features or consider increasing regularisation. Duality gap: 1.208e+01, tolerance: 1.428e-02\n",
      "  model = cd_fast.enet_coordinate_descent(\n"
     ]
    },
    {
     "name": "stdout",
     "output_type": "stream",
     "text": [
      "[CV] END main_pipe__preprocessor_encode_scale__remainder__poly__degree=3, model__alpha=1000; total time=   2.8s\n"
     ]
    },
    {
     "name": "stderr",
     "output_type": "stream",
     "text": [
      "/Users/annahan/Documents/GitHub/learning-fuze/live_class_W1D2_0125/.conda/lib/python3.12/site-packages/sklearn/linear_model/_coordinate_descent.py:695: ConvergenceWarning: Objective did not converge. You might want to increase the number of iterations, check the scale of the features or consider increasing regularisation. Duality gap: 1.030e+01, tolerance: 1.436e-02\n",
      "  model = cd_fast.enet_coordinate_descent(\n"
     ]
    },
    {
     "name": "stdout",
     "output_type": "stream",
     "text": [
      "[CV] END main_pipe__preprocessor_encode_scale__remainder__poly__degree=3, model__alpha=1000; total time=   3.2s\n"
     ]
    },
    {
     "name": "stderr",
     "output_type": "stream",
     "text": [
      "/Users/annahan/Documents/GitHub/learning-fuze/live_class_W1D2_0125/.conda/lib/python3.12/site-packages/sklearn/linear_model/_coordinate_descent.py:695: ConvergenceWarning: Objective did not converge. You might want to increase the number of iterations, check the scale of the features or consider increasing regularisation. Duality gap: 1.108e+01, tolerance: 1.335e-02\n",
      "  model = cd_fast.enet_coordinate_descent(\n"
     ]
    },
    {
     "name": "stdout",
     "output_type": "stream",
     "text": [
      "[CV] END main_pipe__preprocessor_encode_scale__remainder__poly__degree=3, model__alpha=1000; total time=   2.9s\n"
     ]
    },
    {
     "name": "stderr",
     "output_type": "stream",
     "text": [
      "/Users/annahan/Documents/GitHub/learning-fuze/live_class_W1D2_0125/.conda/lib/python3.12/site-packages/sklearn/linear_model/_coordinate_descent.py:695: ConvergenceWarning: Objective did not converge. You might want to increase the number of iterations, check the scale of the features or consider increasing regularisation. Duality gap: 1.252e+01, tolerance: 1.440e-02\n",
      "  model = cd_fast.enet_coordinate_descent(\n"
     ]
    },
    {
     "name": "stdout",
     "output_type": "stream",
     "text": [
      "[CV] END main_pipe__preprocessor_encode_scale__remainder__poly__degree=3, model__alpha=1000; total time=   3.4s\n"
     ]
    },
    {
     "name": "stderr",
     "output_type": "stream",
     "text": [
      "/Users/annahan/Documents/GitHub/learning-fuze/live_class_W1D2_0125/.conda/lib/python3.12/site-packages/sklearn/linear_model/_coordinate_descent.py:695: ConvergenceWarning: Objective did not converge. You might want to increase the number of iterations, check the scale of the features or consider increasing regularisation. Duality gap: 1.255e+01, tolerance: 1.482e-02\n",
      "  model = cd_fast.enet_coordinate_descent(\n"
     ]
    },
    {
     "name": "stdout",
     "output_type": "stream",
     "text": [
      "[CV] END main_pipe__preprocessor_encode_scale__remainder__poly__degree=3, model__alpha=1000; total time=   2.9s\n"
     ]
    },
    {
     "name": "stderr",
     "output_type": "stream",
     "text": [
      "/Users/annahan/Documents/GitHub/learning-fuze/live_class_W1D2_0125/.conda/lib/python3.12/site-packages/sklearn/linear_model/_coordinate_descent.py:695: ConvergenceWarning: Objective did not converge. You might want to increase the number of iterations, check the scale of the features or consider increasing regularisation. Duality gap: 1.116e+01, tolerance: 1.428e-02\n",
      "  model = cd_fast.enet_coordinate_descent(\n"
     ]
    },
    {
     "name": "stdout",
     "output_type": "stream",
     "text": [
      "[CV] END main_pipe__preprocessor_encode_scale__remainder__poly__degree=3, model__alpha=100; total time=   3.5s\n"
     ]
    },
    {
     "name": "stderr",
     "output_type": "stream",
     "text": [
      "/Users/annahan/Documents/GitHub/learning-fuze/live_class_W1D2_0125/.conda/lib/python3.12/site-packages/sklearn/linear_model/_coordinate_descent.py:695: ConvergenceWarning: Objective did not converge. You might want to increase the number of iterations, check the scale of the features or consider increasing regularisation. Duality gap: 9.433e+00, tolerance: 1.436e-02\n",
      "  model = cd_fast.enet_coordinate_descent(\n"
     ]
    },
    {
     "name": "stdout",
     "output_type": "stream",
     "text": [
      "[CV] END main_pipe__preprocessor_encode_scale__remainder__poly__degree=3, model__alpha=100; total time=   2.9s\n"
     ]
    },
    {
     "name": "stderr",
     "output_type": "stream",
     "text": [
      "/Users/annahan/Documents/GitHub/learning-fuze/live_class_W1D2_0125/.conda/lib/python3.12/site-packages/sklearn/linear_model/_coordinate_descent.py:695: ConvergenceWarning: Objective did not converge. You might want to increase the number of iterations, check the scale of the features or consider increasing regularisation. Duality gap: 1.025e+01, tolerance: 1.335e-02\n",
      "  model = cd_fast.enet_coordinate_descent(\n"
     ]
    },
    {
     "name": "stdout",
     "output_type": "stream",
     "text": [
      "[CV] END main_pipe__preprocessor_encode_scale__remainder__poly__degree=3, model__alpha=100; total time=   3.2s\n"
     ]
    },
    {
     "name": "stderr",
     "output_type": "stream",
     "text": [
      "/Users/annahan/Documents/GitHub/learning-fuze/live_class_W1D2_0125/.conda/lib/python3.12/site-packages/sklearn/linear_model/_coordinate_descent.py:695: ConvergenceWarning: Objective did not converge. You might want to increase the number of iterations, check the scale of the features or consider increasing regularisation. Duality gap: 1.147e+01, tolerance: 1.440e-02\n",
      "  model = cd_fast.enet_coordinate_descent(\n"
     ]
    },
    {
     "name": "stdout",
     "output_type": "stream",
     "text": [
      "[CV] END main_pipe__preprocessor_encode_scale__remainder__poly__degree=3, model__alpha=100; total time=   3.7s\n"
     ]
    },
    {
     "name": "stderr",
     "output_type": "stream",
     "text": [
      "/Users/annahan/Documents/GitHub/learning-fuze/live_class_W1D2_0125/.conda/lib/python3.12/site-packages/sklearn/linear_model/_coordinate_descent.py:695: ConvergenceWarning: Objective did not converge. You might want to increase the number of iterations, check the scale of the features or consider increasing regularisation. Duality gap: 1.148e+01, tolerance: 1.482e-02\n",
      "  model = cd_fast.enet_coordinate_descent(\n"
     ]
    },
    {
     "name": "stdout",
     "output_type": "stream",
     "text": [
      "[CV] END main_pipe__preprocessor_encode_scale__remainder__poly__degree=3, model__alpha=100; total time=   3.3s\n"
     ]
    },
    {
     "name": "stderr",
     "output_type": "stream",
     "text": [
      "/Users/annahan/Documents/GitHub/learning-fuze/live_class_W1D2_0125/.conda/lib/python3.12/site-packages/sklearn/linear_model/_coordinate_descent.py:695: ConvergenceWarning: Objective did not converge. You might want to increase the number of iterations, check the scale of the features or consider increasing regularisation. Duality gap: 9.001e+00, tolerance: 1.428e-02\n",
      "  model = cd_fast.enet_coordinate_descent(\n"
     ]
    },
    {
     "name": "stdout",
     "output_type": "stream",
     "text": [
      "[CV] END main_pipe__preprocessor_encode_scale__remainder__poly__degree=3, model__alpha=10; total time=   3.1s\n"
     ]
    },
    {
     "name": "stderr",
     "output_type": "stream",
     "text": [
      "/Users/annahan/Documents/GitHub/learning-fuze/live_class_W1D2_0125/.conda/lib/python3.12/site-packages/sklearn/linear_model/_coordinate_descent.py:695: ConvergenceWarning: Objective did not converge. You might want to increase the number of iterations, check the scale of the features or consider increasing regularisation. Duality gap: 8.258e+00, tolerance: 1.436e-02\n",
      "  model = cd_fast.enet_coordinate_descent(\n"
     ]
    },
    {
     "name": "stdout",
     "output_type": "stream",
     "text": [
      "[CV] END main_pipe__preprocessor_encode_scale__remainder__poly__degree=3, model__alpha=10; total time=   3.1s\n"
     ]
    },
    {
     "name": "stderr",
     "output_type": "stream",
     "text": [
      "/Users/annahan/Documents/GitHub/learning-fuze/live_class_W1D2_0125/.conda/lib/python3.12/site-packages/sklearn/linear_model/_coordinate_descent.py:695: ConvergenceWarning: Objective did not converge. You might want to increase the number of iterations, check the scale of the features or consider increasing regularisation. Duality gap: 8.299e+00, tolerance: 1.335e-02\n",
      "  model = cd_fast.enet_coordinate_descent(\n"
     ]
    },
    {
     "name": "stdout",
     "output_type": "stream",
     "text": [
      "[CV] END main_pipe__preprocessor_encode_scale__remainder__poly__degree=3, model__alpha=10; total time=   3.3s\n"
     ]
    },
    {
     "name": "stderr",
     "output_type": "stream",
     "text": [
      "/Users/annahan/Documents/GitHub/learning-fuze/live_class_W1D2_0125/.conda/lib/python3.12/site-packages/sklearn/linear_model/_coordinate_descent.py:695: ConvergenceWarning: Objective did not converge. You might want to increase the number of iterations, check the scale of the features or consider increasing regularisation. Duality gap: 8.982e+00, tolerance: 1.440e-02\n",
      "  model = cd_fast.enet_coordinate_descent(\n"
     ]
    },
    {
     "name": "stdout",
     "output_type": "stream",
     "text": [
      "[CV] END main_pipe__preprocessor_encode_scale__remainder__poly__degree=3, model__alpha=10; total time=   3.1s\n"
     ]
    },
    {
     "name": "stderr",
     "output_type": "stream",
     "text": [
      "/Users/annahan/Documents/GitHub/learning-fuze/live_class_W1D2_0125/.conda/lib/python3.12/site-packages/sklearn/linear_model/_coordinate_descent.py:695: ConvergenceWarning: Objective did not converge. You might want to increase the number of iterations, check the scale of the features or consider increasing regularisation. Duality gap: 9.190e+00, tolerance: 1.482e-02\n",
      "  model = cd_fast.enet_coordinate_descent(\n"
     ]
    },
    {
     "name": "stdout",
     "output_type": "stream",
     "text": [
      "[CV] END main_pipe__preprocessor_encode_scale__remainder__poly__degree=3, model__alpha=10; total time=   3.1s\n"
     ]
    },
    {
     "name": "stderr",
     "output_type": "stream",
     "text": [
      "/Users/annahan/Documents/GitHub/learning-fuze/live_class_W1D2_0125/.conda/lib/python3.12/site-packages/sklearn/linear_model/_coordinate_descent.py:695: ConvergenceWarning: Objective did not converge. You might want to increase the number of iterations, check the scale of the features or consider increasing regularisation. Duality gap: 7.022e+00, tolerance: 1.428e-02\n",
      "  model = cd_fast.enet_coordinate_descent(\n"
     ]
    },
    {
     "name": "stdout",
     "output_type": "stream",
     "text": [
      "[CV] END main_pipe__preprocessor_encode_scale__remainder__poly__degree=3, model__alpha=1; total time=   3.4s\n"
     ]
    },
    {
     "name": "stderr",
     "output_type": "stream",
     "text": [
      "/Users/annahan/Documents/GitHub/learning-fuze/live_class_W1D2_0125/.conda/lib/python3.12/site-packages/sklearn/linear_model/_coordinate_descent.py:695: ConvergenceWarning: Objective did not converge. You might want to increase the number of iterations, check the scale of the features or consider increasing regularisation. Duality gap: 6.565e+00, tolerance: 1.436e-02\n",
      "  model = cd_fast.enet_coordinate_descent(\n"
     ]
    },
    {
     "name": "stdout",
     "output_type": "stream",
     "text": [
      "[CV] END main_pipe__preprocessor_encode_scale__remainder__poly__degree=3, model__alpha=1; total time=   3.3s\n"
     ]
    },
    {
     "name": "stderr",
     "output_type": "stream",
     "text": [
      "/Users/annahan/Documents/GitHub/learning-fuze/live_class_W1D2_0125/.conda/lib/python3.12/site-packages/sklearn/linear_model/_coordinate_descent.py:695: ConvergenceWarning: Objective did not converge. You might want to increase the number of iterations, check the scale of the features or consider increasing regularisation. Duality gap: 6.582e+00, tolerance: 1.335e-02\n",
      "  model = cd_fast.enet_coordinate_descent(\n"
     ]
    },
    {
     "name": "stdout",
     "output_type": "stream",
     "text": [
      "[CV] END main_pipe__preprocessor_encode_scale__remainder__poly__degree=3, model__alpha=1; total time=   3.3s\n"
     ]
    },
    {
     "name": "stderr",
     "output_type": "stream",
     "text": [
      "/Users/annahan/Documents/GitHub/learning-fuze/live_class_W1D2_0125/.conda/lib/python3.12/site-packages/sklearn/linear_model/_coordinate_descent.py:695: ConvergenceWarning: Objective did not converge. You might want to increase the number of iterations, check the scale of the features or consider increasing regularisation. Duality gap: 6.911e+00, tolerance: 1.440e-02\n",
      "  model = cd_fast.enet_coordinate_descent(\n"
     ]
    },
    {
     "name": "stdout",
     "output_type": "stream",
     "text": [
      "[CV] END main_pipe__preprocessor_encode_scale__remainder__poly__degree=3, model__alpha=1; total time=   3.4s\n"
     ]
    },
    {
     "name": "stderr",
     "output_type": "stream",
     "text": [
      "/Users/annahan/Documents/GitHub/learning-fuze/live_class_W1D2_0125/.conda/lib/python3.12/site-packages/sklearn/linear_model/_coordinate_descent.py:695: ConvergenceWarning: Objective did not converge. You might want to increase the number of iterations, check the scale of the features or consider increasing regularisation. Duality gap: 7.038e+00, tolerance: 1.482e-02\n",
      "  model = cd_fast.enet_coordinate_descent(\n"
     ]
    },
    {
     "name": "stdout",
     "output_type": "stream",
     "text": [
      "[CV] END main_pipe__preprocessor_encode_scale__remainder__poly__degree=3, model__alpha=1; total time=   3.2s\n"
     ]
    },
    {
     "name": "stderr",
     "output_type": "stream",
     "text": [
      "/Users/annahan/Documents/GitHub/learning-fuze/live_class_W1D2_0125/.conda/lib/python3.12/site-packages/sklearn/linear_model/_coordinate_descent.py:695: ConvergenceWarning: Objective did not converge. You might want to increase the number of iterations, check the scale of the features or consider increasing regularisation. Duality gap: 5.338e+00, tolerance: 1.428e-02\n",
      "  model = cd_fast.enet_coordinate_descent(\n"
     ]
    },
    {
     "name": "stdout",
     "output_type": "stream",
     "text": [
      "[CV] END main_pipe__preprocessor_encode_scale__remainder__poly__degree=3, model__alpha=0.1; total time=   3.5s\n"
     ]
    },
    {
     "name": "stderr",
     "output_type": "stream",
     "text": [
      "/Users/annahan/Documents/GitHub/learning-fuze/live_class_W1D2_0125/.conda/lib/python3.12/site-packages/sklearn/linear_model/_coordinate_descent.py:695: ConvergenceWarning: Objective did not converge. You might want to increase the number of iterations, check the scale of the features or consider increasing regularisation. Duality gap: 4.948e+00, tolerance: 1.436e-02\n",
      "  model = cd_fast.enet_coordinate_descent(\n"
     ]
    },
    {
     "name": "stdout",
     "output_type": "stream",
     "text": [
      "[CV] END main_pipe__preprocessor_encode_scale__remainder__poly__degree=3, model__alpha=0.1; total time=   3.4s\n"
     ]
    },
    {
     "name": "stderr",
     "output_type": "stream",
     "text": [
      "/Users/annahan/Documents/GitHub/learning-fuze/live_class_W1D2_0125/.conda/lib/python3.12/site-packages/sklearn/linear_model/_coordinate_descent.py:695: ConvergenceWarning: Objective did not converge. You might want to increase the number of iterations, check the scale of the features or consider increasing regularisation. Duality gap: 5.086e+00, tolerance: 1.335e-02\n",
      "  model = cd_fast.enet_coordinate_descent(\n"
     ]
    },
    {
     "name": "stdout",
     "output_type": "stream",
     "text": [
      "[CV] END main_pipe__preprocessor_encode_scale__remainder__poly__degree=3, model__alpha=0.1; total time=   3.6s\n"
     ]
    },
    {
     "name": "stderr",
     "output_type": "stream",
     "text": [
      "/Users/annahan/Documents/GitHub/learning-fuze/live_class_W1D2_0125/.conda/lib/python3.12/site-packages/sklearn/linear_model/_coordinate_descent.py:695: ConvergenceWarning: Objective did not converge. You might want to increase the number of iterations, check the scale of the features or consider increasing regularisation. Duality gap: 5.379e+00, tolerance: 1.440e-02\n",
      "  model = cd_fast.enet_coordinate_descent(\n"
     ]
    },
    {
     "name": "stdout",
     "output_type": "stream",
     "text": [
      "[CV] END main_pipe__preprocessor_encode_scale__remainder__poly__degree=3, model__alpha=0.1; total time=   3.7s\n"
     ]
    },
    {
     "name": "stderr",
     "output_type": "stream",
     "text": [
      "/Users/annahan/Documents/GitHub/learning-fuze/live_class_W1D2_0125/.conda/lib/python3.12/site-packages/sklearn/linear_model/_coordinate_descent.py:695: ConvergenceWarning: Objective did not converge. You might want to increase the number of iterations, check the scale of the features or consider increasing regularisation. Duality gap: 5.209e+00, tolerance: 1.482e-02\n",
      "  model = cd_fast.enet_coordinate_descent(\n"
     ]
    },
    {
     "name": "stdout",
     "output_type": "stream",
     "text": [
      "[CV] END main_pipe__preprocessor_encode_scale__remainder__poly__degree=3, model__alpha=0.1; total time=   3.6s\n"
     ]
    },
    {
     "name": "stderr",
     "output_type": "stream",
     "text": [
      "/Users/annahan/Documents/GitHub/learning-fuze/live_class_W1D2_0125/.conda/lib/python3.12/site-packages/sklearn/linear_model/_coordinate_descent.py:695: ConvergenceWarning: Objective did not converge. You might want to increase the number of iterations, check the scale of the features or consider increasing regularisation. Duality gap: 2.164e+00, tolerance: 1.428e-02\n",
      "  model = cd_fast.enet_coordinate_descent(\n"
     ]
    },
    {
     "name": "stdout",
     "output_type": "stream",
     "text": [
      "[CV] END main_pipe__preprocessor_encode_scale__remainder__poly__degree=3, model__alpha=0.001; total time=   4.7s\n"
     ]
    },
    {
     "name": "stderr",
     "output_type": "stream",
     "text": [
      "/Users/annahan/Documents/GitHub/learning-fuze/live_class_W1D2_0125/.conda/lib/python3.12/site-packages/sklearn/linear_model/_coordinate_descent.py:695: ConvergenceWarning: Objective did not converge. You might want to increase the number of iterations, check the scale of the features or consider increasing regularisation. Duality gap: 1.973e+00, tolerance: 1.436e-02\n",
      "  model = cd_fast.enet_coordinate_descent(\n"
     ]
    },
    {
     "name": "stdout",
     "output_type": "stream",
     "text": [
      "[CV] END main_pipe__preprocessor_encode_scale__remainder__poly__degree=3, model__alpha=0.001; total time=   4.6s\n"
     ]
    },
    {
     "name": "stderr",
     "output_type": "stream",
     "text": [
      "/Users/annahan/Documents/GitHub/learning-fuze/live_class_W1D2_0125/.conda/lib/python3.12/site-packages/sklearn/linear_model/_coordinate_descent.py:695: ConvergenceWarning: Objective did not converge. You might want to increase the number of iterations, check the scale of the features or consider increasing regularisation. Duality gap: 2.017e+00, tolerance: 1.335e-02\n",
      "  model = cd_fast.enet_coordinate_descent(\n"
     ]
    },
    {
     "name": "stdout",
     "output_type": "stream",
     "text": [
      "[CV] END main_pipe__preprocessor_encode_scale__remainder__poly__degree=3, model__alpha=0.001; total time=   4.7s\n"
     ]
    },
    {
     "name": "stderr",
     "output_type": "stream",
     "text": [
      "/Users/annahan/Documents/GitHub/learning-fuze/live_class_W1D2_0125/.conda/lib/python3.12/site-packages/sklearn/linear_model/_coordinate_descent.py:695: ConvergenceWarning: Objective did not converge. You might want to increase the number of iterations, check the scale of the features or consider increasing regularisation. Duality gap: 2.138e+00, tolerance: 1.440e-02\n",
      "  model = cd_fast.enet_coordinate_descent(\n"
     ]
    },
    {
     "name": "stdout",
     "output_type": "stream",
     "text": [
      "[CV] END main_pipe__preprocessor_encode_scale__remainder__poly__degree=3, model__alpha=0.001; total time=   5.0s\n"
     ]
    },
    {
     "name": "stderr",
     "output_type": "stream",
     "text": [
      "/Users/annahan/Documents/GitHub/learning-fuze/live_class_W1D2_0125/.conda/lib/python3.12/site-packages/sklearn/linear_model/_coordinate_descent.py:695: ConvergenceWarning: Objective did not converge. You might want to increase the number of iterations, check the scale of the features or consider increasing regularisation. Duality gap: 2.075e+00, tolerance: 1.482e-02\n",
      "  model = cd_fast.enet_coordinate_descent(\n"
     ]
    },
    {
     "name": "stdout",
     "output_type": "stream",
     "text": [
      "[CV] END main_pipe__preprocessor_encode_scale__remainder__poly__degree=3, model__alpha=0.001; total time=   4.8s\n"
     ]
    },
    {
     "name": "stderr",
     "output_type": "stream",
     "text": [
      "/Users/annahan/Documents/GitHub/learning-fuze/live_class_W1D2_0125/.conda/lib/python3.12/site-packages/sklearn/linear_model/_coordinate_descent.py:695: ConvergenceWarning: Objective did not converge. You might want to increase the number of iterations, check the scale of the features or consider increasing regularisation. Duality gap: 9.150e-01, tolerance: 1.428e-02\n",
      "  model = cd_fast.enet_coordinate_descent(\n"
     ]
    },
    {
     "name": "stdout",
     "output_type": "stream",
     "text": [
      "[CV] END main_pipe__preprocessor_encode_scale__remainder__poly__degree=3, model__alpha=0.0001; total time=   5.6s\n"
     ]
    },
    {
     "name": "stderr",
     "output_type": "stream",
     "text": [
      "/Users/annahan/Documents/GitHub/learning-fuze/live_class_W1D2_0125/.conda/lib/python3.12/site-packages/sklearn/linear_model/_coordinate_descent.py:695: ConvergenceWarning: Objective did not converge. You might want to increase the number of iterations, check the scale of the features or consider increasing regularisation. Duality gap: 8.825e-01, tolerance: 1.436e-02\n",
      "  model = cd_fast.enet_coordinate_descent(\n"
     ]
    },
    {
     "name": "stdout",
     "output_type": "stream",
     "text": [
      "[CV] END main_pipe__preprocessor_encode_scale__remainder__poly__degree=3, model__alpha=0.0001; total time=   5.6s\n"
     ]
    },
    {
     "name": "stderr",
     "output_type": "stream",
     "text": [
      "/Users/annahan/Documents/GitHub/learning-fuze/live_class_W1D2_0125/.conda/lib/python3.12/site-packages/sklearn/linear_model/_coordinate_descent.py:695: ConvergenceWarning: Objective did not converge. You might want to increase the number of iterations, check the scale of the features or consider increasing regularisation. Duality gap: 8.269e-01, tolerance: 1.335e-02\n",
      "  model = cd_fast.enet_coordinate_descent(\n"
     ]
    },
    {
     "name": "stdout",
     "output_type": "stream",
     "text": [
      "[CV] END main_pipe__preprocessor_encode_scale__remainder__poly__degree=3, model__alpha=0.0001; total time=   5.1s\n"
     ]
    },
    {
     "name": "stderr",
     "output_type": "stream",
     "text": [
      "/Users/annahan/Documents/GitHub/learning-fuze/live_class_W1D2_0125/.conda/lib/python3.12/site-packages/sklearn/linear_model/_coordinate_descent.py:695: ConvergenceWarning: Objective did not converge. You might want to increase the number of iterations, check the scale of the features or consider increasing regularisation. Duality gap: 8.861e-01, tolerance: 1.440e-02\n",
      "  model = cd_fast.enet_coordinate_descent(\n"
     ]
    },
    {
     "name": "stdout",
     "output_type": "stream",
     "text": [
      "[CV] END main_pipe__preprocessor_encode_scale__remainder__poly__degree=3, model__alpha=0.0001; total time=   6.1s\n"
     ]
    },
    {
     "name": "stderr",
     "output_type": "stream",
     "text": [
      "/Users/annahan/Documents/GitHub/learning-fuze/live_class_W1D2_0125/.conda/lib/python3.12/site-packages/sklearn/linear_model/_coordinate_descent.py:695: ConvergenceWarning: Objective did not converge. You might want to increase the number of iterations, check the scale of the features or consider increasing regularisation. Duality gap: 8.564e-01, tolerance: 1.482e-02\n",
      "  model = cd_fast.enet_coordinate_descent(\n"
     ]
    },
    {
     "name": "stdout",
     "output_type": "stream",
     "text": [
      "[CV] END main_pipe__preprocessor_encode_scale__remainder__poly__degree=3, model__alpha=0.0001; total time=   6.1s\n"
     ]
    },
    {
     "name": "stderr",
     "output_type": "stream",
     "text": [
      "/Users/annahan/Documents/GitHub/learning-fuze/live_class_W1D2_0125/.conda/lib/python3.12/site-packages/sklearn/compose/_column_transformer.py:1667: FutureWarning: \n",
      "The format of the columns of the 'remainder' transformer in ColumnTransformer.transformers_ will change in version 1.7 to match the format of the other transformers.\n",
      "At the moment the remainder columns are stored as indices (of type int). With the same ColumnTransformer configuration, in the future they will be stored as column names (of type str).\n",
      "To use the new behavior now and suppress this warning, use ColumnTransformer(force_int_remainder_cols=False).\n",
      "\n",
      "  warnings.warn(\n"
     ]
    },
    {
     "data": {
      "text/html": [
       "<style>#sk-container-id-1 {\n",
       "  /* Definition of color scheme common for light and dark mode */\n",
       "  --sklearn-color-text: #000;\n",
       "  --sklearn-color-text-muted: #666;\n",
       "  --sklearn-color-line: gray;\n",
       "  /* Definition of color scheme for unfitted estimators */\n",
       "  --sklearn-color-unfitted-level-0: #fff5e6;\n",
       "  --sklearn-color-unfitted-level-1: #f6e4d2;\n",
       "  --sklearn-color-unfitted-level-2: #ffe0b3;\n",
       "  --sklearn-color-unfitted-level-3: chocolate;\n",
       "  /* Definition of color scheme for fitted estimators */\n",
       "  --sklearn-color-fitted-level-0: #f0f8ff;\n",
       "  --sklearn-color-fitted-level-1: #d4ebff;\n",
       "  --sklearn-color-fitted-level-2: #b3dbfd;\n",
       "  --sklearn-color-fitted-level-3: cornflowerblue;\n",
       "\n",
       "  /* Specific color for light theme */\n",
       "  --sklearn-color-text-on-default-background: var(--sg-text-color, var(--theme-code-foreground, var(--jp-content-font-color1, black)));\n",
       "  --sklearn-color-background: var(--sg-background-color, var(--theme-background, var(--jp-layout-color0, white)));\n",
       "  --sklearn-color-border-box: var(--sg-text-color, var(--theme-code-foreground, var(--jp-content-font-color1, black)));\n",
       "  --sklearn-color-icon: #696969;\n",
       "\n",
       "  @media (prefers-color-scheme: dark) {\n",
       "    /* Redefinition of color scheme for dark theme */\n",
       "    --sklearn-color-text-on-default-background: var(--sg-text-color, var(--theme-code-foreground, var(--jp-content-font-color1, white)));\n",
       "    --sklearn-color-background: var(--sg-background-color, var(--theme-background, var(--jp-layout-color0, #111)));\n",
       "    --sklearn-color-border-box: var(--sg-text-color, var(--theme-code-foreground, var(--jp-content-font-color1, white)));\n",
       "    --sklearn-color-icon: #878787;\n",
       "  }\n",
       "}\n",
       "\n",
       "#sk-container-id-1 {\n",
       "  color: var(--sklearn-color-text);\n",
       "}\n",
       "\n",
       "#sk-container-id-1 pre {\n",
       "  padding: 0;\n",
       "}\n",
       "\n",
       "#sk-container-id-1 input.sk-hidden--visually {\n",
       "  border: 0;\n",
       "  clip: rect(1px 1px 1px 1px);\n",
       "  clip: rect(1px, 1px, 1px, 1px);\n",
       "  height: 1px;\n",
       "  margin: -1px;\n",
       "  overflow: hidden;\n",
       "  padding: 0;\n",
       "  position: absolute;\n",
       "  width: 1px;\n",
       "}\n",
       "\n",
       "#sk-container-id-1 div.sk-dashed-wrapped {\n",
       "  border: 1px dashed var(--sklearn-color-line);\n",
       "  margin: 0 0.4em 0.5em 0.4em;\n",
       "  box-sizing: border-box;\n",
       "  padding-bottom: 0.4em;\n",
       "  background-color: var(--sklearn-color-background);\n",
       "}\n",
       "\n",
       "#sk-container-id-1 div.sk-container {\n",
       "  /* jupyter's `normalize.less` sets `[hidden] { display: none; }`\n",
       "     but bootstrap.min.css set `[hidden] { display: none !important; }`\n",
       "     so we also need the `!important` here to be able to override the\n",
       "     default hidden behavior on the sphinx rendered scikit-learn.org.\n",
       "     See: https://github.com/scikit-learn/scikit-learn/issues/21755 */\n",
       "  display: inline-block !important;\n",
       "  position: relative;\n",
       "}\n",
       "\n",
       "#sk-container-id-1 div.sk-text-repr-fallback {\n",
       "  display: none;\n",
       "}\n",
       "\n",
       "div.sk-parallel-item,\n",
       "div.sk-serial,\n",
       "div.sk-item {\n",
       "  /* draw centered vertical line to link estimators */\n",
       "  background-image: linear-gradient(var(--sklearn-color-text-on-default-background), var(--sklearn-color-text-on-default-background));\n",
       "  background-size: 2px 100%;\n",
       "  background-repeat: no-repeat;\n",
       "  background-position: center center;\n",
       "}\n",
       "\n",
       "/* Parallel-specific style estimator block */\n",
       "\n",
       "#sk-container-id-1 div.sk-parallel-item::after {\n",
       "  content: \"\";\n",
       "  width: 100%;\n",
       "  border-bottom: 2px solid var(--sklearn-color-text-on-default-background);\n",
       "  flex-grow: 1;\n",
       "}\n",
       "\n",
       "#sk-container-id-1 div.sk-parallel {\n",
       "  display: flex;\n",
       "  align-items: stretch;\n",
       "  justify-content: center;\n",
       "  background-color: var(--sklearn-color-background);\n",
       "  position: relative;\n",
       "}\n",
       "\n",
       "#sk-container-id-1 div.sk-parallel-item {\n",
       "  display: flex;\n",
       "  flex-direction: column;\n",
       "}\n",
       "\n",
       "#sk-container-id-1 div.sk-parallel-item:first-child::after {\n",
       "  align-self: flex-end;\n",
       "  width: 50%;\n",
       "}\n",
       "\n",
       "#sk-container-id-1 div.sk-parallel-item:last-child::after {\n",
       "  align-self: flex-start;\n",
       "  width: 50%;\n",
       "}\n",
       "\n",
       "#sk-container-id-1 div.sk-parallel-item:only-child::after {\n",
       "  width: 0;\n",
       "}\n",
       "\n",
       "/* Serial-specific style estimator block */\n",
       "\n",
       "#sk-container-id-1 div.sk-serial {\n",
       "  display: flex;\n",
       "  flex-direction: column;\n",
       "  align-items: center;\n",
       "  background-color: var(--sklearn-color-background);\n",
       "  padding-right: 1em;\n",
       "  padding-left: 1em;\n",
       "}\n",
       "\n",
       "\n",
       "/* Toggleable style: style used for estimator/Pipeline/ColumnTransformer box that is\n",
       "clickable and can be expanded/collapsed.\n",
       "- Pipeline and ColumnTransformer use this feature and define the default style\n",
       "- Estimators will overwrite some part of the style using the `sk-estimator` class\n",
       "*/\n",
       "\n",
       "/* Pipeline and ColumnTransformer style (default) */\n",
       "\n",
       "#sk-container-id-1 div.sk-toggleable {\n",
       "  /* Default theme specific background. It is overwritten whether we have a\n",
       "  specific estimator or a Pipeline/ColumnTransformer */\n",
       "  background-color: var(--sklearn-color-background);\n",
       "}\n",
       "\n",
       "/* Toggleable label */\n",
       "#sk-container-id-1 label.sk-toggleable__label {\n",
       "  cursor: pointer;\n",
       "  display: flex;\n",
       "  width: 100%;\n",
       "  margin-bottom: 0;\n",
       "  padding: 0.5em;\n",
       "  box-sizing: border-box;\n",
       "  text-align: center;\n",
       "  align-items: start;\n",
       "  justify-content: space-between;\n",
       "  gap: 0.5em;\n",
       "}\n",
       "\n",
       "#sk-container-id-1 label.sk-toggleable__label .caption {\n",
       "  font-size: 0.6rem;\n",
       "  font-weight: lighter;\n",
       "  color: var(--sklearn-color-text-muted);\n",
       "}\n",
       "\n",
       "#sk-container-id-1 label.sk-toggleable__label-arrow:before {\n",
       "  /* Arrow on the left of the label */\n",
       "  content: \"▸\";\n",
       "  float: left;\n",
       "  margin-right: 0.25em;\n",
       "  color: var(--sklearn-color-icon);\n",
       "}\n",
       "\n",
       "#sk-container-id-1 label.sk-toggleable__label-arrow:hover:before {\n",
       "  color: var(--sklearn-color-text);\n",
       "}\n",
       "\n",
       "/* Toggleable content - dropdown */\n",
       "\n",
       "#sk-container-id-1 div.sk-toggleable__content {\n",
       "  max-height: 0;\n",
       "  max-width: 0;\n",
       "  overflow: hidden;\n",
       "  text-align: left;\n",
       "  /* unfitted */\n",
       "  background-color: var(--sklearn-color-unfitted-level-0);\n",
       "}\n",
       "\n",
       "#sk-container-id-1 div.sk-toggleable__content.fitted {\n",
       "  /* fitted */\n",
       "  background-color: var(--sklearn-color-fitted-level-0);\n",
       "}\n",
       "\n",
       "#sk-container-id-1 div.sk-toggleable__content pre {\n",
       "  margin: 0.2em;\n",
       "  border-radius: 0.25em;\n",
       "  color: var(--sklearn-color-text);\n",
       "  /* unfitted */\n",
       "  background-color: var(--sklearn-color-unfitted-level-0);\n",
       "}\n",
       "\n",
       "#sk-container-id-1 div.sk-toggleable__content.fitted pre {\n",
       "  /* unfitted */\n",
       "  background-color: var(--sklearn-color-fitted-level-0);\n",
       "}\n",
       "\n",
       "#sk-container-id-1 input.sk-toggleable__control:checked~div.sk-toggleable__content {\n",
       "  /* Expand drop-down */\n",
       "  max-height: 200px;\n",
       "  max-width: 100%;\n",
       "  overflow: auto;\n",
       "}\n",
       "\n",
       "#sk-container-id-1 input.sk-toggleable__control:checked~label.sk-toggleable__label-arrow:before {\n",
       "  content: \"▾\";\n",
       "}\n",
       "\n",
       "/* Pipeline/ColumnTransformer-specific style */\n",
       "\n",
       "#sk-container-id-1 div.sk-label input.sk-toggleable__control:checked~label.sk-toggleable__label {\n",
       "  color: var(--sklearn-color-text);\n",
       "  background-color: var(--sklearn-color-unfitted-level-2);\n",
       "}\n",
       "\n",
       "#sk-container-id-1 div.sk-label.fitted input.sk-toggleable__control:checked~label.sk-toggleable__label {\n",
       "  background-color: var(--sklearn-color-fitted-level-2);\n",
       "}\n",
       "\n",
       "/* Estimator-specific style */\n",
       "\n",
       "/* Colorize estimator box */\n",
       "#sk-container-id-1 div.sk-estimator input.sk-toggleable__control:checked~label.sk-toggleable__label {\n",
       "  /* unfitted */\n",
       "  background-color: var(--sklearn-color-unfitted-level-2);\n",
       "}\n",
       "\n",
       "#sk-container-id-1 div.sk-estimator.fitted input.sk-toggleable__control:checked~label.sk-toggleable__label {\n",
       "  /* fitted */\n",
       "  background-color: var(--sklearn-color-fitted-level-2);\n",
       "}\n",
       "\n",
       "#sk-container-id-1 div.sk-label label.sk-toggleable__label,\n",
       "#sk-container-id-1 div.sk-label label {\n",
       "  /* The background is the default theme color */\n",
       "  color: var(--sklearn-color-text-on-default-background);\n",
       "}\n",
       "\n",
       "/* On hover, darken the color of the background */\n",
       "#sk-container-id-1 div.sk-label:hover label.sk-toggleable__label {\n",
       "  color: var(--sklearn-color-text);\n",
       "  background-color: var(--sklearn-color-unfitted-level-2);\n",
       "}\n",
       "\n",
       "/* Label box, darken color on hover, fitted */\n",
       "#sk-container-id-1 div.sk-label.fitted:hover label.sk-toggleable__label.fitted {\n",
       "  color: var(--sklearn-color-text);\n",
       "  background-color: var(--sklearn-color-fitted-level-2);\n",
       "}\n",
       "\n",
       "/* Estimator label */\n",
       "\n",
       "#sk-container-id-1 div.sk-label label {\n",
       "  font-family: monospace;\n",
       "  font-weight: bold;\n",
       "  display: inline-block;\n",
       "  line-height: 1.2em;\n",
       "}\n",
       "\n",
       "#sk-container-id-1 div.sk-label-container {\n",
       "  text-align: center;\n",
       "}\n",
       "\n",
       "/* Estimator-specific */\n",
       "#sk-container-id-1 div.sk-estimator {\n",
       "  font-family: monospace;\n",
       "  border: 1px dotted var(--sklearn-color-border-box);\n",
       "  border-radius: 0.25em;\n",
       "  box-sizing: border-box;\n",
       "  margin-bottom: 0.5em;\n",
       "  /* unfitted */\n",
       "  background-color: var(--sklearn-color-unfitted-level-0);\n",
       "}\n",
       "\n",
       "#sk-container-id-1 div.sk-estimator.fitted {\n",
       "  /* fitted */\n",
       "  background-color: var(--sklearn-color-fitted-level-0);\n",
       "}\n",
       "\n",
       "/* on hover */\n",
       "#sk-container-id-1 div.sk-estimator:hover {\n",
       "  /* unfitted */\n",
       "  background-color: var(--sklearn-color-unfitted-level-2);\n",
       "}\n",
       "\n",
       "#sk-container-id-1 div.sk-estimator.fitted:hover {\n",
       "  /* fitted */\n",
       "  background-color: var(--sklearn-color-fitted-level-2);\n",
       "}\n",
       "\n",
       "/* Specification for estimator info (e.g. \"i\" and \"?\") */\n",
       "\n",
       "/* Common style for \"i\" and \"?\" */\n",
       "\n",
       ".sk-estimator-doc-link,\n",
       "a:link.sk-estimator-doc-link,\n",
       "a:visited.sk-estimator-doc-link {\n",
       "  float: right;\n",
       "  font-size: smaller;\n",
       "  line-height: 1em;\n",
       "  font-family: monospace;\n",
       "  background-color: var(--sklearn-color-background);\n",
       "  border-radius: 1em;\n",
       "  height: 1em;\n",
       "  width: 1em;\n",
       "  text-decoration: none !important;\n",
       "  margin-left: 0.5em;\n",
       "  text-align: center;\n",
       "  /* unfitted */\n",
       "  border: var(--sklearn-color-unfitted-level-1) 1pt solid;\n",
       "  color: var(--sklearn-color-unfitted-level-1);\n",
       "}\n",
       "\n",
       ".sk-estimator-doc-link.fitted,\n",
       "a:link.sk-estimator-doc-link.fitted,\n",
       "a:visited.sk-estimator-doc-link.fitted {\n",
       "  /* fitted */\n",
       "  border: var(--sklearn-color-fitted-level-1) 1pt solid;\n",
       "  color: var(--sklearn-color-fitted-level-1);\n",
       "}\n",
       "\n",
       "/* On hover */\n",
       "div.sk-estimator:hover .sk-estimator-doc-link:hover,\n",
       ".sk-estimator-doc-link:hover,\n",
       "div.sk-label-container:hover .sk-estimator-doc-link:hover,\n",
       ".sk-estimator-doc-link:hover {\n",
       "  /* unfitted */\n",
       "  background-color: var(--sklearn-color-unfitted-level-3);\n",
       "  color: var(--sklearn-color-background);\n",
       "  text-decoration: none;\n",
       "}\n",
       "\n",
       "div.sk-estimator.fitted:hover .sk-estimator-doc-link.fitted:hover,\n",
       ".sk-estimator-doc-link.fitted:hover,\n",
       "div.sk-label-container:hover .sk-estimator-doc-link.fitted:hover,\n",
       ".sk-estimator-doc-link.fitted:hover {\n",
       "  /* fitted */\n",
       "  background-color: var(--sklearn-color-fitted-level-3);\n",
       "  color: var(--sklearn-color-background);\n",
       "  text-decoration: none;\n",
       "}\n",
       "\n",
       "/* Span, style for the box shown on hovering the info icon */\n",
       ".sk-estimator-doc-link span {\n",
       "  display: none;\n",
       "  z-index: 9999;\n",
       "  position: relative;\n",
       "  font-weight: normal;\n",
       "  right: .2ex;\n",
       "  padding: .5ex;\n",
       "  margin: .5ex;\n",
       "  width: min-content;\n",
       "  min-width: 20ex;\n",
       "  max-width: 50ex;\n",
       "  color: var(--sklearn-color-text);\n",
       "  box-shadow: 2pt 2pt 4pt #999;\n",
       "  /* unfitted */\n",
       "  background: var(--sklearn-color-unfitted-level-0);\n",
       "  border: .5pt solid var(--sklearn-color-unfitted-level-3);\n",
       "}\n",
       "\n",
       ".sk-estimator-doc-link.fitted span {\n",
       "  /* fitted */\n",
       "  background: var(--sklearn-color-fitted-level-0);\n",
       "  border: var(--sklearn-color-fitted-level-3);\n",
       "}\n",
       "\n",
       ".sk-estimator-doc-link:hover span {\n",
       "  display: block;\n",
       "}\n",
       "\n",
       "/* \"?\"-specific style due to the `<a>` HTML tag */\n",
       "\n",
       "#sk-container-id-1 a.estimator_doc_link {\n",
       "  float: right;\n",
       "  font-size: 1rem;\n",
       "  line-height: 1em;\n",
       "  font-family: monospace;\n",
       "  background-color: var(--sklearn-color-background);\n",
       "  border-radius: 1rem;\n",
       "  height: 1rem;\n",
       "  width: 1rem;\n",
       "  text-decoration: none;\n",
       "  /* unfitted */\n",
       "  color: var(--sklearn-color-unfitted-level-1);\n",
       "  border: var(--sklearn-color-unfitted-level-1) 1pt solid;\n",
       "}\n",
       "\n",
       "#sk-container-id-1 a.estimator_doc_link.fitted {\n",
       "  /* fitted */\n",
       "  border: var(--sklearn-color-fitted-level-1) 1pt solid;\n",
       "  color: var(--sklearn-color-fitted-level-1);\n",
       "}\n",
       "\n",
       "/* On hover */\n",
       "#sk-container-id-1 a.estimator_doc_link:hover {\n",
       "  /* unfitted */\n",
       "  background-color: var(--sklearn-color-unfitted-level-3);\n",
       "  color: var(--sklearn-color-background);\n",
       "  text-decoration: none;\n",
       "}\n",
       "\n",
       "#sk-container-id-1 a.estimator_doc_link.fitted:hover {\n",
       "  /* fitted */\n",
       "  background-color: var(--sklearn-color-fitted-level-3);\n",
       "}\n",
       "</style><div id=\"sk-container-id-1\" class=\"sk-top-container\"><div class=\"sk-text-repr-fallback\"><pre>GridSearchCV(estimator=Pipeline(steps=[(&#x27;main_pipe&#x27;,\n",
       "                                        Pipeline(steps=[(&#x27;preprocessor_filter&#x27;,\n",
       "                                                         ColumnTransformer(transformers=[(&#x27;passthrough&#x27;,\n",
       "                                                                                          &#x27;passthrough&#x27;,\n",
       "                                                                                          [&#x27;MSSubClass&#x27;,\n",
       "                                                                                           &#x27;MSZoning&#x27;,\n",
       "                                                                                           &#x27;LotFrontage&#x27;,\n",
       "                                                                                           &#x27;LotArea&#x27;,\n",
       "                                                                                           &#x27;Alley&#x27;,\n",
       "                                                                                           &#x27;LotShape&#x27;,\n",
       "                                                                                           &#x27;LandContour&#x27;,\n",
       "                                                                                           &#x27;LotConfig&#x27;,\n",
       "                                                                                           &#x27;LandSlope&#x27;,\n",
       "                                                                                           &#x27;Neighborhood&#x27;,\n",
       "                                                                                           &#x27;Condition1&#x27;,\n",
       "                                                                                           &#x27;Condition2&#x27;,\n",
       "                                                                                           &#x27;BldgType&#x27;,\n",
       "                                                                                           &#x27;HouseStyle&#x27;,\n",
       "                                                                                           &#x27;OverallQual&#x27;,\n",
       "                                                                                           &#x27;OverallCond&#x27;...\n",
       "                                                                                           &#x27;BsmtCond&#x27;,\n",
       "                                                                                           &#x27;BsmtExposure&#x27;,\n",
       "                                                                                           &#x27;BsmtFinType1&#x27;,\n",
       "                                                                                           &#x27;BsmtFinType2&#x27;,\n",
       "                                                                                           &#x27;HeatingQC&#x27;,\n",
       "                                                                                           &#x27;FireplaceQu&#x27;,\n",
       "                                                                                           &#x27;GarageFinish&#x27;,\n",
       "                                                                                           &#x27;GarageQual&#x27;,\n",
       "                                                                                           &#x27;GarageCond&#x27;,\n",
       "                                                                                           &#x27;PoolQC&#x27;,\n",
       "                                                                                           &#x27;KitchenQual&#x27;,\n",
       "                                                                                           &#x27;Fence&#x27;])],\n",
       "                                                                           verbose_feature_names_out=False))])),\n",
       "                                       (&#x27;model&#x27;, Lasso())]),\n",
       "             param_grid={&#x27;main_pipe__preprocessor_encode_scale__remainder__poly__degree&#x27;: range(1, 4),\n",
       "                         &#x27;model__alpha&#x27;: [1000, 100, 10, 1, 0.1, 0.001,\n",
       "                                          0.0001]},\n",
       "             verbose=2)</pre><b>In a Jupyter environment, please rerun this cell to show the HTML representation or trust the notebook. <br />On GitHub, the HTML representation is unable to render, please try loading this page with nbviewer.org.</b></div><div class=\"sk-container\" hidden><div class=\"sk-item sk-dashed-wrapped\"><div class=\"sk-label-container\"><div class=\"sk-label fitted sk-toggleable\"><input class=\"sk-toggleable__control sk-hidden--visually\" id=\"sk-estimator-id-1\" type=\"checkbox\" ><label for=\"sk-estimator-id-1\" class=\"sk-toggleable__label fitted sk-toggleable__label-arrow\"><div><div>GridSearchCV</div></div><div><a class=\"sk-estimator-doc-link fitted\" rel=\"noreferrer\" target=\"_blank\" href=\"https://scikit-learn.org/1.6/modules/generated/sklearn.model_selection.GridSearchCV.html\">?<span>Documentation for GridSearchCV</span></a><span class=\"sk-estimator-doc-link fitted\">i<span>Fitted</span></span></div></label><div class=\"sk-toggleable__content fitted\"><pre>GridSearchCV(estimator=Pipeline(steps=[(&#x27;main_pipe&#x27;,\n",
       "                                        Pipeline(steps=[(&#x27;preprocessor_filter&#x27;,\n",
       "                                                         ColumnTransformer(transformers=[(&#x27;passthrough&#x27;,\n",
       "                                                                                          &#x27;passthrough&#x27;,\n",
       "                                                                                          [&#x27;MSSubClass&#x27;,\n",
       "                                                                                           &#x27;MSZoning&#x27;,\n",
       "                                                                                           &#x27;LotFrontage&#x27;,\n",
       "                                                                                           &#x27;LotArea&#x27;,\n",
       "                                                                                           &#x27;Alley&#x27;,\n",
       "                                                                                           &#x27;LotShape&#x27;,\n",
       "                                                                                           &#x27;LandContour&#x27;,\n",
       "                                                                                           &#x27;LotConfig&#x27;,\n",
       "                                                                                           &#x27;LandSlope&#x27;,\n",
       "                                                                                           &#x27;Neighborhood&#x27;,\n",
       "                                                                                           &#x27;Condition1&#x27;,\n",
       "                                                                                           &#x27;Condition2&#x27;,\n",
       "                                                                                           &#x27;BldgType&#x27;,\n",
       "                                                                                           &#x27;HouseStyle&#x27;,\n",
       "                                                                                           &#x27;OverallQual&#x27;,\n",
       "                                                                                           &#x27;OverallCond&#x27;...\n",
       "                                                                                           &#x27;BsmtCond&#x27;,\n",
       "                                                                                           &#x27;BsmtExposure&#x27;,\n",
       "                                                                                           &#x27;BsmtFinType1&#x27;,\n",
       "                                                                                           &#x27;BsmtFinType2&#x27;,\n",
       "                                                                                           &#x27;HeatingQC&#x27;,\n",
       "                                                                                           &#x27;FireplaceQu&#x27;,\n",
       "                                                                                           &#x27;GarageFinish&#x27;,\n",
       "                                                                                           &#x27;GarageQual&#x27;,\n",
       "                                                                                           &#x27;GarageCond&#x27;,\n",
       "                                                                                           &#x27;PoolQC&#x27;,\n",
       "                                                                                           &#x27;KitchenQual&#x27;,\n",
       "                                                                                           &#x27;Fence&#x27;])],\n",
       "                                                                           verbose_feature_names_out=False))])),\n",
       "                                       (&#x27;model&#x27;, Lasso())]),\n",
       "             param_grid={&#x27;main_pipe__preprocessor_encode_scale__remainder__poly__degree&#x27;: range(1, 4),\n",
       "                         &#x27;model__alpha&#x27;: [1000, 100, 10, 1, 0.1, 0.001,\n",
       "                                          0.0001]},\n",
       "             verbose=2)</pre></div> </div></div><div class=\"sk-parallel\"><div class=\"sk-parallel-item\"><div class=\"sk-item\"><div class=\"sk-label-container\"><div class=\"sk-label fitted sk-toggleable\"><input class=\"sk-toggleable__control sk-hidden--visually\" id=\"sk-estimator-id-2\" type=\"checkbox\" ><label for=\"sk-estimator-id-2\" class=\"sk-toggleable__label fitted sk-toggleable__label-arrow\"><div><div>best_estimator_: Pipeline</div></div></label><div class=\"sk-toggleable__content fitted\"><pre>Pipeline(steps=[(&#x27;main_pipe&#x27;,\n",
       "                 Pipeline(steps=[(&#x27;preprocessor_filter&#x27;,\n",
       "                                  ColumnTransformer(transformers=[(&#x27;passthrough&#x27;,\n",
       "                                                                   &#x27;passthrough&#x27;,\n",
       "                                                                   [&#x27;MSSubClass&#x27;,\n",
       "                                                                    &#x27;MSZoning&#x27;,\n",
       "                                                                    &#x27;LotFrontage&#x27;,\n",
       "                                                                    &#x27;LotArea&#x27;,\n",
       "                                                                    &#x27;Alley&#x27;,\n",
       "                                                                    &#x27;LotShape&#x27;,\n",
       "                                                                    &#x27;LandContour&#x27;,\n",
       "                                                                    &#x27;LotConfig&#x27;,\n",
       "                                                                    &#x27;LandSlope&#x27;,\n",
       "                                                                    &#x27;Neighborhood&#x27;,\n",
       "                                                                    &#x27;Condition1&#x27;,\n",
       "                                                                    &#x27;Condition2&#x27;,\n",
       "                                                                    &#x27;BldgType&#x27;,\n",
       "                                                                    &#x27;HouseStyle&#x27;,\n",
       "                                                                    &#x27;OverallQual&#x27;,\n",
       "                                                                    &#x27;OverallCond&#x27;,\n",
       "                                                                    &#x27;YearBuilt&#x27;,\n",
       "                                                                    &#x27;YearRemod...\n",
       "                                                                                            &#x27;data_type&#x27;: dtype(&#x27;O&#x27;),\n",
       "                                                                                            &#x27;mapping&#x27;: NA       0\n",
       "MnWw     1\n",
       "GdWo     2\n",
       "MnPrv    3\n",
       "GdPrv    4\n",
       "dtype: int64}]),\n",
       "                                                                   [&#x27;OverallQual&#x27;,\n",
       "                                                                    &#x27;OverallCond&#x27;,\n",
       "                                                                    &#x27;ExterQual&#x27;,\n",
       "                                                                    &#x27;ExterCond&#x27;,\n",
       "                                                                    &#x27;BsmtQual&#x27;,\n",
       "                                                                    &#x27;BsmtCond&#x27;,\n",
       "                                                                    &#x27;BsmtExposure&#x27;,\n",
       "                                                                    &#x27;BsmtFinType1&#x27;,\n",
       "                                                                    &#x27;BsmtFinType2&#x27;,\n",
       "                                                                    &#x27;HeatingQC&#x27;,\n",
       "                                                                    &#x27;FireplaceQu&#x27;,\n",
       "                                                                    &#x27;GarageFinish&#x27;,\n",
       "                                                                    &#x27;GarageQual&#x27;,\n",
       "                                                                    &#x27;GarageCond&#x27;,\n",
       "                                                                    &#x27;PoolQC&#x27;,\n",
       "                                                                    &#x27;KitchenQual&#x27;,\n",
       "                                                                    &#x27;Fence&#x27;])],\n",
       "                                                    verbose_feature_names_out=False))])),\n",
       "                (&#x27;model&#x27;, Lasso(alpha=0.001))])</pre></div> </div></div><div class=\"sk-serial\"><div class=\"sk-item\"><div class=\"sk-serial\"><div class=\"sk-item\"><div class=\"sk-label-container\"><div class=\"sk-label fitted sk-toggleable\"><input class=\"sk-toggleable__control sk-hidden--visually\" id=\"sk-estimator-id-3\" type=\"checkbox\" ><label for=\"sk-estimator-id-3\" class=\"sk-toggleable__label fitted sk-toggleable__label-arrow\"><div><div>main_pipe: Pipeline</div></div><div><a class=\"sk-estimator-doc-link fitted\" rel=\"noreferrer\" target=\"_blank\" href=\"https://scikit-learn.org/1.6/modules/generated/sklearn.pipeline.Pipeline.html\">?<span>Documentation for main_pipe: Pipeline</span></a></div></label><div class=\"sk-toggleable__content fitted\"><pre>Pipeline(steps=[(&#x27;preprocessor_filter&#x27;,\n",
       "                 ColumnTransformer(transformers=[(&#x27;passthrough&#x27;, &#x27;passthrough&#x27;,\n",
       "                                                  [&#x27;MSSubClass&#x27;, &#x27;MSZoning&#x27;,\n",
       "                                                   &#x27;LotFrontage&#x27;, &#x27;LotArea&#x27;,\n",
       "                                                   &#x27;Alley&#x27;, &#x27;LotShape&#x27;,\n",
       "                                                   &#x27;LandContour&#x27;, &#x27;LotConfig&#x27;,\n",
       "                                                   &#x27;LandSlope&#x27;, &#x27;Neighborhood&#x27;,\n",
       "                                                   &#x27;Condition1&#x27;, &#x27;Condition2&#x27;,\n",
       "                                                   &#x27;BldgType&#x27;, &#x27;HouseStyle&#x27;,\n",
       "                                                   &#x27;OverallQual&#x27;, &#x27;OverallCond&#x27;,\n",
       "                                                   &#x27;YearBuilt&#x27;, &#x27;YearRemodAdd&#x27;,\n",
       "                                                   &#x27;RoofStyle&#x27;, &#x27;RoofMatl&#x27;,\n",
       "                                                   &#x27;...\n",
       "dtype: int64},\n",
       "                                                                          {&#x27;col&#x27;: &#x27;Fence&#x27;,\n",
       "                                                                           &#x27;data_type&#x27;: dtype(&#x27;O&#x27;),\n",
       "                                                                           &#x27;mapping&#x27;: NA       0\n",
       "MnWw     1\n",
       "GdWo     2\n",
       "MnPrv    3\n",
       "GdPrv    4\n",
       "dtype: int64}]),\n",
       "                                                  [&#x27;OverallQual&#x27;, &#x27;OverallCond&#x27;,\n",
       "                                                   &#x27;ExterQual&#x27;, &#x27;ExterCond&#x27;,\n",
       "                                                   &#x27;BsmtQual&#x27;, &#x27;BsmtCond&#x27;,\n",
       "                                                   &#x27;BsmtExposure&#x27;,\n",
       "                                                   &#x27;BsmtFinType1&#x27;,\n",
       "                                                   &#x27;BsmtFinType2&#x27;, &#x27;HeatingQC&#x27;,\n",
       "                                                   &#x27;FireplaceQu&#x27;,\n",
       "                                                   &#x27;GarageFinish&#x27;, &#x27;GarageQual&#x27;,\n",
       "                                                   &#x27;GarageCond&#x27;, &#x27;PoolQC&#x27;,\n",
       "                                                   &#x27;KitchenQual&#x27;, &#x27;Fence&#x27;])],\n",
       "                                   verbose_feature_names_out=False))])</pre></div> </div></div><div class=\"sk-serial\"><div class=\"sk-item sk-dashed-wrapped\"><div class=\"sk-label-container\"><div class=\"sk-label fitted sk-toggleable\"><input class=\"sk-toggleable__control sk-hidden--visually\" id=\"sk-estimator-id-4\" type=\"checkbox\" ><label for=\"sk-estimator-id-4\" class=\"sk-toggleable__label fitted sk-toggleable__label-arrow\"><div><div>preprocessor_filter: ColumnTransformer</div></div><div><a class=\"sk-estimator-doc-link fitted\" rel=\"noreferrer\" target=\"_blank\" href=\"https://scikit-learn.org/1.6/modules/generated/sklearn.compose.ColumnTransformer.html\">?<span>Documentation for preprocessor_filter: ColumnTransformer</span></a></div></label><div class=\"sk-toggleable__content fitted\"><pre>ColumnTransformer(transformers=[(&#x27;passthrough&#x27;, &#x27;passthrough&#x27;,\n",
       "                                 [&#x27;MSSubClass&#x27;, &#x27;MSZoning&#x27;, &#x27;LotFrontage&#x27;,\n",
       "                                  &#x27;LotArea&#x27;, &#x27;Alley&#x27;, &#x27;LotShape&#x27;, &#x27;LandContour&#x27;,\n",
       "                                  &#x27;LotConfig&#x27;, &#x27;LandSlope&#x27;, &#x27;Neighborhood&#x27;,\n",
       "                                  &#x27;Condition1&#x27;, &#x27;Condition2&#x27;, &#x27;BldgType&#x27;,\n",
       "                                  &#x27;HouseStyle&#x27;, &#x27;OverallQual&#x27;, &#x27;OverallCond&#x27;,\n",
       "                                  &#x27;YearBuilt&#x27;, &#x27;YearRemodAdd&#x27;, &#x27;RoofStyle&#x27;,\n",
       "                                  &#x27;RoofMatl&#x27;, &#x27;Exterior1st&#x27;, &#x27;Exterior2nd&#x27;,\n",
       "                                  &#x27;MasVnrType&#x27;, &#x27;MasVnrArea&#x27;, &#x27;ExterQual&#x27;,\n",
       "                                  &#x27;ExterCond&#x27;, &#x27;Foundation&#x27;, &#x27;BsmtQual&#x27;,\n",
       "                                  &#x27;BsmtCond&#x27;, &#x27;BsmtExposure&#x27;, ...])],\n",
       "                  verbose_feature_names_out=False)</pre></div> </div></div><div class=\"sk-parallel\"><div class=\"sk-parallel-item\"><div class=\"sk-item\"><div class=\"sk-label-container\"><div class=\"sk-label fitted sk-toggleable\"><input class=\"sk-toggleable__control sk-hidden--visually\" id=\"sk-estimator-id-5\" type=\"checkbox\" ><label for=\"sk-estimator-id-5\" class=\"sk-toggleable__label fitted sk-toggleable__label-arrow\"><div><div>passthrough</div></div></label><div class=\"sk-toggleable__content fitted\"><pre>[&#x27;MSSubClass&#x27;, &#x27;MSZoning&#x27;, &#x27;LotFrontage&#x27;, &#x27;LotArea&#x27;, &#x27;Alley&#x27;, &#x27;LotShape&#x27;, &#x27;LandContour&#x27;, &#x27;LotConfig&#x27;, &#x27;LandSlope&#x27;, &#x27;Neighborhood&#x27;, &#x27;Condition1&#x27;, &#x27;Condition2&#x27;, &#x27;BldgType&#x27;, &#x27;HouseStyle&#x27;, &#x27;OverallQual&#x27;, &#x27;OverallCond&#x27;, &#x27;YearBuilt&#x27;, &#x27;YearRemodAdd&#x27;, &#x27;RoofStyle&#x27;, &#x27;RoofMatl&#x27;, &#x27;Exterior1st&#x27;, &#x27;Exterior2nd&#x27;, &#x27;MasVnrType&#x27;, &#x27;MasVnrArea&#x27;, &#x27;ExterQual&#x27;, &#x27;ExterCond&#x27;, &#x27;Foundation&#x27;, &#x27;BsmtQual&#x27;, &#x27;BsmtCond&#x27;, &#x27;BsmtExposure&#x27;, &#x27;BsmtFinType1&#x27;, &#x27;BsmtFinSF1&#x27;, &#x27;BsmtFinType2&#x27;, &#x27;BsmtFinSF2&#x27;, &#x27;BsmtUnfSF&#x27;, &#x27;TotalBsmtSF&#x27;, &#x27;Heating&#x27;, &#x27;HeatingQC&#x27;, &#x27;CentralAir&#x27;, &#x27;Electrical&#x27;, &#x27;1stFlrSF&#x27;, &#x27;2ndFlrSF&#x27;, &#x27;LowQualFinSF&#x27;, &#x27;GrLivArea&#x27;, &#x27;BsmtFullBath&#x27;, &#x27;BsmtHalfBath&#x27;, &#x27;FullBath&#x27;, &#x27;HalfBath&#x27;, &#x27;BedroomAbvGr&#x27;, &#x27;KitchenAbvGr&#x27;, &#x27;KitchenQual&#x27;, &#x27;TotRmsAbvGrd&#x27;, &#x27;Functional&#x27;, &#x27;Fireplaces&#x27;, &#x27;FireplaceQu&#x27;, &#x27;GarageType&#x27;, &#x27;GarageYrBlt&#x27;, &#x27;GarageFinish&#x27;, &#x27;GarageCars&#x27;, &#x27;GarageArea&#x27;, &#x27;GarageQual&#x27;, &#x27;GarageCond&#x27;, &#x27;PavedDrive&#x27;, &#x27;WoodDeckSF&#x27;, &#x27;OpenPorchSF&#x27;, &#x27;EnclosedPorch&#x27;, &#x27;3SsnPorch&#x27;, &#x27;ScreenPorch&#x27;, &#x27;PoolArea&#x27;, &#x27;PoolQC&#x27;, &#x27;Fence&#x27;, &#x27;MiscFeature&#x27;, &#x27;MiscVal&#x27;, &#x27;MoSold&#x27;, &#x27;YrSold&#x27;, &#x27;SaleType&#x27;, &#x27;SaleCondition&#x27;]</pre></div> </div></div><div class=\"sk-serial\"><div class=\"sk-item\"><div class=\"sk-estimator fitted sk-toggleable\"><input class=\"sk-toggleable__control sk-hidden--visually\" id=\"sk-estimator-id-6\" type=\"checkbox\" ><label for=\"sk-estimator-id-6\" class=\"sk-toggleable__label fitted sk-toggleable__label-arrow\"><div><div>passthrough</div></div></label><div class=\"sk-toggleable__content fitted\"><pre>passthrough</pre></div> </div></div></div></div></div></div></div><div class=\"sk-item sk-dashed-wrapped\"><div class=\"sk-label-container\"><div class=\"sk-label fitted sk-toggleable\"><input class=\"sk-toggleable__control sk-hidden--visually\" id=\"sk-estimator-id-7\" type=\"checkbox\" ><label for=\"sk-estimator-id-7\" class=\"sk-toggleable__label fitted sk-toggleable__label-arrow\"><div><div>preprocessor_imputer: ColumnTransformer</div></div><div><a class=\"sk-estimator-doc-link fitted\" rel=\"noreferrer\" target=\"_blank\" href=\"https://scikit-learn.org/1.6/modules/generated/sklearn.compose.ColumnTransformer.html\">?<span>Documentation for preprocessor_imputer: ColumnTransformer</span></a></div></label><div class=\"sk-toggleable__content fitted\"><pre>ColumnTransformer(remainder=&#x27;passthrough&#x27;,\n",
       "                  transformers=[(&#x27;impute_na&#x27;,\n",
       "                                 SimpleImputer(fill_value=&#x27;NA&#x27;,\n",
       "                                               strategy=&#x27;constant&#x27;),\n",
       "                                 [&#x27;Alley&#x27;, &#x27;GarageType&#x27;, &#x27;Fence&#x27;, &#x27;BsmtQual&#x27;,\n",
       "                                  &#x27;BsmtCond&#x27;, &#x27;BsmtExposure&#x27;, &#x27;BsmtFinType1&#x27;,\n",
       "                                  &#x27;BsmtFinType2&#x27;, &#x27;FireplaceQu&#x27;, &#x27;GarageFinish&#x27;,\n",
       "                                  &#x27;GarageQual&#x27;, &#x27;GarageCond&#x27;, &#x27;PoolQC&#x27;,\n",
       "                                  &#x27;MiscFeature&#x27;]),\n",
       "                                (&#x27;impute_none&#x27;,\n",
       "                                 SimpleImputer(fill_value=&#x27;None&#x27;,\n",
       "                                               strate...\n",
       "                                 SimpleImputer(fill_value=0,\n",
       "                                               strategy=&#x27;constant&#x27;),\n",
       "                                 [&#x27;LotFrontage&#x27;, &#x27;MasVnrArea&#x27;, &#x27;BsmtFinSF1&#x27;,\n",
       "                                  &#x27;BsmtFinSF2&#x27;, &#x27;BsmtUnfSF&#x27;, &#x27;TotalBsmtSF&#x27;,\n",
       "                                  &#x27;BsmtFullBath&#x27;, &#x27;BsmtHalfBath&#x27;, &#x27;GarageCars&#x27;,\n",
       "                                  &#x27;GarageArea&#x27;, &#x27;GarageYrBlt&#x27;]),\n",
       "                                (&#x27;impute_most_freq&#x27;,\n",
       "                                 SimpleImputer(strategy=&#x27;most_frequent&#x27;),\n",
       "                                 [&#x27;Electrical&#x27;, &#x27;MSZoning&#x27;, &#x27;Exterior1st&#x27;,\n",
       "                                  &#x27;Exterior2nd&#x27;, &#x27;KitchenQual&#x27;,\n",
       "                                  &#x27;Functional&#x27;])],\n",
       "                  verbose_feature_names_out=False)</pre></div> </div></div><div class=\"sk-parallel\"><div class=\"sk-parallel-item\"><div class=\"sk-item\"><div class=\"sk-label-container\"><div class=\"sk-label fitted sk-toggleable\"><input class=\"sk-toggleable__control sk-hidden--visually\" id=\"sk-estimator-id-8\" type=\"checkbox\" ><label for=\"sk-estimator-id-8\" class=\"sk-toggleable__label fitted sk-toggleable__label-arrow\"><div><div>impute_na</div></div></label><div class=\"sk-toggleable__content fitted\"><pre>[&#x27;Alley&#x27;, &#x27;GarageType&#x27;, &#x27;Fence&#x27;, &#x27;BsmtQual&#x27;, &#x27;BsmtCond&#x27;, &#x27;BsmtExposure&#x27;, &#x27;BsmtFinType1&#x27;, &#x27;BsmtFinType2&#x27;, &#x27;FireplaceQu&#x27;, &#x27;GarageFinish&#x27;, &#x27;GarageQual&#x27;, &#x27;GarageCond&#x27;, &#x27;PoolQC&#x27;, &#x27;MiscFeature&#x27;]</pre></div> </div></div><div class=\"sk-serial\"><div class=\"sk-item\"><div class=\"sk-estimator fitted sk-toggleable\"><input class=\"sk-toggleable__control sk-hidden--visually\" id=\"sk-estimator-id-9\" type=\"checkbox\" ><label for=\"sk-estimator-id-9\" class=\"sk-toggleable__label fitted sk-toggleable__label-arrow\"><div><div>SimpleImputer</div></div><div><a class=\"sk-estimator-doc-link fitted\" rel=\"noreferrer\" target=\"_blank\" href=\"https://scikit-learn.org/1.6/modules/generated/sklearn.impute.SimpleImputer.html\">?<span>Documentation for SimpleImputer</span></a></div></label><div class=\"sk-toggleable__content fitted\"><pre>SimpleImputer(fill_value=&#x27;NA&#x27;, strategy=&#x27;constant&#x27;)</pre></div> </div></div></div></div></div><div class=\"sk-parallel-item\"><div class=\"sk-item\"><div class=\"sk-label-container\"><div class=\"sk-label fitted sk-toggleable\"><input class=\"sk-toggleable__control sk-hidden--visually\" id=\"sk-estimator-id-10\" type=\"checkbox\" ><label for=\"sk-estimator-id-10\" class=\"sk-toggleable__label fitted sk-toggleable__label-arrow\"><div><div>impute_none</div></div></label><div class=\"sk-toggleable__content fitted\"><pre>[&#x27;MasVnrType&#x27;]</pre></div> </div></div><div class=\"sk-serial\"><div class=\"sk-item\"><div class=\"sk-estimator fitted sk-toggleable\"><input class=\"sk-toggleable__control sk-hidden--visually\" id=\"sk-estimator-id-11\" type=\"checkbox\" ><label for=\"sk-estimator-id-11\" class=\"sk-toggleable__label fitted sk-toggleable__label-arrow\"><div><div>SimpleImputer</div></div><div><a class=\"sk-estimator-doc-link fitted\" rel=\"noreferrer\" target=\"_blank\" href=\"https://scikit-learn.org/1.6/modules/generated/sklearn.impute.SimpleImputer.html\">?<span>Documentation for SimpleImputer</span></a></div></label><div class=\"sk-toggleable__content fitted\"><pre>SimpleImputer(fill_value=&#x27;None&#x27;, strategy=&#x27;constant&#x27;)</pre></div> </div></div></div></div></div><div class=\"sk-parallel-item\"><div class=\"sk-item\"><div class=\"sk-label-container\"><div class=\"sk-label fitted sk-toggleable\"><input class=\"sk-toggleable__control sk-hidden--visually\" id=\"sk-estimator-id-12\" type=\"checkbox\" ><label for=\"sk-estimator-id-12\" class=\"sk-toggleable__label fitted sk-toggleable__label-arrow\"><div><div>impute_zero</div></div></label><div class=\"sk-toggleable__content fitted\"><pre>[&#x27;LotFrontage&#x27;, &#x27;MasVnrArea&#x27;, &#x27;BsmtFinSF1&#x27;, &#x27;BsmtFinSF2&#x27;, &#x27;BsmtUnfSF&#x27;, &#x27;TotalBsmtSF&#x27;, &#x27;BsmtFullBath&#x27;, &#x27;BsmtHalfBath&#x27;, &#x27;GarageCars&#x27;, &#x27;GarageArea&#x27;, &#x27;GarageYrBlt&#x27;]</pre></div> </div></div><div class=\"sk-serial\"><div class=\"sk-item\"><div class=\"sk-estimator fitted sk-toggleable\"><input class=\"sk-toggleable__control sk-hidden--visually\" id=\"sk-estimator-id-13\" type=\"checkbox\" ><label for=\"sk-estimator-id-13\" class=\"sk-toggleable__label fitted sk-toggleable__label-arrow\"><div><div>SimpleImputer</div></div><div><a class=\"sk-estimator-doc-link fitted\" rel=\"noreferrer\" target=\"_blank\" href=\"https://scikit-learn.org/1.6/modules/generated/sklearn.impute.SimpleImputer.html\">?<span>Documentation for SimpleImputer</span></a></div></label><div class=\"sk-toggleable__content fitted\"><pre>SimpleImputer(fill_value=0, strategy=&#x27;constant&#x27;)</pre></div> </div></div></div></div></div><div class=\"sk-parallel-item\"><div class=\"sk-item\"><div class=\"sk-label-container\"><div class=\"sk-label fitted sk-toggleable\"><input class=\"sk-toggleable__control sk-hidden--visually\" id=\"sk-estimator-id-14\" type=\"checkbox\" ><label for=\"sk-estimator-id-14\" class=\"sk-toggleable__label fitted sk-toggleable__label-arrow\"><div><div>impute_most_freq</div></div></label><div class=\"sk-toggleable__content fitted\"><pre>[&#x27;Electrical&#x27;, &#x27;MSZoning&#x27;, &#x27;Exterior1st&#x27;, &#x27;Exterior2nd&#x27;, &#x27;KitchenQual&#x27;, &#x27;Functional&#x27;]</pre></div> </div></div><div class=\"sk-serial\"><div class=\"sk-item\"><div class=\"sk-estimator fitted sk-toggleable\"><input class=\"sk-toggleable__control sk-hidden--visually\" id=\"sk-estimator-id-15\" type=\"checkbox\" ><label for=\"sk-estimator-id-15\" class=\"sk-toggleable__label fitted sk-toggleable__label-arrow\"><div><div>SimpleImputer</div></div><div><a class=\"sk-estimator-doc-link fitted\" rel=\"noreferrer\" target=\"_blank\" href=\"https://scikit-learn.org/1.6/modules/generated/sklearn.impute.SimpleImputer.html\">?<span>Documentation for SimpleImputer</span></a></div></label><div class=\"sk-toggleable__content fitted\"><pre>SimpleImputer(strategy=&#x27;most_frequent&#x27;)</pre></div> </div></div></div></div></div><div class=\"sk-parallel-item\"><div class=\"sk-item\"><div class=\"sk-label-container\"><div class=\"sk-label fitted sk-toggleable\"><input class=\"sk-toggleable__control sk-hidden--visually\" id=\"sk-estimator-id-16\" type=\"checkbox\" ><label for=\"sk-estimator-id-16\" class=\"sk-toggleable__label fitted sk-toggleable__label-arrow\"><div><div>remainder</div></div></label><div class=\"sk-toggleable__content fitted\"><pre>[&#x27;MSSubClass&#x27;, &#x27;LotArea&#x27;, &#x27;LotShape&#x27;, &#x27;LandContour&#x27;, &#x27;LotConfig&#x27;, &#x27;LandSlope&#x27;, &#x27;Neighborhood&#x27;, &#x27;Condition1&#x27;, &#x27;Condition2&#x27;, &#x27;BldgType&#x27;, &#x27;HouseStyle&#x27;, &#x27;OverallQual&#x27;, &#x27;OverallCond&#x27;, &#x27;YearBuilt&#x27;, &#x27;YearRemodAdd&#x27;, &#x27;RoofStyle&#x27;, &#x27;RoofMatl&#x27;, &#x27;ExterQual&#x27;, &#x27;ExterCond&#x27;, &#x27;Foundation&#x27;, &#x27;Heating&#x27;, &#x27;HeatingQC&#x27;, &#x27;CentralAir&#x27;, &#x27;1stFlrSF&#x27;, &#x27;2ndFlrSF&#x27;, &#x27;LowQualFinSF&#x27;, &#x27;GrLivArea&#x27;, &#x27;FullBath&#x27;, &#x27;HalfBath&#x27;, &#x27;BedroomAbvGr&#x27;, &#x27;KitchenAbvGr&#x27;, &#x27;TotRmsAbvGrd&#x27;, &#x27;Fireplaces&#x27;, &#x27;PavedDrive&#x27;, &#x27;WoodDeckSF&#x27;, &#x27;OpenPorchSF&#x27;, &#x27;EnclosedPorch&#x27;, &#x27;3SsnPorch&#x27;, &#x27;ScreenPorch&#x27;, &#x27;PoolArea&#x27;, &#x27;MiscVal&#x27;, &#x27;MoSold&#x27;, &#x27;YrSold&#x27;, &#x27;SaleType&#x27;, &#x27;SaleCondition&#x27;]</pre></div> </div></div><div class=\"sk-serial\"><div class=\"sk-item\"><div class=\"sk-estimator fitted sk-toggleable\"><input class=\"sk-toggleable__control sk-hidden--visually\" id=\"sk-estimator-id-17\" type=\"checkbox\" ><label for=\"sk-estimator-id-17\" class=\"sk-toggleable__label fitted sk-toggleable__label-arrow\"><div><div>passthrough</div></div></label><div class=\"sk-toggleable__content fitted\"><pre>passthrough</pre></div> </div></div></div></div></div></div></div><div class=\"sk-item sk-dashed-wrapped\"><div class=\"sk-label-container\"><div class=\"sk-label fitted sk-toggleable\"><input class=\"sk-toggleable__control sk-hidden--visually\" id=\"sk-estimator-id-18\" type=\"checkbox\" ><label for=\"sk-estimator-id-18\" class=\"sk-toggleable__label fitted sk-toggleable__label-arrow\"><div><div>preprocessor_encode_scale: ColumnTransformer</div></div><div><a class=\"sk-estimator-doc-link fitted\" rel=\"noreferrer\" target=\"_blank\" href=\"https://scikit-learn.org/1.6/modules/generated/sklearn.compose.ColumnTransformer.html\">?<span>Documentation for preprocessor_encode_scale: ColumnTransformer</span></a></div></label><div class=\"sk-toggleable__content fitted\"><pre>ColumnTransformer(remainder=Pipeline(steps=[(&#x27;preprocessor_scalers&#x27;,\n",
       "                                             ColumnTransformer(remainder=&#x27;passthrough&#x27;,\n",
       "                                                               transformers=[(&#x27;standard_scaler&#x27;,\n",
       "                                                                              StandardScaler(),\n",
       "                                                                              [&#x27;LotFrontage&#x27;,\n",
       "                                                                               &#x27;GarageArea&#x27;]),\n",
       "                                                                             (&#x27;robust_scaler&#x27;,\n",
       "                                                                              RobustScaler(),\n",
       "                                                                              [&#x27;LotArea&#x27;,\n",
       "                                                                               &#x27;MasVnrArea&#x27;,\n",
       "                                                                               &#x27;BsmtFinSF1&#x27;,\n",
       "                                                                               &#x27;BsmtFinSF2&#x27;,\n",
       "                                                                               &#x27;BsmtUnfSF&#x27;,\n",
       "                                                                               &#x27;TotalBsmtSF&#x27;,\n",
       "                                                                               &#x27;1stFlrSF&#x27;,\n",
       "                                                                               &#x27;2ndFlrSF&#x27;,\n",
       "                                                                               &#x27;GrLivArea&#x27;,\n",
       "                                                                               &#x27;WoodDeckSF&#x27;,\n",
       "                                                                               &#x27;Open...\n",
       "dtype: int64},\n",
       "                                                         {&#x27;col&#x27;: &#x27;Fence&#x27;,\n",
       "                                                          &#x27;data_type&#x27;: dtype(&#x27;O&#x27;),\n",
       "                                                          &#x27;mapping&#x27;: NA       0\n",
       "MnWw     1\n",
       "GdWo     2\n",
       "MnPrv    3\n",
       "GdPrv    4\n",
       "dtype: int64}]),\n",
       "                                 [&#x27;OverallQual&#x27;, &#x27;OverallCond&#x27;, &#x27;ExterQual&#x27;,\n",
       "                                  &#x27;ExterCond&#x27;, &#x27;BsmtQual&#x27;, &#x27;BsmtCond&#x27;,\n",
       "                                  &#x27;BsmtExposure&#x27;, &#x27;BsmtFinType1&#x27;,\n",
       "                                  &#x27;BsmtFinType2&#x27;, &#x27;HeatingQC&#x27;, &#x27;FireplaceQu&#x27;,\n",
       "                                  &#x27;GarageFinish&#x27;, &#x27;GarageQual&#x27;, &#x27;GarageCond&#x27;,\n",
       "                                  &#x27;PoolQC&#x27;, &#x27;KitchenQual&#x27;, &#x27;Fence&#x27;])],\n",
       "                  verbose_feature_names_out=False)</pre></div> </div></div><div class=\"sk-parallel\"><div class=\"sk-parallel-item\"><div class=\"sk-item\"><div class=\"sk-label-container\"><div class=\"sk-label fitted sk-toggleable\"><input class=\"sk-toggleable__control sk-hidden--visually\" id=\"sk-estimator-id-19\" type=\"checkbox\" ><label for=\"sk-estimator-id-19\" class=\"sk-toggleable__label fitted sk-toggleable__label-arrow\"><div><div>ohe</div></div></label><div class=\"sk-toggleable__content fitted\"><pre>[&#x27;MSSubClass&#x27;, &#x27;MSZoning&#x27;, &#x27;Alley&#x27;, &#x27;LotShape&#x27;, &#x27;LandContour&#x27;, &#x27;LotConfig&#x27;, &#x27;LandSlope&#x27;, &#x27;Neighborhood&#x27;, &#x27;Condition1&#x27;, &#x27;Condition2&#x27;, &#x27;BldgType&#x27;, &#x27;HouseStyle&#x27;, &#x27;RoofStyle&#x27;, &#x27;RoofMatl&#x27;, &#x27;Exterior1st&#x27;, &#x27;Exterior2nd&#x27;, &#x27;MasVnrType&#x27;, &#x27;Foundation&#x27;, &#x27;Heating&#x27;, &#x27;CentralAir&#x27;, &#x27;Electrical&#x27;, &#x27;Functional&#x27;, &#x27;GarageType&#x27;, &#x27;PavedDrive&#x27;, &#x27;MiscFeature&#x27;, &#x27;MoSold&#x27;, &#x27;YrSold&#x27;, &#x27;SaleType&#x27;, &#x27;SaleCondition&#x27;]</pre></div> </div></div><div class=\"sk-serial\"><div class=\"sk-item\"><div class=\"sk-estimator fitted sk-toggleable\"><input class=\"sk-toggleable__control sk-hidden--visually\" id=\"sk-estimator-id-20\" type=\"checkbox\" ><label for=\"sk-estimator-id-20\" class=\"sk-toggleable__label fitted sk-toggleable__label-arrow\"><div><div>OneHotEncoder</div></div><div><a class=\"sk-estimator-doc-link fitted\" rel=\"noreferrer\" target=\"_blank\" href=\"https://scikit-learn.org/1.6/modules/generated/sklearn.preprocessing.OneHotEncoder.html\">?<span>Documentation for OneHotEncoder</span></a></div></label><div class=\"sk-toggleable__content fitted\"><pre>OneHotEncoder(handle_unknown=&#x27;ignore&#x27;, sparse_output=False)</pre></div> </div></div></div></div></div><div class=\"sk-parallel-item\"><div class=\"sk-item\"><div class=\"sk-label-container\"><div class=\"sk-label fitted sk-toggleable\"><input class=\"sk-toggleable__control sk-hidden--visually\" id=\"sk-estimator-id-21\" type=\"checkbox\" ><label for=\"sk-estimator-id-21\" class=\"sk-toggleable__label fitted sk-toggleable__label-arrow\"><div><div>oe</div></div></label><div class=\"sk-toggleable__content fitted\"><pre>[&#x27;OverallQual&#x27;, &#x27;OverallCond&#x27;, &#x27;ExterQual&#x27;, &#x27;ExterCond&#x27;, &#x27;BsmtQual&#x27;, &#x27;BsmtCond&#x27;, &#x27;BsmtExposure&#x27;, &#x27;BsmtFinType1&#x27;, &#x27;BsmtFinType2&#x27;, &#x27;HeatingQC&#x27;, &#x27;FireplaceQu&#x27;, &#x27;GarageFinish&#x27;, &#x27;GarageQual&#x27;, &#x27;GarageCond&#x27;, &#x27;PoolQC&#x27;, &#x27;KitchenQual&#x27;, &#x27;Fence&#x27;]</pre></div> </div></div><div class=\"sk-serial\"><div class=\"sk-item\"><div class=\"sk-estimator fitted sk-toggleable\"><input class=\"sk-toggleable__control sk-hidden--visually\" id=\"sk-estimator-id-22\" type=\"checkbox\" ><label for=\"sk-estimator-id-22\" class=\"sk-toggleable__label fitted sk-toggleable__label-arrow\"><div><div>OrdinalEncoder</div></div></label><div class=\"sk-toggleable__content fitted\"><pre>OrdinalEncoder(mapping=[{&#x27;col&#x27;: &#x27;BsmtQual&#x27;, &#x27;data_type&#x27;: dtype(&#x27;O&#x27;),\n",
       "                         &#x27;mapping&#x27;: NA    0\n",
       "Po    1\n",
       "Fa    2\n",
       "TA    3\n",
       "Gd    4\n",
       "Ex    5\n",
       "dtype: int64},\n",
       "                        {&#x27;col&#x27;: &#x27;BsmtCond&#x27;, &#x27;data_type&#x27;: dtype(&#x27;O&#x27;),\n",
       "                         &#x27;mapping&#x27;: NA    0\n",
       "Po    1\n",
       "Fa    2\n",
       "TA    3\n",
       "Gd    4\n",
       "Ex    5\n",
       "dtype: int64},\n",
       "                        {&#x27;col&#x27;: &#x27;BsmtExposure&#x27;, &#x27;data_type&#x27;: dtype(&#x27;O&#x27;),\n",
       "                         &#x27;mapping&#x27;: NA    0\n",
       "No    1\n",
       "Mn    2\n",
       "Av    3\n",
       "Gd    4\n",
       "dtype: int64},\n",
       "                        {&#x27;col&#x27;: &#x27;BsmtFinType1&#x27;, &#x27;data_type&#x27;: dtype(&#x27;O&#x27;),\n",
       "                         &#x27;mapping&#x27;: NA     0\n",
       "Unf    1\n",
       "LwQ    2\n",
       "Rec    3\n",
       "BLQ    4\n",
       "ALQ    5\n",
       "G...\n",
       "dtype: int64},\n",
       "                        {&#x27;col&#x27;: &#x27;ExterCond&#x27;, &#x27;data_type&#x27;: dtype(&#x27;O&#x27;),\n",
       "                         &#x27;mapping&#x27;: NA    0\n",
       "Po    1\n",
       "Fa    2\n",
       "TA    3\n",
       "Gd    4\n",
       "Ex    5\n",
       "dtype: int64},\n",
       "                        {&#x27;col&#x27;: &#x27;HeatingQC&#x27;, &#x27;data_type&#x27;: dtype(&#x27;O&#x27;),\n",
       "                         &#x27;mapping&#x27;: NA    0\n",
       "Po    1\n",
       "Fa    2\n",
       "TA    3\n",
       "Gd    4\n",
       "Ex    5\n",
       "dtype: int64},\n",
       "                        {&#x27;col&#x27;: &#x27;KitchenQual&#x27;, &#x27;data_type&#x27;: dtype(&#x27;O&#x27;),\n",
       "                         &#x27;mapping&#x27;: NA    0\n",
       "Po    1\n",
       "Fa    2\n",
       "TA    3\n",
       "Gd    4\n",
       "Ex    5\n",
       "dtype: int64},\n",
       "                        {&#x27;col&#x27;: &#x27;Fence&#x27;, &#x27;data_type&#x27;: dtype(&#x27;O&#x27;),\n",
       "                         &#x27;mapping&#x27;: NA       0\n",
       "MnWw     1\n",
       "GdWo     2\n",
       "MnPrv    3\n",
       "GdPrv    4\n",
       "dtype: int64}])</pre></div> </div></div></div></div></div><div class=\"sk-parallel-item\"><div class=\"sk-item\"><div class=\"sk-label-container\"><div class=\"sk-label fitted sk-toggleable\"><input class=\"sk-toggleable__control sk-hidden--visually\" id=\"sk-estimator-id-23\" type=\"checkbox\" ><label for=\"sk-estimator-id-23\" class=\"sk-toggleable__label fitted sk-toggleable__label-arrow\"><div><div>remainder</div></div></label><div class=\"sk-toggleable__content fitted\"><pre>[&#x27;LotFrontage&#x27;, &#x27;MasVnrArea&#x27;, &#x27;BsmtFinSF1&#x27;, &#x27;BsmtFinSF2&#x27;, &#x27;BsmtUnfSF&#x27;, &#x27;TotalBsmtSF&#x27;, &#x27;BsmtFullBath&#x27;, &#x27;BsmtHalfBath&#x27;, &#x27;GarageCars&#x27;, &#x27;GarageArea&#x27;, &#x27;GarageYrBlt&#x27;, &#x27;LotArea&#x27;, &#x27;YearBuilt&#x27;, &#x27;YearRemodAdd&#x27;, &#x27;1stFlrSF&#x27;, &#x27;2ndFlrSF&#x27;, &#x27;LowQualFinSF&#x27;, &#x27;GrLivArea&#x27;, &#x27;FullBath&#x27;, &#x27;HalfBath&#x27;, &#x27;BedroomAbvGr&#x27;, &#x27;KitchenAbvGr&#x27;, &#x27;TotRmsAbvGrd&#x27;, &#x27;Fireplaces&#x27;, &#x27;WoodDeckSF&#x27;, &#x27;OpenPorchSF&#x27;, &#x27;EnclosedPorch&#x27;, &#x27;3SsnPorch&#x27;, &#x27;ScreenPorch&#x27;, &#x27;PoolArea&#x27;, &#x27;MiscVal&#x27;]</pre></div> </div></div><div class=\"sk-serial\"><div class=\"sk-item\"><div class=\"sk-serial\"><div class=\"sk-item sk-dashed-wrapped\"><div class=\"sk-label-container\"><div class=\"sk-label fitted sk-toggleable\"><input class=\"sk-toggleable__control sk-hidden--visually\" id=\"sk-estimator-id-24\" type=\"checkbox\" ><label for=\"sk-estimator-id-24\" class=\"sk-toggleable__label fitted sk-toggleable__label-arrow\"><div><div>preprocessor_scalers: ColumnTransformer</div></div><div><a class=\"sk-estimator-doc-link fitted\" rel=\"noreferrer\" target=\"_blank\" href=\"https://scikit-learn.org/1.6/modules/generated/sklearn.compose.ColumnTransformer.html\">?<span>Documentation for preprocessor_scalers: ColumnTransformer</span></a></div></label><div class=\"sk-toggleable__content fitted\"><pre>ColumnTransformer(remainder=&#x27;passthrough&#x27;,\n",
       "                  transformers=[(&#x27;standard_scaler&#x27;, StandardScaler(),\n",
       "                                 [&#x27;LotFrontage&#x27;, &#x27;GarageArea&#x27;]),\n",
       "                                (&#x27;robust_scaler&#x27;, RobustScaler(),\n",
       "                                 [&#x27;LotArea&#x27;, &#x27;MasVnrArea&#x27;, &#x27;BsmtFinSF1&#x27;,\n",
       "                                  &#x27;BsmtFinSF2&#x27;, &#x27;BsmtUnfSF&#x27;, &#x27;TotalBsmtSF&#x27;,\n",
       "                                  &#x27;1stFlrSF&#x27;, &#x27;2ndFlrSF&#x27;, &#x27;GrLivArea&#x27;,\n",
       "                                  &#x27;WoodDeckSF&#x27;, &#x27;OpenPorchSF&#x27;, &#x27;EnclosedPorch&#x27;,\n",
       "                                  &#x27;ScreenPorch&#x27;, &#x27;PoolArea&#x27;, &#x27;MiscVal&#x27;,\n",
       "                                  &#x27;LowQualFinSF&#x27;, &#x27;3SsnPorch&#x27;]),\n",
       "                                (&#x27;minmax_scaler&#x27;, MinMaxScaler(),\n",
       "                                 [&#x27;YearBuilt&#x27;, &#x27;YearRemodAdd&#x27;])],\n",
       "                  verbose_feature_names_out=False)</pre></div> </div></div><div class=\"sk-parallel\"><div class=\"sk-parallel-item\"><div class=\"sk-item\"><div class=\"sk-label-container\"><div class=\"sk-label fitted sk-toggleable\"><input class=\"sk-toggleable__control sk-hidden--visually\" id=\"sk-estimator-id-25\" type=\"checkbox\" ><label for=\"sk-estimator-id-25\" class=\"sk-toggleable__label fitted sk-toggleable__label-arrow\"><div><div>standard_scaler</div></div></label><div class=\"sk-toggleable__content fitted\"><pre>[&#x27;LotFrontage&#x27;, &#x27;GarageArea&#x27;]</pre></div> </div></div><div class=\"sk-serial\"><div class=\"sk-item\"><div class=\"sk-estimator fitted sk-toggleable\"><input class=\"sk-toggleable__control sk-hidden--visually\" id=\"sk-estimator-id-26\" type=\"checkbox\" ><label for=\"sk-estimator-id-26\" class=\"sk-toggleable__label fitted sk-toggleable__label-arrow\"><div><div>StandardScaler</div></div><div><a class=\"sk-estimator-doc-link fitted\" rel=\"noreferrer\" target=\"_blank\" href=\"https://scikit-learn.org/1.6/modules/generated/sklearn.preprocessing.StandardScaler.html\">?<span>Documentation for StandardScaler</span></a></div></label><div class=\"sk-toggleable__content fitted\"><pre>StandardScaler()</pre></div> </div></div></div></div></div><div class=\"sk-parallel-item\"><div class=\"sk-item\"><div class=\"sk-label-container\"><div class=\"sk-label fitted sk-toggleable\"><input class=\"sk-toggleable__control sk-hidden--visually\" id=\"sk-estimator-id-27\" type=\"checkbox\" ><label for=\"sk-estimator-id-27\" class=\"sk-toggleable__label fitted sk-toggleable__label-arrow\"><div><div>robust_scaler</div></div></label><div class=\"sk-toggleable__content fitted\"><pre>[&#x27;LotArea&#x27;, &#x27;MasVnrArea&#x27;, &#x27;BsmtFinSF1&#x27;, &#x27;BsmtFinSF2&#x27;, &#x27;BsmtUnfSF&#x27;, &#x27;TotalBsmtSF&#x27;, &#x27;1stFlrSF&#x27;, &#x27;2ndFlrSF&#x27;, &#x27;GrLivArea&#x27;, &#x27;WoodDeckSF&#x27;, &#x27;OpenPorchSF&#x27;, &#x27;EnclosedPorch&#x27;, &#x27;ScreenPorch&#x27;, &#x27;PoolArea&#x27;, &#x27;MiscVal&#x27;, &#x27;LowQualFinSF&#x27;, &#x27;3SsnPorch&#x27;]</pre></div> </div></div><div class=\"sk-serial\"><div class=\"sk-item\"><div class=\"sk-estimator fitted sk-toggleable\"><input class=\"sk-toggleable__control sk-hidden--visually\" id=\"sk-estimator-id-28\" type=\"checkbox\" ><label for=\"sk-estimator-id-28\" class=\"sk-toggleable__label fitted sk-toggleable__label-arrow\"><div><div>RobustScaler</div></div><div><a class=\"sk-estimator-doc-link fitted\" rel=\"noreferrer\" target=\"_blank\" href=\"https://scikit-learn.org/1.6/modules/generated/sklearn.preprocessing.RobustScaler.html\">?<span>Documentation for RobustScaler</span></a></div></label><div class=\"sk-toggleable__content fitted\"><pre>RobustScaler()</pre></div> </div></div></div></div></div><div class=\"sk-parallel-item\"><div class=\"sk-item\"><div class=\"sk-label-container\"><div class=\"sk-label fitted sk-toggleable\"><input class=\"sk-toggleable__control sk-hidden--visually\" id=\"sk-estimator-id-29\" type=\"checkbox\" ><label for=\"sk-estimator-id-29\" class=\"sk-toggleable__label fitted sk-toggleable__label-arrow\"><div><div>minmax_scaler</div></div></label><div class=\"sk-toggleable__content fitted\"><pre>[&#x27;YearBuilt&#x27;, &#x27;YearRemodAdd&#x27;]</pre></div> </div></div><div class=\"sk-serial\"><div class=\"sk-item\"><div class=\"sk-estimator fitted sk-toggleable\"><input class=\"sk-toggleable__control sk-hidden--visually\" id=\"sk-estimator-id-30\" type=\"checkbox\" ><label for=\"sk-estimator-id-30\" class=\"sk-toggleable__label fitted sk-toggleable__label-arrow\"><div><div>MinMaxScaler</div></div><div><a class=\"sk-estimator-doc-link fitted\" rel=\"noreferrer\" target=\"_blank\" href=\"https://scikit-learn.org/1.6/modules/generated/sklearn.preprocessing.MinMaxScaler.html\">?<span>Documentation for MinMaxScaler</span></a></div></label><div class=\"sk-toggleable__content fitted\"><pre>MinMaxScaler()</pre></div> </div></div></div></div></div><div class=\"sk-parallel-item\"><div class=\"sk-item\"><div class=\"sk-label-container\"><div class=\"sk-label fitted sk-toggleable\"><input class=\"sk-toggleable__control sk-hidden--visually\" id=\"sk-estimator-id-31\" type=\"checkbox\" ><label for=\"sk-estimator-id-31\" class=\"sk-toggleable__label fitted sk-toggleable__label-arrow\"><div><div>remainder</div></div></label><div class=\"sk-toggleable__content fitted\"><pre></pre></div> </div></div><div class=\"sk-serial\"><div class=\"sk-item\"><div class=\"sk-estimator fitted sk-toggleable\"><input class=\"sk-toggleable__control sk-hidden--visually\" id=\"sk-estimator-id-32\" type=\"checkbox\" ><label for=\"sk-estimator-id-32\" class=\"sk-toggleable__label fitted sk-toggleable__label-arrow\"><div><div>passthrough</div></div></label><div class=\"sk-toggleable__content fitted\"><pre>passthrough</pre></div> </div></div></div></div></div></div></div><div class=\"sk-item\"><div class=\"sk-estimator fitted sk-toggleable\"><input class=\"sk-toggleable__control sk-hidden--visually\" id=\"sk-estimator-id-33\" type=\"checkbox\" ><label for=\"sk-estimator-id-33\" class=\"sk-toggleable__label fitted sk-toggleable__label-arrow\"><div><div>PolynomialFeatures</div></div><div><a class=\"sk-estimator-doc-link fitted\" rel=\"noreferrer\" target=\"_blank\" href=\"https://scikit-learn.org/1.6/modules/generated/sklearn.preprocessing.PolynomialFeatures.html\">?<span>Documentation for PolynomialFeatures</span></a></div></label><div class=\"sk-toggleable__content fitted\"><pre>PolynomialFeatures(degree=1)</pre></div> </div></div></div></div></div></div></div></div></div></div></div><div class=\"sk-item\"><div class=\"sk-estimator fitted sk-toggleable\"><input class=\"sk-toggleable__control sk-hidden--visually\" id=\"sk-estimator-id-34\" type=\"checkbox\" ><label for=\"sk-estimator-id-34\" class=\"sk-toggleable__label fitted sk-toggleable__label-arrow\"><div><div>Lasso</div></div><div><a class=\"sk-estimator-doc-link fitted\" rel=\"noreferrer\" target=\"_blank\" href=\"https://scikit-learn.org/1.6/modules/generated/sklearn.linear_model.Lasso.html\">?<span>Documentation for Lasso</span></a></div></label><div class=\"sk-toggleable__content fitted\"><pre>Lasso(alpha=0.001)</pre></div> </div></div></div></div></div></div></div></div></div></div></div>"
      ],
      "text/plain": [
       "GridSearchCV(estimator=Pipeline(steps=[('main_pipe',\n",
       "                                        Pipeline(steps=[('preprocessor_filter',\n",
       "                                                         ColumnTransformer(transformers=[('passthrough',\n",
       "                                                                                          'passthrough',\n",
       "                                                                                          ['MSSubClass',\n",
       "                                                                                           'MSZoning',\n",
       "                                                                                           'LotFrontage',\n",
       "                                                                                           'LotArea',\n",
       "                                                                                           'Alley',\n",
       "                                                                                           'LotShape',\n",
       "                                                                                           'LandContour',\n",
       "                                                                                           'LotConfig',\n",
       "                                                                                           'LandSlope',\n",
       "                                                                                           'Neighborhood',\n",
       "                                                                                           'Condition1',\n",
       "                                                                                           'Condition2',\n",
       "                                                                                           'BldgType',\n",
       "                                                                                           'HouseStyle',\n",
       "                                                                                           'OverallQual',\n",
       "                                                                                           'OverallCond'...\n",
       "                                                                                           'BsmtCond',\n",
       "                                                                                           'BsmtExposure',\n",
       "                                                                                           'BsmtFinType1',\n",
       "                                                                                           'BsmtFinType2',\n",
       "                                                                                           'HeatingQC',\n",
       "                                                                                           'FireplaceQu',\n",
       "                                                                                           'GarageFinish',\n",
       "                                                                                           'GarageQual',\n",
       "                                                                                           'GarageCond',\n",
       "                                                                                           'PoolQC',\n",
       "                                                                                           'KitchenQual',\n",
       "                                                                                           'Fence'])],\n",
       "                                                                           verbose_feature_names_out=False))])),\n",
       "                                       ('model', Lasso())]),\n",
       "             param_grid={'main_pipe__preprocessor_encode_scale__remainder__poly__degree': range(1, 4),\n",
       "                         'model__alpha': [1000, 100, 10, 1, 0.1, 0.001,\n",
       "                                          0.0001]},\n",
       "             verbose=2)"
      ]
     },
     "execution_count": 20,
     "metadata": {},
     "output_type": "execute_result"
    }
   ],
   "source": [
    "\n",
    "from sklearn.model_selection import GridSearchCV\n",
    "\n",
    "params = {'main_pipe__preprocessor_encode_scale__remainder__poly__degree': range(1,4), 'model__alpha':[1000,100,10,1,0.1,.001,.0001]}\n",
    "poly_gs = GridSearchCV(poly_pipe, params, verbose=2)\n",
    "\n",
    "poly_gs.fit(X_train, log_y_train)\n"
   ]
  },
  {
   "cell_type": "code",
   "execution_count": 21,
   "metadata": {},
   "outputs": [],
   "source": [
    "linear_results_train = evaluate_regression(poly_gs, X_train, log_y_train, 'poly_gs')\n",
    "linear_results_val = evaluate_regression(poly_gs, X_val, log_y_val, 'poly_gs')"
   ]
  },
  {
   "cell_type": "code",
   "execution_count": 22,
   "metadata": {},
   "outputs": [
    {
     "data": {
      "text/html": [
       "<div>\n",
       "<style scoped>\n",
       "    .dataframe tbody tr th:only-of-type {\n",
       "        vertical-align: middle;\n",
       "    }\n",
       "\n",
       "    .dataframe tbody tr th {\n",
       "        vertical-align: top;\n",
       "    }\n",
       "\n",
       "    .dataframe thead th {\n",
       "        text-align: right;\n",
       "    }\n",
       "</style>\n",
       "<table border=\"1\" class=\"dataframe\">\n",
       "  <thead>\n",
       "    <tr style=\"text-align: right;\">\n",
       "      <th></th>\n",
       "      <th>MAE</th>\n",
       "      <th>MSE</th>\n",
       "      <th>RMSE</th>\n",
       "      <th>MAPE</th>\n",
       "      <th>R2</th>\n",
       "      <th>adj_r2</th>\n",
       "    </tr>\n",
       "  </thead>\n",
       "  <tbody>\n",
       "    <tr>\n",
       "      <th>poly_gs</th>\n",
       "      <td>0.080813</td>\n",
       "      <td>0.014244</td>\n",
       "      <td>0.119349</td>\n",
       "      <td>0.006753</td>\n",
       "      <td>0.906561</td>\n",
       "      <td>0.899685</td>\n",
       "    </tr>\n",
       "  </tbody>\n",
       "</table>\n",
       "</div>"
      ],
      "text/plain": [
       "              MAE       MSE      RMSE      MAPE        R2    adj_r2\n",
       "poly_gs  0.080813  0.014244  0.119349  0.006753  0.906561  0.899685"
      ]
     },
     "execution_count": 22,
     "metadata": {},
     "output_type": "execute_result"
    }
   ],
   "source": [
    "linear_results_train"
   ]
  },
  {
   "cell_type": "code",
   "execution_count": 23,
   "metadata": {},
   "outputs": [
    {
     "data": {
      "text/html": [
       "<div>\n",
       "<style scoped>\n",
       "    .dataframe tbody tr th:only-of-type {\n",
       "        vertical-align: middle;\n",
       "    }\n",
       "\n",
       "    .dataframe tbody tr th {\n",
       "        vertical-align: top;\n",
       "    }\n",
       "\n",
       "    .dataframe thead th {\n",
       "        text-align: right;\n",
       "    }\n",
       "</style>\n",
       "<table border=\"1\" class=\"dataframe\">\n",
       "  <thead>\n",
       "    <tr style=\"text-align: right;\">\n",
       "      <th></th>\n",
       "      <th>MAE</th>\n",
       "      <th>MSE</th>\n",
       "      <th>RMSE</th>\n",
       "      <th>MAPE</th>\n",
       "      <th>R2</th>\n",
       "      <th>adj_r2</th>\n",
       "    </tr>\n",
       "  </thead>\n",
       "  <tbody>\n",
       "    <tr>\n",
       "      <th>poly_gs</th>\n",
       "      <td>0.093486</td>\n",
       "      <td>0.01883</td>\n",
       "      <td>0.137222</td>\n",
       "      <td>0.007876</td>\n",
       "      <td>0.899097</td>\n",
       "      <td>0.86084</td>\n",
       "    </tr>\n",
       "  </tbody>\n",
       "</table>\n",
       "</div>"
      ],
      "text/plain": [
       "              MAE      MSE      RMSE      MAPE        R2   adj_r2\n",
       "poly_gs  0.093486  0.01883  0.137222  0.007876  0.899097  0.86084"
      ]
     },
     "execution_count": 23,
     "metadata": {},
     "output_type": "execute_result"
    }
   ],
   "source": [
    "linear_results_val"
   ]
  },
  {
   "cell_type": "code",
   "execution_count": 27,
   "metadata": {},
   "outputs": [
    {
     "data": {
      "text/plain": [
       "{'main_pipe__preprocessor_encode_scale__remainder__poly__degree': 1,\n",
       " 'model__alpha': 0.001}"
      ]
     },
     "execution_count": 27,
     "metadata": {},
     "output_type": "execute_result"
    }
   ],
   "source": [
    "poly_gs.best_params_"
   ]
  },
  {
   "cell_type": "code",
   "execution_count": 26,
   "metadata": {},
   "outputs": [
    {
     "data": {
      "text/plain": [
       "0.1372218029682547"
      ]
     },
     "execution_count": 26,
     "metadata": {},
     "output_type": "execute_result"
    }
   ],
   "source": [
    "log_val_preds = poly_gs.predict(X_val)\n",
    "val_preds = np.exp(log_val_preds)\n",
    "pred_log = np.log(val_preds)\n",
    "y_log = np.log(y_val)\n",
    "root_mean_squared_error(y_log, pred_log)"
   ]
  },
  {
   "cell_type": "markdown",
   "metadata": {},
   "source": [
    "# --- Predicting test ---"
   ]
  },
  {
   "cell_type": "code",
   "execution_count": null,
   "metadata": {},
   "outputs": [],
   "source": [
    "# import the test data\n",
    "\n",
    "test_data = pd.read_csv('../data/test.csv')"
   ]
  },
  {
   "cell_type": "code",
   "execution_count": null,
   "metadata": {},
   "outputs": [],
   "source": [
    "# save the id column to be added back later to the predictions\n",
    "\n",
    "test_id = test_data.loc[:,'Id'].copy()\n",
    "test_id = pd.DataFrame(test_id)"
   ]
  },
  {
   "cell_type": "code",
   "execution_count": null,
   "metadata": {},
   "outputs": [],
   "source": [
    "# transform test data using the pipeline\n",
    "\n",
    "test_proc = main_pipe.transform(test_data)"
   ]
  },
  {
   "cell_type": "code",
   "execution_count": null,
   "metadata": {},
   "outputs": [],
   "source": [
    "# predict test (keeping in mind it is still log)\n",
    "\n",
    "log_test_pred = lasso.predict(test_proc)\n",
    "log_test_pred = pd.DataFrame(log_test_pred)"
   ]
  },
  {
   "cell_type": "code",
   "execution_count": null,
   "metadata": {},
   "outputs": [],
   "source": [
    "# convert the test predictions back using exponential\n",
    "\n",
    "test_pred = np.exp(log_test_pred)"
   ]
  },
  {
   "cell_type": "code",
   "execution_count": null,
   "metadata": {},
   "outputs": [],
   "source": [
    "# adding the id's back to the test predictions\n",
    "\n",
    "combined_test = test_id.join(test_pred)"
   ]
  },
  {
   "cell_type": "code",
   "execution_count": null,
   "metadata": {},
   "outputs": [],
   "source": [
    "# change the column names to match the submission format\n",
    "\n",
    "combined_test.columns = ['Id','SalePrice']"
   ]
  },
  {
   "cell_type": "code",
   "execution_count": null,
   "metadata": {},
   "outputs": [
    {
     "data": {
      "text/html": [
       "<div>\n",
       "<style scoped>\n",
       "    .dataframe tbody tr th:only-of-type {\n",
       "        vertical-align: middle;\n",
       "    }\n",
       "\n",
       "    .dataframe tbody tr th {\n",
       "        vertical-align: top;\n",
       "    }\n",
       "\n",
       "    .dataframe thead th {\n",
       "        text-align: right;\n",
       "    }\n",
       "</style>\n",
       "<table border=\"1\" class=\"dataframe\">\n",
       "  <thead>\n",
       "    <tr style=\"text-align: right;\">\n",
       "      <th></th>\n",
       "      <th>Id</th>\n",
       "      <th>SalePrice</th>\n",
       "    </tr>\n",
       "  </thead>\n",
       "  <tbody>\n",
       "    <tr>\n",
       "      <th>0</th>\n",
       "      <td>1461</td>\n",
       "      <td>120401.108792</td>\n",
       "    </tr>\n",
       "    <tr>\n",
       "      <th>1</th>\n",
       "      <td>1462</td>\n",
       "      <td>158593.943409</td>\n",
       "    </tr>\n",
       "    <tr>\n",
       "      <th>2</th>\n",
       "      <td>1463</td>\n",
       "      <td>175283.337671</td>\n",
       "    </tr>\n",
       "    <tr>\n",
       "      <th>3</th>\n",
       "      <td>1464</td>\n",
       "      <td>195848.450337</td>\n",
       "    </tr>\n",
       "    <tr>\n",
       "      <th>4</th>\n",
       "      <td>1465</td>\n",
       "      <td>203615.033128</td>\n",
       "    </tr>\n",
       "    <tr>\n",
       "      <th>...</th>\n",
       "      <td>...</td>\n",
       "      <td>...</td>\n",
       "    </tr>\n",
       "    <tr>\n",
       "      <th>1454</th>\n",
       "      <td>2915</td>\n",
       "      <td>80454.418070</td>\n",
       "    </tr>\n",
       "    <tr>\n",
       "      <th>1455</th>\n",
       "      <td>2916</td>\n",
       "      <td>80412.021112</td>\n",
       "    </tr>\n",
       "    <tr>\n",
       "      <th>1456</th>\n",
       "      <td>2917</td>\n",
       "      <td>162911.652723</td>\n",
       "    </tr>\n",
       "    <tr>\n",
       "      <th>1457</th>\n",
       "      <td>2918</td>\n",
       "      <td>117614.923731</td>\n",
       "    </tr>\n",
       "    <tr>\n",
       "      <th>1458</th>\n",
       "      <td>2919</td>\n",
       "      <td>220543.109583</td>\n",
       "    </tr>\n",
       "  </tbody>\n",
       "</table>\n",
       "<p>1459 rows × 2 columns</p>\n",
       "</div>"
      ],
      "text/plain": [
       "        Id      SalePrice\n",
       "0     1461  120401.108792\n",
       "1     1462  158593.943409\n",
       "2     1463  175283.337671\n",
       "3     1464  195848.450337\n",
       "4     1465  203615.033128\n",
       "...    ...            ...\n",
       "1454  2915   80454.418070\n",
       "1455  2916   80412.021112\n",
       "1456  2917  162911.652723\n",
       "1457  2918  117614.923731\n",
       "1458  2919  220543.109583\n",
       "\n",
       "[1459 rows x 2 columns]"
      ]
     },
     "execution_count": 62,
     "metadata": {},
     "output_type": "execute_result"
    }
   ],
   "source": [
    "# check the final submission\n",
    "\n",
    "combined_test"
   ]
  },
  {
   "cell_type": "code",
   "execution_count": null,
   "metadata": {},
   "outputs": [],
   "source": [
    "# save results to csv\n",
    "\n",
    "# combined_test.to_csv('../data/test_preds5_lasso_log.csv', index=False)"
   ]
  },
  {
   "cell_type": "code",
   "execution_count": null,
   "metadata": {},
   "outputs": [],
   "source": [
    "# save results to csv - submission\n",
    "\n",
    "# combined_test.to_csv('../data/submission5.csv', index=False)"
   ]
  },
  {
   "cell_type": "code",
   "execution_count": null,
   "metadata": {},
   "outputs": [
    {
     "data": {
      "text/plain": [
       "0.42786479802143446"
      ]
     },
     "execution_count": 65,
     "metadata": {},
     "output_type": "execute_result"
    }
   ],
   "source": [
    "# calculate kaggle ranking, what percentage I am in\n",
    "\n",
    "1557/3639"
   ]
  },
  {
   "cell_type": "code",
   "execution_count": null,
   "metadata": {},
   "outputs": [],
   "source": []
  }
 ],
 "metadata": {
  "kernelspec": {
   "display_name": "Python 3",
   "language": "python",
   "name": "python3"
  },
  "language_info": {
   "codemirror_mode": {
    "name": "ipython",
    "version": 3
   },
   "file_extension": ".py",
   "mimetype": "text/x-python",
   "name": "python",
   "nbconvert_exporter": "python",
   "pygments_lexer": "ipython3",
   "version": "3.12.8"
  }
 },
 "nbformat": 4,
 "nbformat_minor": 2
}
